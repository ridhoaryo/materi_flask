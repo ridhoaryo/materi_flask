{
 "cells": [
  {
   "cell_type": "code",
   "execution_count": 4,
   "metadata": {},
   "outputs": [],
   "source": [
    "import numpy as np\n",
    "import pandas as pd\n",
    "import matplotlib.pyplot as plt\n",
    "import seaborn as sns\n",
    "from sklearn.model_selection import train_test_split\n",
    "from sklearn.tree import DecisionTreeClassifier\n",
    "from sklearn.model_selection import GridSearchCV\n",
    "from sklearn.metrics import classification_report, plot_confusion_matrix, confusion_matrix\n",
    "from sklearn.metrics import accuracy_score, roc_auc_score, f1_score, roc_curve, roc_auc_score, auc\n",
    "\n",
    "%matplotlib inline\n",
    "pd.set_option('display.max_columns', None)"
   ]
  },
  {
   "cell_type": "markdown",
   "metadata": {},
   "source": [
    "## Import the data"
   ]
  },
  {
   "cell_type": "code",
   "execution_count": 5,
   "metadata": {},
   "outputs": [
    {
     "name": "stderr",
     "output_type": "stream",
     "text": [
      "C:\\Users\\R7891\\Anaconda3\\lib\\importlib\\_bootstrap.py:219: RuntimeWarning: numpy.ufunc size changed, may indicate binary incompatibility. Expected 192 from C header, got 216 from PyObject\n",
      "  return f(*args, **kwds)\n"
     ]
    }
   ],
   "source": [
    "from sklearn.datasets import load_breast_cancer"
   ]
  },
  {
   "cell_type": "code",
   "execution_count": 6,
   "metadata": {},
   "outputs": [],
   "source": [
    "cancer = load_breast_cancer()"
   ]
  },
  {
   "cell_type": "code",
   "execution_count": 7,
   "metadata": {},
   "outputs": [
    {
     "data": {
      "text/plain": [
       "dict_keys(['data', 'target', 'target_names', 'DESCR', 'feature_names', 'filename'])"
      ]
     },
     "execution_count": 7,
     "metadata": {},
     "output_type": "execute_result"
    }
   ],
   "source": [
    "cancer.keys()"
   ]
  },
  {
   "cell_type": "code",
   "execution_count": 8,
   "metadata": {
    "scrolled": true
   },
   "outputs": [
    {
     "name": "stdout",
     "output_type": "stream",
     "text": [
      ".. _breast_cancer_dataset:\n",
      "\n",
      "Breast cancer wisconsin (diagnostic) dataset\n",
      "--------------------------------------------\n",
      "\n",
      "**Data Set Characteristics:**\n",
      "\n",
      "    :Number of Instances: 569\n",
      "\n",
      "    :Number of Attributes: 30 numeric, predictive attributes and the class\n",
      "\n",
      "    :Attribute Information:\n",
      "        - radius (mean of distances from center to points on the perimeter)\n",
      "        - texture (standard deviation of gray-scale values)\n",
      "        - perimeter\n",
      "        - area\n",
      "        - smoothness (local variation in radius lengths)\n",
      "        - compactness (perimeter^2 / area - 1.0)\n",
      "        - concavity (severity of concave portions of the contour)\n",
      "        - concave points (number of concave portions of the contour)\n",
      "        - symmetry \n",
      "        - fractal dimension (\"coastline approximation\" - 1)\n",
      "\n",
      "        The mean, standard error, and \"worst\" or largest (mean of the three\n",
      "        largest values) of these features were computed for each image,\n",
      "        resulting in 30 features.  For instance, field 3 is Mean Radius, field\n",
      "        13 is Radius SE, field 23 is Worst Radius.\n",
      "\n",
      "        - class:\n",
      "                - WDBC-Malignant\n",
      "                - WDBC-Benign\n",
      "\n",
      "    :Summary Statistics:\n",
      "\n",
      "    ===================================== ====== ======\n",
      "                                           Min    Max\n",
      "    ===================================== ====== ======\n",
      "    radius (mean):                        6.981  28.11\n",
      "    texture (mean):                       9.71   39.28\n",
      "    perimeter (mean):                     43.79  188.5\n",
      "    area (mean):                          143.5  2501.0\n",
      "    smoothness (mean):                    0.053  0.163\n",
      "    compactness (mean):                   0.019  0.345\n",
      "    concavity (mean):                     0.0    0.427\n",
      "    concave points (mean):                0.0    0.201\n",
      "    symmetry (mean):                      0.106  0.304\n",
      "    fractal dimension (mean):             0.05   0.097\n",
      "    radius (standard error):              0.112  2.873\n",
      "    texture (standard error):             0.36   4.885\n",
      "    perimeter (standard error):           0.757  21.98\n",
      "    area (standard error):                6.802  542.2\n",
      "    smoothness (standard error):          0.002  0.031\n",
      "    compactness (standard error):         0.002  0.135\n",
      "    concavity (standard error):           0.0    0.396\n",
      "    concave points (standard error):      0.0    0.053\n",
      "    symmetry (standard error):            0.008  0.079\n",
      "    fractal dimension (standard error):   0.001  0.03\n",
      "    radius (worst):                       7.93   36.04\n",
      "    texture (worst):                      12.02  49.54\n",
      "    perimeter (worst):                    50.41  251.2\n",
      "    area (worst):                         185.2  4254.0\n",
      "    smoothness (worst):                   0.071  0.223\n",
      "    compactness (worst):                  0.027  1.058\n",
      "    concavity (worst):                    0.0    1.252\n",
      "    concave points (worst):               0.0    0.291\n",
      "    symmetry (worst):                     0.156  0.664\n",
      "    fractal dimension (worst):            0.055  0.208\n",
      "    ===================================== ====== ======\n",
      "\n",
      "    :Missing Attribute Values: None\n",
      "\n",
      "    :Class Distribution: 212 - Malignant, 357 - Benign\n",
      "\n",
      "    :Creator:  Dr. William H. Wolberg, W. Nick Street, Olvi L. Mangasarian\n",
      "\n",
      "    :Donor: Nick Street\n",
      "\n",
      "    :Date: November, 1995\n",
      "\n",
      "This is a copy of UCI ML Breast Cancer Wisconsin (Diagnostic) datasets.\n",
      "https://goo.gl/U2Uwz2\n",
      "\n",
      "Features are computed from a digitized image of a fine needle\n",
      "aspirate (FNA) of a breast mass.  They describe\n",
      "characteristics of the cell nuclei present in the image.\n",
      "\n",
      "Separating plane described above was obtained using\n",
      "Multisurface Method-Tree (MSM-T) [K. P. Bennett, \"Decision Tree\n",
      "Construction Via Linear Programming.\" Proceedings of the 4th\n",
      "Midwest Artificial Intelligence and Cognitive Science Society,\n",
      "pp. 97-101, 1992], a classification method which uses linear\n",
      "programming to construct a decision tree.  Relevant features\n",
      "were selected using an exhaustive search in the space of 1-4\n",
      "features and 1-3 separating planes.\n",
      "\n",
      "The actual linear program used to obtain the separating plane\n",
      "in the 3-dimensional space is that described in:\n",
      "[K. P. Bennett and O. L. Mangasarian: \"Robust Linear\n",
      "Programming Discrimination of Two Linearly Inseparable Sets\",\n",
      "Optimization Methods and Software 1, 1992, 23-34].\n",
      "\n",
      "This database is also available through the UW CS ftp server:\n",
      "\n",
      "ftp ftp.cs.wisc.edu\n",
      "cd math-prog/cpo-dataset/machine-learn/WDBC/\n",
      "\n",
      ".. topic:: References\n",
      "\n",
      "   - W.N. Street, W.H. Wolberg and O.L. Mangasarian. Nuclear feature extraction \n",
      "     for breast tumor diagnosis. IS&T/SPIE 1993 International Symposium on \n",
      "     Electronic Imaging: Science and Technology, volume 1905, pages 861-870,\n",
      "     San Jose, CA, 1993.\n",
      "   - O.L. Mangasarian, W.N. Street and W.H. Wolberg. Breast cancer diagnosis and \n",
      "     prognosis via linear programming. Operations Research, 43(4), pages 570-577, \n",
      "     July-August 1995.\n",
      "   - W.H. Wolberg, W.N. Street, and O.L. Mangasarian. Machine learning techniques\n",
      "     to diagnose breast cancer from fine-needle aspirates. Cancer Letters 77 (1994) \n",
      "     163-171.\n"
     ]
    }
   ],
   "source": [
    "print(cancer['DESCR'])"
   ]
  },
  {
   "cell_type": "code",
   "execution_count": 9,
   "metadata": {},
   "outputs": [
    {
     "data": {
      "text/plain": [
       "array(['mean radius', 'mean texture', 'mean perimeter', 'mean area',\n",
       "       'mean smoothness', 'mean compactness', 'mean concavity',\n",
       "       'mean concave points', 'mean symmetry', 'mean fractal dimension',\n",
       "       'radius error', 'texture error', 'perimeter error', 'area error',\n",
       "       'smoothness error', 'compactness error', 'concavity error',\n",
       "       'concave points error', 'symmetry error',\n",
       "       'fractal dimension error', 'worst radius', 'worst texture',\n",
       "       'worst perimeter', 'worst area', 'worst smoothness',\n",
       "       'worst compactness', 'worst concavity', 'worst concave points',\n",
       "       'worst symmetry', 'worst fractal dimension'], dtype='<U23')"
      ]
     },
     "execution_count": 9,
     "metadata": {},
     "output_type": "execute_result"
    }
   ],
   "source": [
    "cancer['feature_names']"
   ]
  },
  {
   "cell_type": "code",
   "execution_count": 11,
   "metadata": {},
   "outputs": [
    {
     "data": {
      "text/html": [
       "<div>\n",
       "<style scoped>\n",
       "    .dataframe tbody tr th:only-of-type {\n",
       "        vertical-align: middle;\n",
       "    }\n",
       "\n",
       "    .dataframe tbody tr th {\n",
       "        vertical-align: top;\n",
       "    }\n",
       "\n",
       "    .dataframe thead th {\n",
       "        text-align: right;\n",
       "    }\n",
       "</style>\n",
       "<table border=\"1\" class=\"dataframe\">\n",
       "  <thead>\n",
       "    <tr style=\"text-align: right;\">\n",
       "      <th></th>\n",
       "      <th>mean radius</th>\n",
       "      <th>mean texture</th>\n",
       "      <th>mean perimeter</th>\n",
       "      <th>mean area</th>\n",
       "      <th>mean smoothness</th>\n",
       "      <th>mean compactness</th>\n",
       "      <th>mean concavity</th>\n",
       "      <th>mean concave points</th>\n",
       "      <th>mean symmetry</th>\n",
       "      <th>mean fractal dimension</th>\n",
       "      <th>radius error</th>\n",
       "      <th>texture error</th>\n",
       "      <th>perimeter error</th>\n",
       "      <th>area error</th>\n",
       "      <th>smoothness error</th>\n",
       "      <th>compactness error</th>\n",
       "      <th>concavity error</th>\n",
       "      <th>concave points error</th>\n",
       "      <th>symmetry error</th>\n",
       "      <th>fractal dimension error</th>\n",
       "      <th>worst radius</th>\n",
       "      <th>worst texture</th>\n",
       "      <th>worst perimeter</th>\n",
       "      <th>worst area</th>\n",
       "      <th>worst smoothness</th>\n",
       "      <th>worst compactness</th>\n",
       "      <th>worst concavity</th>\n",
       "      <th>worst concave points</th>\n",
       "      <th>worst symmetry</th>\n",
       "      <th>worst fractal dimension</th>\n",
       "      <th>benign</th>\n",
       "    </tr>\n",
       "  </thead>\n",
       "  <tbody>\n",
       "    <tr>\n",
       "      <th>0</th>\n",
       "      <td>17.99</td>\n",
       "      <td>10.38</td>\n",
       "      <td>122.80</td>\n",
       "      <td>1001.0</td>\n",
       "      <td>0.11840</td>\n",
       "      <td>0.27760</td>\n",
       "      <td>0.3001</td>\n",
       "      <td>0.14710</td>\n",
       "      <td>0.2419</td>\n",
       "      <td>0.07871</td>\n",
       "      <td>1.0950</td>\n",
       "      <td>0.9053</td>\n",
       "      <td>8.589</td>\n",
       "      <td>153.40</td>\n",
       "      <td>0.006399</td>\n",
       "      <td>0.04904</td>\n",
       "      <td>0.05373</td>\n",
       "      <td>0.01587</td>\n",
       "      <td>0.03003</td>\n",
       "      <td>0.006193</td>\n",
       "      <td>25.38</td>\n",
       "      <td>17.33</td>\n",
       "      <td>184.60</td>\n",
       "      <td>2019.0</td>\n",
       "      <td>0.1622</td>\n",
       "      <td>0.6656</td>\n",
       "      <td>0.7119</td>\n",
       "      <td>0.2654</td>\n",
       "      <td>0.4601</td>\n",
       "      <td>0.11890</td>\n",
       "      <td>0</td>\n",
       "    </tr>\n",
       "    <tr>\n",
       "      <th>1</th>\n",
       "      <td>20.57</td>\n",
       "      <td>17.77</td>\n",
       "      <td>132.90</td>\n",
       "      <td>1326.0</td>\n",
       "      <td>0.08474</td>\n",
       "      <td>0.07864</td>\n",
       "      <td>0.0869</td>\n",
       "      <td>0.07017</td>\n",
       "      <td>0.1812</td>\n",
       "      <td>0.05667</td>\n",
       "      <td>0.5435</td>\n",
       "      <td>0.7339</td>\n",
       "      <td>3.398</td>\n",
       "      <td>74.08</td>\n",
       "      <td>0.005225</td>\n",
       "      <td>0.01308</td>\n",
       "      <td>0.01860</td>\n",
       "      <td>0.01340</td>\n",
       "      <td>0.01389</td>\n",
       "      <td>0.003532</td>\n",
       "      <td>24.99</td>\n",
       "      <td>23.41</td>\n",
       "      <td>158.80</td>\n",
       "      <td>1956.0</td>\n",
       "      <td>0.1238</td>\n",
       "      <td>0.1866</td>\n",
       "      <td>0.2416</td>\n",
       "      <td>0.1860</td>\n",
       "      <td>0.2750</td>\n",
       "      <td>0.08902</td>\n",
       "      <td>0</td>\n",
       "    </tr>\n",
       "    <tr>\n",
       "      <th>2</th>\n",
       "      <td>19.69</td>\n",
       "      <td>21.25</td>\n",
       "      <td>130.00</td>\n",
       "      <td>1203.0</td>\n",
       "      <td>0.10960</td>\n",
       "      <td>0.15990</td>\n",
       "      <td>0.1974</td>\n",
       "      <td>0.12790</td>\n",
       "      <td>0.2069</td>\n",
       "      <td>0.05999</td>\n",
       "      <td>0.7456</td>\n",
       "      <td>0.7869</td>\n",
       "      <td>4.585</td>\n",
       "      <td>94.03</td>\n",
       "      <td>0.006150</td>\n",
       "      <td>0.04006</td>\n",
       "      <td>0.03832</td>\n",
       "      <td>0.02058</td>\n",
       "      <td>0.02250</td>\n",
       "      <td>0.004571</td>\n",
       "      <td>23.57</td>\n",
       "      <td>25.53</td>\n",
       "      <td>152.50</td>\n",
       "      <td>1709.0</td>\n",
       "      <td>0.1444</td>\n",
       "      <td>0.4245</td>\n",
       "      <td>0.4504</td>\n",
       "      <td>0.2430</td>\n",
       "      <td>0.3613</td>\n",
       "      <td>0.08758</td>\n",
       "      <td>0</td>\n",
       "    </tr>\n",
       "    <tr>\n",
       "      <th>3</th>\n",
       "      <td>11.42</td>\n",
       "      <td>20.38</td>\n",
       "      <td>77.58</td>\n",
       "      <td>386.1</td>\n",
       "      <td>0.14250</td>\n",
       "      <td>0.28390</td>\n",
       "      <td>0.2414</td>\n",
       "      <td>0.10520</td>\n",
       "      <td>0.2597</td>\n",
       "      <td>0.09744</td>\n",
       "      <td>0.4956</td>\n",
       "      <td>1.1560</td>\n",
       "      <td>3.445</td>\n",
       "      <td>27.23</td>\n",
       "      <td>0.009110</td>\n",
       "      <td>0.07458</td>\n",
       "      <td>0.05661</td>\n",
       "      <td>0.01867</td>\n",
       "      <td>0.05963</td>\n",
       "      <td>0.009208</td>\n",
       "      <td>14.91</td>\n",
       "      <td>26.50</td>\n",
       "      <td>98.87</td>\n",
       "      <td>567.7</td>\n",
       "      <td>0.2098</td>\n",
       "      <td>0.8663</td>\n",
       "      <td>0.6869</td>\n",
       "      <td>0.2575</td>\n",
       "      <td>0.6638</td>\n",
       "      <td>0.17300</td>\n",
       "      <td>0</td>\n",
       "    </tr>\n",
       "    <tr>\n",
       "      <th>4</th>\n",
       "      <td>20.29</td>\n",
       "      <td>14.34</td>\n",
       "      <td>135.10</td>\n",
       "      <td>1297.0</td>\n",
       "      <td>0.10030</td>\n",
       "      <td>0.13280</td>\n",
       "      <td>0.1980</td>\n",
       "      <td>0.10430</td>\n",
       "      <td>0.1809</td>\n",
       "      <td>0.05883</td>\n",
       "      <td>0.7572</td>\n",
       "      <td>0.7813</td>\n",
       "      <td>5.438</td>\n",
       "      <td>94.44</td>\n",
       "      <td>0.011490</td>\n",
       "      <td>0.02461</td>\n",
       "      <td>0.05688</td>\n",
       "      <td>0.01885</td>\n",
       "      <td>0.01756</td>\n",
       "      <td>0.005115</td>\n",
       "      <td>22.54</td>\n",
       "      <td>16.67</td>\n",
       "      <td>152.20</td>\n",
       "      <td>1575.0</td>\n",
       "      <td>0.1374</td>\n",
       "      <td>0.2050</td>\n",
       "      <td>0.4000</td>\n",
       "      <td>0.1625</td>\n",
       "      <td>0.2364</td>\n",
       "      <td>0.07678</td>\n",
       "      <td>0</td>\n",
       "    </tr>\n",
       "  </tbody>\n",
       "</table>\n",
       "</div>"
      ],
      "text/plain": [
       "   mean radius  mean texture  mean perimeter  mean area  mean smoothness  \\\n",
       "0        17.99         10.38          122.80     1001.0          0.11840   \n",
       "1        20.57         17.77          132.90     1326.0          0.08474   \n",
       "2        19.69         21.25          130.00     1203.0          0.10960   \n",
       "3        11.42         20.38           77.58      386.1          0.14250   \n",
       "4        20.29         14.34          135.10     1297.0          0.10030   \n",
       "\n",
       "   mean compactness  mean concavity  mean concave points  mean symmetry  \\\n",
       "0           0.27760          0.3001              0.14710         0.2419   \n",
       "1           0.07864          0.0869              0.07017         0.1812   \n",
       "2           0.15990          0.1974              0.12790         0.2069   \n",
       "3           0.28390          0.2414              0.10520         0.2597   \n",
       "4           0.13280          0.1980              0.10430         0.1809   \n",
       "\n",
       "   mean fractal dimension  radius error  texture error  perimeter error  \\\n",
       "0                 0.07871        1.0950         0.9053            8.589   \n",
       "1                 0.05667        0.5435         0.7339            3.398   \n",
       "2                 0.05999        0.7456         0.7869            4.585   \n",
       "3                 0.09744        0.4956         1.1560            3.445   \n",
       "4                 0.05883        0.7572         0.7813            5.438   \n",
       "\n",
       "   area error  smoothness error  compactness error  concavity error  \\\n",
       "0      153.40          0.006399            0.04904          0.05373   \n",
       "1       74.08          0.005225            0.01308          0.01860   \n",
       "2       94.03          0.006150            0.04006          0.03832   \n",
       "3       27.23          0.009110            0.07458          0.05661   \n",
       "4       94.44          0.011490            0.02461          0.05688   \n",
       "\n",
       "   concave points error  symmetry error  fractal dimension error  \\\n",
       "0               0.01587         0.03003                 0.006193   \n",
       "1               0.01340         0.01389                 0.003532   \n",
       "2               0.02058         0.02250                 0.004571   \n",
       "3               0.01867         0.05963                 0.009208   \n",
       "4               0.01885         0.01756                 0.005115   \n",
       "\n",
       "   worst radius  worst texture  worst perimeter  worst area  worst smoothness  \\\n",
       "0         25.38          17.33           184.60      2019.0            0.1622   \n",
       "1         24.99          23.41           158.80      1956.0            0.1238   \n",
       "2         23.57          25.53           152.50      1709.0            0.1444   \n",
       "3         14.91          26.50            98.87       567.7            0.2098   \n",
       "4         22.54          16.67           152.20      1575.0            0.1374   \n",
       "\n",
       "   worst compactness  worst concavity  worst concave points  worst symmetry  \\\n",
       "0             0.6656           0.7119                0.2654          0.4601   \n",
       "1             0.1866           0.2416                0.1860          0.2750   \n",
       "2             0.4245           0.4504                0.2430          0.3613   \n",
       "3             0.8663           0.6869                0.2575          0.6638   \n",
       "4             0.2050           0.4000                0.1625          0.2364   \n",
       "\n",
       "   worst fractal dimension  benign  \n",
       "0                  0.11890       0  \n",
       "1                  0.08902       0  \n",
       "2                  0.08758       0  \n",
       "3                  0.17300       0  \n",
       "4                  0.07678       0  "
      ]
     },
     "execution_count": 11,
     "metadata": {},
     "output_type": "execute_result"
    }
   ],
   "source": [
    "df = pd.DataFrame(cancer['data'], columns=cancer['feature_names'])\n",
    "df['benign'] = cancer['target']\n",
    "df.head()"
   ]
  },
  {
   "cell_type": "code",
   "execution_count": 12,
   "metadata": {},
   "outputs": [
    {
     "name": "stdout",
     "output_type": "stream",
     "text": [
      "<class 'pandas.core.frame.DataFrame'>\n",
      "RangeIndex: 569 entries, 0 to 568\n",
      "Data columns (total 31 columns):\n",
      " #   Column                   Non-Null Count  Dtype  \n",
      "---  ------                   --------------  -----  \n",
      " 0   mean radius              569 non-null    float64\n",
      " 1   mean texture             569 non-null    float64\n",
      " 2   mean perimeter           569 non-null    float64\n",
      " 3   mean area                569 non-null    float64\n",
      " 4   mean smoothness          569 non-null    float64\n",
      " 5   mean compactness         569 non-null    float64\n",
      " 6   mean concavity           569 non-null    float64\n",
      " 7   mean concave points      569 non-null    float64\n",
      " 8   mean symmetry            569 non-null    float64\n",
      " 9   mean fractal dimension   569 non-null    float64\n",
      " 10  radius error             569 non-null    float64\n",
      " 11  texture error            569 non-null    float64\n",
      " 12  perimeter error          569 non-null    float64\n",
      " 13  area error               569 non-null    float64\n",
      " 14  smoothness error         569 non-null    float64\n",
      " 15  compactness error        569 non-null    float64\n",
      " 16  concavity error          569 non-null    float64\n",
      " 17  concave points error     569 non-null    float64\n",
      " 18  symmetry error           569 non-null    float64\n",
      " 19  fractal dimension error  569 non-null    float64\n",
      " 20  worst radius             569 non-null    float64\n",
      " 21  worst texture            569 non-null    float64\n",
      " 22  worst perimeter          569 non-null    float64\n",
      " 23  worst area               569 non-null    float64\n",
      " 24  worst smoothness         569 non-null    float64\n",
      " 25  worst compactness        569 non-null    float64\n",
      " 26  worst concavity          569 non-null    float64\n",
      " 27  worst concave points     569 non-null    float64\n",
      " 28  worst symmetry           569 non-null    float64\n",
      " 29  worst fractal dimension  569 non-null    float64\n",
      " 30  benign                   569 non-null    int32  \n",
      "dtypes: float64(30), int32(1)\n",
      "memory usage: 135.7 KB\n"
     ]
    }
   ],
   "source": [
    "df.info()"
   ]
  },
  {
   "cell_type": "code",
   "execution_count": 13,
   "metadata": {},
   "outputs": [
    {
     "data": {
      "text/plain": [
       "<matplotlib.axes._subplots.AxesSubplot at 0x17c44442248>"
      ]
     },
     "execution_count": 13,
     "metadata": {},
     "output_type": "execute_result"
    },
    {
     "data": {
      "image/png": "[encoded data removed]",
      "text/plain": [
       "<Figure size 1152x720 with 2 Axes>"
      ]
     },
     "metadata": {
      "needs_background": "light"
     },
     "output_type": "display_data"
    }
   ],
   "source": [
    "plt.figure(figsize=(16,10))\n",
    "sns.heatmap(df.corr())"
   ]
  },
  {
   "cell_type": "code",
   "execution_count": 14,
   "metadata": {},
   "outputs": [
    {
     "data": {
      "text/plain": [
       "<matplotlib.axes._subplots.AxesSubplot at 0x17c4460a8c8>"
      ]
     },
     "execution_count": 14,
     "metadata": {},
     "output_type": "execute_result"
    },
    {
     "data": {
      "image/png": "[encoded data removed]",
      "text/plain": [
       "<Figure size 432x288 with 1 Axes>"
      ]
     },
     "metadata": {
      "needs_background": "light"
     },
     "output_type": "display_data"
    }
   ],
   "source": [
    "sns.countplot(x='benign', data=df)"
   ]
  },
  {
   "cell_type": "code",
   "execution_count": 15,
   "metadata": {},
   "outputs": [
    {
     "data": {
      "text/plain": [
       "1    357\n",
       "0    212\n",
       "Name: benign, dtype: int64"
      ]
     },
     "execution_count": 15,
     "metadata": {},
     "output_type": "execute_result"
    }
   ],
   "source": [
    "df['benign'].value_counts()"
   ]
  },
  {
   "cell_type": "markdown",
   "metadata": {},
   "source": [
    "## AdaBoost\n",
    "\n",
    "Cited from sklearn:\n",
    "\n",
    "An AdaBoost classifier is a meta-estimator that begins by fitting a classifier on the original dataset and then fits additional copies of the classifier on the same dataset but where the weights of incorrectly classified instances are adjusted such that subsequent classifiers focus more on difficult cases. In AdaBoost, we would have two kind of weight; the observation weight and the classifier weight.\n",
    "\n",
    "Using AdaBoost classifier, our target class would be always $y = \\left\\{1, -1\\right\\}$ where positive 1 is represent the positive class and negative 1 (-1) is represent the negative class. \n",
    "\n",
    "In AdaBoost, we could let the classifier equation as below:\n",
    "\n",
    "$$ Gm(x) m=1,2,...,M$$ \n",
    "\n",
    "Where $Gm(x)$ is our boosted classifier and M is the sequence of our weak classifiers, and our objective is:\n",
    "\n",
    "$$G(x)=sign(α_1G_1(x)+α_2G_2(x)+...α_MG_M(x))=sign(\\sum_{m=1}^{M}α_mG_m(x))$$\n",
    "\n",
    "where $α$ is the classifier weight, and sign is represent the positive or negative (depend on what class is predicted)\n",
    "\n",
    "In the first step, Initialize the obervation weights $w_i=1/N$ for every observation on the data. \n",
    "\n",
    "for $m=1,2,...,M$\n",
    "\n",
    "- Compute the weighted error $Err_m=\\large\\frac{\\sum_{i=1}^{N}w_iI(y(i)≠Gm(x(i)))}{\\sum_{i=1}^{N}w_i}$ , where we sum the weight of the misclassified data divided by the sum of all the data weight \n",
    "- Compute the estimator coefficient $α_m=L*log(\\frac{1−err_m}{err_m})$ where $L≤1$ is the learning rate\n",
    "- Set data weights $w_i←w_i*exp[α_mI(y(i)≠Gm(x(i)))]$ which mean if it is misclassified, the observed data would be updated as $\\large w_i * e^{α_m}$ else it updated as $\\large w_i * e^{-α_m}$\n",
    "- Normalized the weight data in each step by $w_i←\\frac{w_i}{\\sum_{i=1}^{N}w_i}$\n",
    "\n",
    "The expected output would be the sum of the classifier weight multiply by the predicted target class. For example if we have 3 classifier which predict 1, 1, -1. The sum would be 1, which mean the prediction would be the positive class, but if we the weight of the classifier is 0.3, 0.1, 1 then the sum would be 0.3 * 1 + 0.1 * 1 + 1 * -1 which equal to -0.6, then our prediction would come to the negative class "
   ]
  },
  {
   "cell_type": "code",
   "execution_count": 16,
   "metadata": {},
   "outputs": [],
   "source": [
    "from sklearn.ensemble import AdaBoostClassifier"
   ]
  },
  {
   "cell_type": "code",
   "execution_count": 20,
   "metadata": {},
   "outputs": [
    {
     "name": "stderr",
     "output_type": "stream",
     "text": [
      "C:\\Users\\R7891\\Anaconda3\\lib\\site-packages\\ipykernel_launcher.py:2: SettingWithCopyWarning: \n",
      "A value is trying to be set on a copy of a slice from a DataFrame.\n",
      "Try using .loc[row_indexer,col_indexer] = value instead\n",
      "\n",
      "See the caveats in the documentation: https://pandas.pydata.org/pandas-docs/stable/user_guide/indexing.html#returning-a-view-versus-a-copy\n",
      "  \n"
     ]
    },
    {
     "data": {
      "text/html": [
       "<div>\n",
       "<style scoped>\n",
       "    .dataframe tbody tr th:only-of-type {\n",
       "        vertical-align: middle;\n",
       "    }\n",
       "\n",
       "    .dataframe tbody tr th {\n",
       "        vertical-align: top;\n",
       "    }\n",
       "\n",
       "    .dataframe thead th {\n",
       "        text-align: right;\n",
       "    }\n",
       "</style>\n",
       "<table border=\"1\" class=\"dataframe\">\n",
       "  <thead>\n",
       "    <tr style=\"text-align: right;\">\n",
       "      <th></th>\n",
       "      <th>worst concave points</th>\n",
       "      <th>worst perimeter</th>\n",
       "      <th>mean concave points</th>\n",
       "      <th>worst radius</th>\n",
       "      <th>mean perimeter</th>\n",
       "      <th>worst area</th>\n",
       "      <th>mean radius</th>\n",
       "      <th>mean area</th>\n",
       "      <th>mean concavity</th>\n",
       "      <th>worst concavity</th>\n",
       "      <th>benign</th>\n",
       "    </tr>\n",
       "  </thead>\n",
       "  <tbody>\n",
       "    <tr>\n",
       "      <th>0</th>\n",
       "      <td>0.2654</td>\n",
       "      <td>184.60</td>\n",
       "      <td>0.14710</td>\n",
       "      <td>25.380</td>\n",
       "      <td>122.80</td>\n",
       "      <td>2019.0</td>\n",
       "      <td>17.99</td>\n",
       "      <td>1001.0</td>\n",
       "      <td>0.30010</td>\n",
       "      <td>0.7119</td>\n",
       "      <td>0</td>\n",
       "    </tr>\n",
       "    <tr>\n",
       "      <th>1</th>\n",
       "      <td>0.1860</td>\n",
       "      <td>158.80</td>\n",
       "      <td>0.07017</td>\n",
       "      <td>24.990</td>\n",
       "      <td>132.90</td>\n",
       "      <td>1956.0</td>\n",
       "      <td>20.57</td>\n",
       "      <td>1326.0</td>\n",
       "      <td>0.08690</td>\n",
       "      <td>0.2416</td>\n",
       "      <td>0</td>\n",
       "    </tr>\n",
       "    <tr>\n",
       "      <th>2</th>\n",
       "      <td>0.2430</td>\n",
       "      <td>152.50</td>\n",
       "      <td>0.12790</td>\n",
       "      <td>23.570</td>\n",
       "      <td>130.00</td>\n",
       "      <td>1709.0</td>\n",
       "      <td>19.69</td>\n",
       "      <td>1203.0</td>\n",
       "      <td>0.19740</td>\n",
       "      <td>0.4504</td>\n",
       "      <td>0</td>\n",
       "    </tr>\n",
       "    <tr>\n",
       "      <th>3</th>\n",
       "      <td>0.2575</td>\n",
       "      <td>98.87</td>\n",
       "      <td>0.10520</td>\n",
       "      <td>14.910</td>\n",
       "      <td>77.58</td>\n",
       "      <td>567.7</td>\n",
       "      <td>11.42</td>\n",
       "      <td>386.1</td>\n",
       "      <td>0.24140</td>\n",
       "      <td>0.6869</td>\n",
       "      <td>0</td>\n",
       "    </tr>\n",
       "    <tr>\n",
       "      <th>4</th>\n",
       "      <td>0.1625</td>\n",
       "      <td>152.20</td>\n",
       "      <td>0.10430</td>\n",
       "      <td>22.540</td>\n",
       "      <td>135.10</td>\n",
       "      <td>1575.0</td>\n",
       "      <td>20.29</td>\n",
       "      <td>1297.0</td>\n",
       "      <td>0.19800</td>\n",
       "      <td>0.4000</td>\n",
       "      <td>0</td>\n",
       "    </tr>\n",
       "    <tr>\n",
       "      <th>...</th>\n",
       "      <td>...</td>\n",
       "      <td>...</td>\n",
       "      <td>...</td>\n",
       "      <td>...</td>\n",
       "      <td>...</td>\n",
       "      <td>...</td>\n",
       "      <td>...</td>\n",
       "      <td>...</td>\n",
       "      <td>...</td>\n",
       "      <td>...</td>\n",
       "      <td>...</td>\n",
       "    </tr>\n",
       "    <tr>\n",
       "      <th>564</th>\n",
       "      <td>0.2216</td>\n",
       "      <td>166.10</td>\n",
       "      <td>0.13890</td>\n",
       "      <td>25.450</td>\n",
       "      <td>142.00</td>\n",
       "      <td>2027.0</td>\n",
       "      <td>21.56</td>\n",
       "      <td>1479.0</td>\n",
       "      <td>0.24390</td>\n",
       "      <td>0.4107</td>\n",
       "      <td>0</td>\n",
       "    </tr>\n",
       "    <tr>\n",
       "      <th>565</th>\n",
       "      <td>0.1628</td>\n",
       "      <td>155.00</td>\n",
       "      <td>0.09791</td>\n",
       "      <td>23.690</td>\n",
       "      <td>131.20</td>\n",
       "      <td>1731.0</td>\n",
       "      <td>20.13</td>\n",
       "      <td>1261.0</td>\n",
       "      <td>0.14400</td>\n",
       "      <td>0.3215</td>\n",
       "      <td>0</td>\n",
       "    </tr>\n",
       "    <tr>\n",
       "      <th>566</th>\n",
       "      <td>0.1418</td>\n",
       "      <td>126.70</td>\n",
       "      <td>0.05302</td>\n",
       "      <td>18.980</td>\n",
       "      <td>108.30</td>\n",
       "      <td>1124.0</td>\n",
       "      <td>16.60</td>\n",
       "      <td>858.1</td>\n",
       "      <td>0.09251</td>\n",
       "      <td>0.3403</td>\n",
       "      <td>0</td>\n",
       "    </tr>\n",
       "    <tr>\n",
       "      <th>567</th>\n",
       "      <td>0.2650</td>\n",
       "      <td>184.60</td>\n",
       "      <td>0.15200</td>\n",
       "      <td>25.740</td>\n",
       "      <td>140.10</td>\n",
       "      <td>1821.0</td>\n",
       "      <td>20.60</td>\n",
       "      <td>1265.0</td>\n",
       "      <td>0.35140</td>\n",
       "      <td>0.9387</td>\n",
       "      <td>0</td>\n",
       "    </tr>\n",
       "    <tr>\n",
       "      <th>568</th>\n",
       "      <td>0.0000</td>\n",
       "      <td>59.16</td>\n",
       "      <td>0.00000</td>\n",
       "      <td>9.456</td>\n",
       "      <td>47.92</td>\n",
       "      <td>268.6</td>\n",
       "      <td>7.76</td>\n",
       "      <td>181.0</td>\n",
       "      <td>0.00000</td>\n",
       "      <td>0.0000</td>\n",
       "      <td>1</td>\n",
       "    </tr>\n",
       "  </tbody>\n",
       "</table>\n",
       "<p>569 rows × 11 columns</p>\n",
       "</div>"
      ],
      "text/plain": [
       "     worst concave points  worst perimeter  mean concave points  worst radius  \\\n",
       "0                  0.2654           184.60              0.14710        25.380   \n",
       "1                  0.1860           158.80              0.07017        24.990   \n",
       "2                  0.2430           152.50              0.12790        23.570   \n",
       "3                  0.2575            98.87              0.10520        14.910   \n",
       "4                  0.1625           152.20              0.10430        22.540   \n",
       "..                    ...              ...                  ...           ...   \n",
       "564                0.2216           166.10              0.13890        25.450   \n",
       "565                0.1628           155.00              0.09791        23.690   \n",
       "566                0.1418           126.70              0.05302        18.980   \n",
       "567                0.2650           184.60              0.15200        25.740   \n",
       "568                0.0000            59.16              0.00000         9.456   \n",
       "\n",
       "     mean perimeter  worst area  mean radius  mean area  mean concavity  \\\n",
       "0            122.80      2019.0        17.99     1001.0         0.30010   \n",
       "1            132.90      1956.0        20.57     1326.0         0.08690   \n",
       "2            130.00      1709.0        19.69     1203.0         0.19740   \n",
       "3             77.58       567.7        11.42      386.1         0.24140   \n",
       "4            135.10      1575.0        20.29     1297.0         0.19800   \n",
       "..              ...         ...          ...        ...             ...   \n",
       "564          142.00      2027.0        21.56     1479.0         0.24390   \n",
       "565          131.20      1731.0        20.13     1261.0         0.14400   \n",
       "566          108.30      1124.0        16.60      858.1         0.09251   \n",
       "567          140.10      1821.0        20.60     1265.0         0.35140   \n",
       "568           47.92       268.6         7.76      181.0         0.00000   \n",
       "\n",
       "     worst concavity  benign  \n",
       "0             0.7119       0  \n",
       "1             0.2416       0  \n",
       "2             0.4504       0  \n",
       "3             0.6869       0  \n",
       "4             0.4000       0  \n",
       "..               ...     ...  \n",
       "564           0.4107       0  \n",
       "565           0.3215       0  \n",
       "566           0.3403       0  \n",
       "567           0.9387       0  \n",
       "568           0.0000       1  \n",
       "\n",
       "[569 rows x 11 columns]"
      ]
     },
     "execution_count": 20,
     "metadata": {},
     "output_type": "execute_result"
    }
   ],
   "source": [
    "best10 = df[df.corr()['benign'].sort_values(ascending=True).head(10).index]\n",
    "best10['benign'] = cancer['target']\n",
    "best10"
   ]
  },
  {
   "cell_type": "code",
   "execution_count": 21,
   "metadata": {},
   "outputs": [],
   "source": [
    "dt = DecisionTreeClassifier(min_samples_split=2, min_samples_leaf=5, max_depth=1)"
   ]
  },
  {
   "cell_type": "code",
   "execution_count": 22,
   "metadata": {},
   "outputs": [],
   "source": [
    "ada = AdaBoostClassifier(base_estimator=dt, n_estimators=1000, learning_rate=0.1, algorithm='SAMME')"
   ]
  },
  {
   "cell_type": "code",
   "execution_count": 24,
   "metadata": {},
   "outputs": [],
   "source": [
    "X = best10.drop('benign', axis=1)\n",
    "y = best10['benign']\n",
    "X_train, X_test, y_train, y_test = train_test_split(X, y, test_size=0.2, random_state=100)"
   ]
  },
  {
   "cell_type": "code",
   "execution_count": 25,
   "metadata": {},
   "outputs": [
    {
     "data": {
      "text/plain": [
       "DecisionTreeClassifier(ccp_alpha=0.0, class_weight=None, criterion='gini',\n",
       "                       max_depth=1, max_features=None, max_leaf_nodes=None,\n",
       "                       min_impurity_decrease=0.0, min_impurity_split=None,\n",
       "                       min_samples_leaf=5, min_samples_split=2,\n",
       "                       min_weight_fraction_leaf=0.0, presort='deprecated',\n",
       "                       random_state=None, splitter='best')"
      ]
     },
     "execution_count": 25,
     "metadata": {},
     "output_type": "execute_result"
    }
   ],
   "source": [
    "dt.fit(X_train, y_train)"
   ]
  },
  {
   "cell_type": "code",
   "execution_count": 26,
   "metadata": {},
   "outputs": [
    {
     "data": {
      "text/plain": [
       "AdaBoostClassifier(algorithm='SAMME',\n",
       "                   base_estimator=DecisionTreeClassifier(ccp_alpha=0.0,\n",
       "                                                         class_weight=None,\n",
       "                                                         criterion='gini',\n",
       "                                                         max_depth=1,\n",
       "                                                         max_features=None,\n",
       "                                                         max_leaf_nodes=None,\n",
       "                                                         min_impurity_decrease=0.0,\n",
       "                                                         min_impurity_split=None,\n",
       "                                                         min_samples_leaf=5,\n",
       "                                                         min_samples_split=2,\n",
       "                                                         min_weight_fraction_leaf=0.0,\n",
       "                                                         presort='deprecated',\n",
       "                                                         random_state=None,\n",
       "                                                         splitter='best'),\n",
       "                   learning_rate=0.1, n_estimators=1000, random_state=None)"
      ]
     },
     "execution_count": 26,
     "metadata": {},
     "output_type": "execute_result"
    }
   ],
   "source": [
    "ada.fit(X_train, y_train)"
   ]
  },
  {
   "cell_type": "code",
   "execution_count": 27,
   "metadata": {},
   "outputs": [
    {
     "data": {
      "text/plain": [
       "array([0.18698427, 0.22163256, 0.13712992, 0.02008301, 0.08499486,\n",
       "       0.16721921, 0.        , 0.00898794, 0.06668694, 0.10628129])"
      ]
     },
     "execution_count": 27,
     "metadata": {},
     "output_type": "execute_result"
    }
   ],
   "source": [
    "ada.feature_importances_"
   ]
  },
  {
   "cell_type": "code",
   "execution_count": 28,
   "metadata": {},
   "outputs": [],
   "source": [
    "adadf = pd.DataFrame({'features': X_train.columns, 'importances': ada.feature_importances_})\n",
    "adadf.sort_values('importances', ascending=False, inplace=True)"
   ]
  },
  {
   "cell_type": "code",
   "execution_count": 29,
   "metadata": {},
   "outputs": [
    {
     "data": {
      "text/html": [
       "<div>\n",
       "<style scoped>\n",
       "    .dataframe tbody tr th:only-of-type {\n",
       "        vertical-align: middle;\n",
       "    }\n",
       "\n",
       "    .dataframe tbody tr th {\n",
       "        vertical-align: top;\n",
       "    }\n",
       "\n",
       "    .dataframe thead th {\n",
       "        text-align: right;\n",
       "    }\n",
       "</style>\n",
       "<table border=\"1\" class=\"dataframe\">\n",
       "  <thead>\n",
       "    <tr style=\"text-align: right;\">\n",
       "      <th></th>\n",
       "      <th>features</th>\n",
       "      <th>importances</th>\n",
       "    </tr>\n",
       "  </thead>\n",
       "  <tbody>\n",
       "    <tr>\n",
       "      <th>1</th>\n",
       "      <td>worst perimeter</td>\n",
       "      <td>0.221633</td>\n",
       "    </tr>\n",
       "    <tr>\n",
       "      <th>0</th>\n",
       "      <td>worst concave points</td>\n",
       "      <td>0.186984</td>\n",
       "    </tr>\n",
       "    <tr>\n",
       "      <th>5</th>\n",
       "      <td>worst area</td>\n",
       "      <td>0.167219</td>\n",
       "    </tr>\n",
       "    <tr>\n",
       "      <th>2</th>\n",
       "      <td>mean concave points</td>\n",
       "      <td>0.137130</td>\n",
       "    </tr>\n",
       "    <tr>\n",
       "      <th>9</th>\n",
       "      <td>worst concavity</td>\n",
       "      <td>0.106281</td>\n",
       "    </tr>\n",
       "    <tr>\n",
       "      <th>4</th>\n",
       "      <td>mean perimeter</td>\n",
       "      <td>0.084995</td>\n",
       "    </tr>\n",
       "    <tr>\n",
       "      <th>8</th>\n",
       "      <td>mean concavity</td>\n",
       "      <td>0.066687</td>\n",
       "    </tr>\n",
       "    <tr>\n",
       "      <th>3</th>\n",
       "      <td>worst radius</td>\n",
       "      <td>0.020083</td>\n",
       "    </tr>\n",
       "    <tr>\n",
       "      <th>7</th>\n",
       "      <td>mean area</td>\n",
       "      <td>0.008988</td>\n",
       "    </tr>\n",
       "    <tr>\n",
       "      <th>6</th>\n",
       "      <td>mean radius</td>\n",
       "      <td>0.000000</td>\n",
       "    </tr>\n",
       "  </tbody>\n",
       "</table>\n",
       "</div>"
      ],
      "text/plain": [
       "               features  importances\n",
       "1       worst perimeter     0.221633\n",
       "0  worst concave points     0.186984\n",
       "5            worst area     0.167219\n",
       "2   mean concave points     0.137130\n",
       "9       worst concavity     0.106281\n",
       "4        mean perimeter     0.084995\n",
       "8        mean concavity     0.066687\n",
       "3          worst radius     0.020083\n",
       "7             mean area     0.008988\n",
       "6           mean radius     0.000000"
      ]
     },
     "execution_count": 29,
     "metadata": {},
     "output_type": "execute_result"
    }
   ],
   "source": [
    "adadf"
   ]
  },
  {
   "cell_type": "code",
   "execution_count": 31,
   "metadata": {},
   "outputs": [
    {
     "data": {
      "text/plain": [
       "(array([0, 1, 2, 3, 4, 5, 6, 7, 8, 9]), <a list of 10 Text xticklabel objects>)"
      ]
     },
     "execution_count": 31,
     "metadata": {},
     "output_type": "execute_result"
    },
    {
     "data": {
      "image/png": "[encoded data removed]",
      "text/plain": [
       "<Figure size 432x288 with 1 Axes>"
      ]
     },
     "metadata": {
      "needs_background": "light"
     },
     "output_type": "display_data"
    }
   ],
   "source": [
    "sns.barplot(x='features', y='importances', data=adadf)\n",
    "plt.xticks(rotation=45)"
   ]
  },
  {
   "cell_type": "code",
   "execution_count": 34,
   "metadata": {
    "scrolled": true
   },
   "outputs": [
    {
     "data": {
      "text/plain": [
       "array([0.24245635, 0.2343393 , 0.22240316, 0.21854419, 0.20619698,\n",
       "       0.19578849, 0.18523225, 0.17434762, 0.1731999 , 0.15615459,\n",
       "       0.15265945, 0.14149331, 0.13735447, 0.13131714, 0.1230473 ,\n",
       "       0.12027826, 0.10791068, 0.11736522, 0.10460084, 0.08241246,\n",
       "       0.09622954, 0.0779016 , 0.09232614, 0.08412382, 0.07693581,\n",
       "       0.06924223, 0.08221854, 0.07829777, 0.06904023, 0.08275208,\n",
       "       0.07522467, 0.06153238, 0.07456566, 0.05863948, 0.06770484,\n",
       "       0.0561334 , 0.06698958, 0.04964295, 0.06218503, 0.04796875,\n",
       "       0.07361601, 0.05500055, 0.04974842, 0.06979835, 0.04294063,\n",
       "       0.05191069, 0.04193036, 0.04964569, 0.04688699, 0.04843504,\n",
       "       0.04056724, 0.04662776, 0.04501844, 0.04542518, 0.03919509,\n",
       "       0.04401452, 0.03823266, 0.04270975, 0.04292901, 0.04174684,\n",
       "       0.03688773, 0.04323054, 0.03614155, 0.03937196, 0.04108421,\n",
       "       0.03831788, 0.03479847, 0.03767163, 0.033987  , 0.03668839,\n",
       "       0.03889649, 0.03845932, 0.03323341, 0.03444495, 0.03799642,\n",
       "       0.03417792, 0.03191628, 0.03328398, 0.03116805, 0.03541449,\n",
       "       0.03619202, 0.03209549, 0.03014621, 0.03140767, 0.02947746,\n",
       "       0.03079777, 0.03456183, 0.03036776, 0.0283798 , 0.02991971,\n",
       "       0.0279174 , 0.03180557, 0.02781089, 0.02865444, 0.03259284,\n",
       "       0.02822126, 0.02676911, 0.02790603, 0.02625748, 0.02719845,\n",
       "       0.02609133, 0.02951774, 0.02574565, 0.02614741, 0.03069988,\n",
       "       0.02612695, 0.0236972 , 0.0266347 , 0.02619629, 0.0262532 ,\n",
       "       0.02337271, 0.02558232, 0.02323796, 0.02509947, 0.0231088 ,\n",
       "       0.024526  , 0.02292457, 0.02910923, 0.02309065, 0.0208484 ,\n",
       "       0.02504129, 0.02103363, 0.02442694, 0.02350489, 0.02396457,\n",
       "       0.02090045, 0.03010157, 0.0256439 , 0.02155478, 0.0248562 ,\n",
       "       0.0192371 , 0.02894245, 0.03026549, 0.01768713, 0.02514254,\n",
       "       0.01814128, 0.02438891, 0.01840885, 0.01928715, 0.02502358,\n",
       "       0.02800577, 0.04701108, 0.02654443, 0.02660717, 0.01563972,\n",
       "       0.02523783, 0.01614258, 0.02565766, 0.0262661 , 0.01508769,\n",
       "       0.01375297, 0.02603051, 0.01454851, 0.01327762, 0.02594194,\n",
       "       0.02524071, 0.01507097, 0.02656268, 0.01339518, 0.01205566,\n",
       "       0.02616676, 0.01571279, 0.02303616, 0.02672518, 0.01241977,\n",
       "       0.01130613, 0.02612104, 0.014859  , 0.01114218, 0.02143   ,\n",
       "       0.04586623, 0.02204274, 0.02747299, 0.02193248, 0.01038986,\n",
       "       0.01012752, 0.0102699 , 0.01005549, 0.02622929, 0.01137155,\n",
       "       0.01026143, 0.00971692, 0.01023768, 0.02562278, 0.022504  ,\n",
       "       0.01241639, 0.04263392, 0.02188992, 0.03903425, 0.01972505,\n",
       "       0.02768693, 0.00976613, 0.01006591, 0.00970568, 0.00994321,\n",
       "       0.00964092, 0.00982764, 0.02012986, 0.01111618, 0.01000456,\n",
       "       0.00948145, 0.00986881, 0.00951585, 0.00975012, 0.00950359,\n",
       "       0.00964268, 0.00951521, 0.02483353, 0.01070399, 0.00973034,\n",
       "       0.01999655, 0.02575666, 0.00962431, 0.00916956, 0.00959575,\n",
       "       0.02833166, 0.01097574, 0.00996633, 0.00901548, 0.01933078,\n",
       "       0.04302097, 0.02002127, 0.01913412, 0.02683496, 0.01902345,\n",
       "       0.01141661, 0.01027495, 0.00924745, 0.00915534, 0.01071366,\n",
       "       0.02454946, 0.00928424, 0.01947257, 0.0277086 , 0.02586778,\n",
       "       0.00940688, 0.00871445, 0.00926615, 0.00869372, 0.01889218,\n",
       "       0.01059924, 0.00953931, 0.00858538, 0.00917783, 0.0085703 ,\n",
       "       0.00904813, 0.00854541, 0.00897583, 0.00851676, 0.00893162,\n",
       "       0.02266187, 0.01001953, 0.01154104, 0.0189897 , 0.0413129 ,\n",
       "       0.01963098, 0.02367241, 0.01951736, 0.03941832, 0.00902695,\n",
       "       0.01923947, 0.00954714, 0.00859243, 0.00857951, 0.00852407,\n",
       "       0.00851522, 0.00845711, 0.00854364, 0.00839957, 0.00847238,\n",
       "       0.0083417 , 0.00849338, 0.00829167, 0.00841797, 0.00824015,\n",
       "       0.00843394, 0.02576266, 0.02044399, 0.00834812, 0.00997777,\n",
       "       0.02255306, 0.00860361, 0.01016416, 0.00879448, 0.00791503,\n",
       "       0.00842106, 0.00790271, 0.00831053, 0.02123622, 0.00941231,\n",
       "       0.01933845, 0.01873608, 0.02279824, 0.00773862, 0.00830754,\n",
       "       0.00773447, 0.02121828, 0.01115734, 0.01861809, 0.03923138,\n",
       "       0.01918767, 0.01791582, 0.0163139 , 0.02404904, 0.00913349,\n",
       "       0.00822014, 0.00752237, 0.00809646, 0.00758116, 0.00799077,\n",
       "       0.00759528, 0.00789723, 0.00762853, 0.0078163 , 0.00762239,\n",
       "       0.01776389, 0.02177755, 0.007566  , 0.02421589, 0.00887281,\n",
       "       0.00804637, 0.02914273, 0.03763998, 0.01843356, 0.03503667,\n",
       "       0.02586841, 0.02775597, 0.02440417, 0.0160906 , 0.02317594,\n",
       "       0.00875648, 0.00788083, 0.00741107, 0.00778215, 0.00739398,\n",
       "       0.00769211, 0.0074279 , 0.00761437, 0.00742236, 0.00754414,\n",
       "       0.00743965, 0.01984764, 0.00845654, 0.01828657, 0.00877231,\n",
       "       0.02081472, 0.00738056, 0.00737575, 0.00738452, 0.0073267 ,\n",
       "       0.00735861, 0.00728039, 0.00735561, 0.0193709 , 0.00834496,\n",
       "       0.00757467, 0.02834624, 0.03698531, 0.01820658, 0.00844624,\n",
       "       0.02055164, 0.00711504, 0.00735003, 0.00708975, 0.00727715,\n",
       "       0.00712982, 0.01707395, 0.02041589, 0.009358  , 0.03673495,\n",
       "       0.01855731, 0.02587272, 0.02755988, 0.02219423, 0.02003567,\n",
       "       0.01764054, 0.00786747, 0.00708072, 0.0071274 , 0.00703894,\n",
       "       0.00713454, 0.03453194, 0.02922632, 0.00680052, 0.0335472 ,\n",
       "       0.01661547, 0.02451252, 0.02231639, 0.01580541, 0.02141817,\n",
       "       0.00797179, 0.00717461, 0.0068296 , 0.00709631, 0.00681324,\n",
       "       0.00702458, 0.00686092, 0.01677393, 0.01966665, 0.00671151,\n",
       "       0.00706107, 0.00677112, 0.00698916, 0.00675224, 0.00692292,\n",
       "       0.00679453, 0.02708747, 0.03541719, 0.01448254, 0.01619745,\n",
       "       0.02016574, 0.00696245, 0.00672396, 0.0068964 , 0.00669803,\n",
       "       0.00683479, 0.00670068, 0.02688101, 0.01958456, 0.00659754,\n",
       "       0.02185223, 0.00783182, 0.00704864, 0.00640175, 0.01820358,\n",
       "       0.00967815, 0.00653791, 0.00677198, 0.00651983, 0.01783764,\n",
       "       0.01779169, 0.03592356, 0.01711072, 0.01660764, 0.01976704,\n",
       "       0.01793945, 0.01747342, 0.03315093, 0.02870482, 0.01396425,\n",
       "       0.00751285, 0.00676156, 0.00643093, 0.00668957, 0.00641638,\n",
       "       0.01757815, 0.01752988, 0.00635299, 0.00667108, 0.00634476,\n",
       "       0.00665852, 0.00633624, 0.00659905, 0.02506071, 0.018567  ,\n",
       "       0.02666597, 0.03350756, 0.01712679, 0.01329169, 0.01881561,\n",
       "       0.00626399, 0.00652622, 0.01705051, 0.01746706, 0.006128  ,\n",
       "       0.01734869, 0.00710981, 0.0064198 , 0.02609129, 0.01843689,\n",
       "       0.01386435, 0.01772831, 0.00667693, 0.00600924, 0.03184513,\n",
       "       0.01526557, 0.03348955, 0.02603448, 0.01857744, 0.01593036,\n",
       "       0.00757291, 0.00681561, 0.00613405, 0.00650719, 0.00613341,\n",
       "       0.00643421, 0.02483284, 0.01801441, 0.01604355, 0.01766839,\n",
       "       0.00637732, 0.00603504, 0.00630866, 0.00602647, 0.00625749,\n",
       "       0.01645383, 0.00715215, 0.01633095, 0.03367774, 0.01681719,\n",
       "       0.01676038, 0.00674658, 0.00608424, 0.00603987, 0.00609306,\n",
       "       0.01630389, 0.01688038, 0.00581602, 0.00625866, 0.00582535,\n",
       "       0.0062314 , 0.01610219, 0.00706193, 0.00641183, 0.02544525,\n",
       "       0.03252773, 0.01617498, 0.0127092 , 0.01763971, 0.00581949,\n",
       "       0.00613381, 0.01600746, 0.00695497, 0.00629748, 0.01545161,\n",
       "       0.01691042, 0.00605734, 0.00576306, 0.00601454, 0.00575547,\n",
       "       0.00599665, 0.01579194, 0.01648574, 0.00560579, 0.01610531,\n",
       "       0.00652639, 0.00590013, 0.01574071, 0.02569493, 0.03129346,\n",
       "       0.01457338, 0.01937985, 0.03420286, 0.01881079, 0.0153181 ,\n",
       "       0.01858333, 0.02436654, 0.0182709 , 0.0238805 , 0.01768858,\n",
       "       0.03310026, 0.03047313, 0.01739291, 0.00649264, 0.02732064,\n",
       "       0.01842978, 0.01773768, 0.00616662, 0.00561982, 0.00608149,\n",
       "       0.00563305, 0.00600629, 0.00563804, 0.02394493, 0.01702348,\n",
       "       0.02479672, 0.03109181, 0.01556375, 0.01437232, 0.01744674,\n",
       "       0.01235833, 0.01676135, 0.00544839, 0.00593053, 0.01481   ,\n",
       "       0.01638245, 0.00569896, 0.01534091, 0.01588397, 0.00547474,\n",
       "       0.00583633, 0.00548034, 0.00578643, 0.01515613, 0.00661304,\n",
       "       0.00597349, 0.03219698, 0.02938376, 0.00833697, 0.01675152,\n",
       "       0.01719026, 0.02990155, 0.01813346, 0.01757897, 0.01591224,\n",
       "       0.02457708, 0.03035572, 0.01938311, 0.01542806, 0.00637158,\n",
       "       0.00573442, 0.00546445, 0.0056792 , 0.01501299, 0.0156195 ,\n",
       "       0.02393991, 0.03281295, 0.01508589, 0.00658625, 0.00592763,\n",
       "       0.01479332, 0.00668808, 0.00606205, 0.01452111, 0.00677987,\n",
       "       0.00615083, 0.00554209, 0.01481176, 0.00637034, 0.01861902,\n",
       "       0.03201889, 0.01904904, 0.01602789, 0.01653643, 0.01498885,\n",
       "       0.01525401, 0.02923399, 0.02544324, 0.01268832, 0.01555529,\n",
       "       0.01842061, 0.0154931 , 0.01668796, 0.01180006, 0.01613131,\n",
       "       0.01400188, 0.01581869, 0.028573  , 0.01622393, 0.02396201,\n",
       "       0.03241992, 0.01810802, 0.01638756, 0.0238642 , 0.0323224 ,\n",
       "       0.0238954 , 0.01619361, 0.0054507 , 0.00528008, 0.00540746,\n",
       "       0.00529781, 0.01454834, 0.00610171, 0.01455931, 0.02889021,\n",
       "       0.01547333, 0.02355857, 0.02908536, 0.01658997, 0.01738655,\n",
       "       0.01623115, 0.00554828, 0.00517671, 0.01464161, 0.00598623,\n",
       "       0.0053876 , 0.00517115, 0.00536446, 0.02828978, 0.01567291,\n",
       "       0.01245564, 0.02283963, 0.01619229, 0.00556114, 0.0050376 ,\n",
       "       0.01451889, 0.00585155, 0.01423243, 0.03153448, 0.03260226,\n",
       "       0.01640462, 0.01499461, 0.01801866, 0.03068493, 0.01530537,\n",
       "       0.01787592, 0.01517013, 0.00522447, 0.01576492, 0.02227214,\n",
       "       0.03022565, 0.01310331, 0.01581546, 0.01177508, 0.01528456,\n",
       "       0.01380389, 0.0149377 , 0.00514278, 0.00517657, 0.00514039,\n",
       "       0.0051484 , 0.00514183, 0.00512325, 0.00513451, 0.00509998,\n",
       "       0.00513188, 0.01389709, 0.01452694, 0.0049494 , 0.00525082,\n",
       "       0.0137823 , 0.00599268, 0.00543177, 0.03065986, 0.02514654,\n",
       "       0.02783788, 0.01527464, 0.0231361 , 0.0147503 , 0.01233555,\n",
       "       0.02331768, 0.03114074, 0.01786883, 0.01608195, 0.01666968,\n",
       "       0.01506899, 0.00491965, 0.00514352, 0.00491802, 0.00512378,\n",
       "       0.01396483, 0.0058978 , 0.01390052, 0.02769254, 0.01473293,\n",
       "       0.03073849, 0.03139612, 0.0235576 , 0.01178594, 0.01490664,\n",
       "       0.00495918, 0.02998193, 0.01742754, 0.01437992, 0.01659102,\n",
       "       0.01235911, 0.01600445, 0.0144977 , 0.01743332, 0.01444943,\n",
       "       0.00512773, 0.00488539, 0.00508087, 0.00488144, 0.00503842,\n",
       "       0.01346277, 0.00576326, 0.00523408, 0.01320444, 0.02319669,\n",
       "       0.02769432, 0.01325451, 0.0138563 , 0.01381122, 0.00539257,\n",
       "       0.00485331, 0.01379704, 0.01401699, 0.01332816, 0.0057497 ,\n",
       "       0.00520513, 0.02917348, 0.01883501, 0.01590076, 0.01614387,\n",
       "       0.01552106, 0.01438106, 0.02981571, 0.02477884, 0.02688231,\n",
       "       0.01500573, 0.02288416, 0.01388519, 0.02265605, 0.02724124,\n",
       "       0.01415736, 0.01334612, 0.01394589, 0.01322337, 0.00573672,\n",
       "       0.00516305, 0.0188218 , 0.01467725, 0.01701864, 0.01413822,\n",
       "       0.01582193, 0.01428192, 0.01261313, 0.01285046, 0.02224503,\n",
       "       0.02950735, 0.02246611, 0.03094283, 0.02327532, 0.01548046,\n",
       "       0.03017378, 0.02198274, 0.01126136, 0.01612201, 0.01461205,\n",
       "       0.0298899 , 0.02649138, 0.01503138, 0.00563834, 0.0172418 ,\n",
       "       0.01372395, 0.01901934, 0.01360308, 0.00511129, 0.01280814,\n",
       "       0.00577274, 0.00519547, 0.01253496, 0.00582472, 0.01343119,\n",
       "       0.02627588, 0.01421848, 0.02190224, 0.01385561, 0.01165977,\n",
       "       0.02276461, 0.03063528, 0.01594503, 0.0159024 , 0.01404814,\n",
       "       0.01650435, 0.01400497, 0.01260447, 0.00567562, 0.00510806,\n",
       "       0.01273087, 0.00576326, 0.00521258, 0.01220324, 0.02249766,\n",
       "       0.02628448, 0.01291922, 0.01335969, 0.01292637, 0.00525466,\n",
       "       0.01245254, 0.00587064, 0.01335883, 0.01263146, 0.0053877 ,\n",
       "       0.01192664, 0.00596003, 0.0053947 , 0.01847619, 0.01348307,\n",
       "       0.01183529, 0.0139652 , 0.01188103, 0.01770732, 0.01524686,\n",
       "       0.00602536, 0.02762798, 0.01870866, 0.01639482, 0.02936999,\n",
       "       0.02369311, 0.01285198, 0.02876594, 0.01714738, 0.02621363,\n",
       "       0.02280369, 0.01325427, 0.01588877, 0.01221292, 0.01388735,\n",
       "       0.01251373, 0.01333205, 0.02949913, 0.02990638, 0.0173186 ,\n",
       "       0.0127791 , 0.01462917, 0.01441732, 0.01137895, 0.00628312,\n",
       "       0.00570174, 0.01693548, 0.02699406, 0.01341207, 0.01553682,\n",
       "       0.01177839, 0.01429412, 0.01286471, 0.01673442, 0.01605862,\n",
       "       0.01318127, 0.02546787, 0.01407394, 0.01266655, 0.01312083,\n",
       "       0.01189271, 0.01351704, 0.01188519, 0.01232032, 0.01210543,\n",
       "       0.00571357, 0.01680456, 0.01556079, 0.01100971, 0.00634277,\n",
       "       0.0057533 , 0.013167  , 0.012171  , 0.01100174, 0.00626716,\n",
       "       0.00568626, 0.01136931, 0.00616373, 0.0290872 , 0.01788084,\n",
       "       0.01289498, 0.01489846, 0.01383431, 0.01280767, 0.01660954,\n",
       "       0.01563608, 0.02425333, 0.02321732, 0.01094161, 0.0139649 ,\n",
       "       0.01110957, 0.00614382, 0.00557405, 0.01108074, 0.0125851 ,\n",
       "       0.02258896, 0.02943761, 0.02938265, 0.01295607, 0.02837115,\n",
       "       0.01618528, 0.01108413, 0.01475254, 0.01125562, 0.01425646,\n",
       "       0.01542381, 0.01705839, 0.0124927 , 0.0127806 , 0.01239408,\n",
       "       0.01639384, 0.01245823, 0.02164769, 0.0148715 , 0.01386207,\n",
       "       0.01194581, 0.02563189, 0.02149287, 0.01287294, 0.02837147,\n",
       "       0.02394011, 0.01192853, 0.01828889, 0.01202373, 0.01288135,\n",
       "       0.02462419, 0.01361356, 0.02880411, 0.02291217, 0.01271537,\n",
       "       0.01151488, 0.01338866, 0.02825924, 0.0160204 , 0.0130621 ,\n",
       "       0.01206578, 0.00529411, 0.02395432, 0.02247689, 0.00499593,\n",
       "       0.01139156, 0.00554752, 0.01286598, 0.02889466, 0.02697843,\n",
       "       0.00547602, 0.01266465, 0.01198767, 0.01589432, 0.01203172,\n",
       "       0.01643646, 0.01523213, 0.01290767, 0.01183276, 0.00708017])"
      ]
     },
     "execution_count": 34,
     "metadata": {},
     "output_type": "execute_result"
    }
   ],
   "source": [
    "ada.estimator_weights_"
   ]
  },
  {
   "cell_type": "code",
   "execution_count": 35,
   "metadata": {
    "scrolled": true
   },
   "outputs": [
    {
     "name": "stdout",
     "output_type": "stream",
     "text": [
      "              precision    recall  f1-score   support\n",
      "\n",
      "           0       0.95      0.80      0.87        49\n",
      "           1       0.86      0.97      0.91        65\n",
      "\n",
      "    accuracy                           0.89       114\n",
      "   macro avg       0.91      0.88      0.89       114\n",
      "weighted avg       0.90      0.89      0.89       114\n",
      "\n"
     ]
    }
   ],
   "source": [
    "print(classification_report(y_test, dt.predict(X_test)))"
   ]
  },
  {
   "cell_type": "code",
   "execution_count": 37,
   "metadata": {},
   "outputs": [
    {
     "data": {
      "text/plain": [
       "array([[39, 10],\n",
       "       [ 2, 63]], dtype=int64)"
      ]
     },
     "execution_count": 37,
     "metadata": {},
     "output_type": "execute_result"
    }
   ],
   "source": [
    "confusion_matrix(y_test, dt.predict(X_test))"
   ]
  },
  {
   "cell_type": "code",
   "execution_count": 36,
   "metadata": {},
   "outputs": [
    {
     "name": "stdout",
     "output_type": "stream",
     "text": [
      "              precision    recall  f1-score   support\n",
      "\n",
      "           0       0.96      0.96      0.96        49\n",
      "           1       0.97      0.97      0.97        65\n",
      "\n",
      "    accuracy                           0.96       114\n",
      "   macro avg       0.96      0.96      0.96       114\n",
      "weighted avg       0.96      0.96      0.96       114\n",
      "\n"
     ]
    }
   ],
   "source": [
    "print(classification_report(y_test, ada.predict(X_test)))"
   ]
  },
  {
   "cell_type": "code",
   "execution_count": 38,
   "metadata": {
    "scrolled": true
   },
   "outputs": [
    {
     "data": {
      "text/plain": [
       "array([[47,  2],\n",
       "       [ 2, 63]], dtype=int64)"
      ]
     },
     "execution_count": 38,
     "metadata": {},
     "output_type": "execute_result"
    }
   ],
   "source": [
    "confusion_matrix(y_test, ada.predict(X_test))"
   ]
  },
  {
   "cell_type": "code",
   "execution_count": 39,
   "metadata": {},
   "outputs": [
    {
     "data": {
      "text/plain": [
       "AdaBoostClassifier(algorithm='SAMME',\n",
       "                   base_estimator=DecisionTreeClassifier(ccp_alpha=0.0,\n",
       "                                                         class_weight=None,\n",
       "                                                         criterion='gini',\n",
       "                                                         max_depth=1,\n",
       "                                                         max_features=None,\n",
       "                                                         max_leaf_nodes=None,\n",
       "                                                         min_impurity_decrease=0.0,\n",
       "                                                         min_impurity_split=None,\n",
       "                                                         min_samples_leaf=5,\n",
       "                                                         min_samples_split=2,\n",
       "                                                         min_weight_fraction_leaf=0.0,\n",
       "                                                         presort='deprecated',\n",
       "                                                         random_state=None,\n",
       "                                                         splitter='best'),\n",
       "                   learning_rate=0.1, n_estimators=1000, random_state=None)"
      ]
     },
     "execution_count": 39,
     "metadata": {},
     "output_type": "execute_result"
    }
   ],
   "source": [
    "ada"
   ]
  },
  {
   "cell_type": "code",
   "execution_count": 40,
   "metadata": {},
   "outputs": [
    {
     "data": {
      "text/plain": [
       "GridSearchCV(cv=3, error_score=nan,\n",
       "             estimator=AdaBoostClassifier(algorithm='SAMME',\n",
       "                                          base_estimator=DecisionTreeClassifier(ccp_alpha=0.0,\n",
       "                                                                                class_weight=None,\n",
       "                                                                                criterion='gini',\n",
       "                                                                                max_depth=1,\n",
       "                                                                                max_features=None,\n",
       "                                                                                max_leaf_nodes=None,\n",
       "                                                                                min_impurity_decrease=0.0,\n",
       "                                                                                min_impurity_split=None,\n",
       "                                                                                min_samples_leaf=5,\n",
       "                                                                                min_samples_split=2,\n",
       "                                                                                min_weight_fraction_leaf=0.0,\n",
       "                                                                                presort='depre...\n",
       "                                                                                splitter='best'),\n",
       "                                          learning_rate=0.1, n_estimators=1000,\n",
       "                                          random_state=None),\n",
       "             iid='deprecated', n_jobs=None,\n",
       "             param_grid={'base_estimator__min_samples_leaf': [2, 3],\n",
       "                         'base_estimator__min_samples_split': [2, 3],\n",
       "                         'learning_rate': array([0.01  , 0.0325, 0.055 , 0.0775, 0.1   ]),\n",
       "                         'n_estimators': [10, 20, 50]},\n",
       "             pre_dispatch='2*n_jobs', refit=True, return_train_score=False,\n",
       "             scoring='roc_auc', verbose=0)"
      ]
     },
     "execution_count": 40,
     "metadata": {},
     "output_type": "execute_result"
    }
   ],
   "source": [
    "param_grid = {\n",
    "    \"base_estimator__min_samples_split\": [i for i in range(2,4)],\n",
    "    \"base_estimator__min_samples_leaf\": [i for i in range(2,4)],\n",
    "    \"n_estimators\": [10,20,50],\n",
    "    \"learning_rate\": np.linspace(0.01, 0.1, 5)\n",
    "}\n",
    "\n",
    "ada_grid = GridSearchCV(estimator=ada, param_grid = param_grid, scoring='roc_auc', cv=3)\n",
    "ada_grid.fit(X_train, y_train)"
   ]
  },
  {
   "cell_type": "code",
   "execution_count": 41,
   "metadata": {
    "scrolled": true
   },
   "outputs": [
    {
     "data": {
      "text/plain": [
       "{'base_estimator__min_samples_leaf': 2,\n",
       " 'base_estimator__min_samples_split': 2,\n",
       " 'learning_rate': 0.1,\n",
       " 'n_estimators': 50}"
      ]
     },
     "execution_count": 41,
     "metadata": {},
     "output_type": "execute_result"
    }
   ],
   "source": [
    "ada_grid.best_params_"
   ]
  },
  {
   "cell_type": "code",
   "execution_count": 42,
   "metadata": {},
   "outputs": [
    {
     "data": {
      "text/plain": [
       "AdaBoostClassifier(algorithm='SAMME',\n",
       "                   base_estimator=DecisionTreeClassifier(ccp_alpha=0.0,\n",
       "                                                         class_weight=None,\n",
       "                                                         criterion='gini',\n",
       "                                                         max_depth=1,\n",
       "                                                         max_features=None,\n",
       "                                                         max_leaf_nodes=None,\n",
       "                                                         min_impurity_decrease=0.0,\n",
       "                                                         min_impurity_split=None,\n",
       "                                                         min_samples_leaf=2,\n",
       "                                                         min_samples_split=2,\n",
       "                                                         min_weight_fraction_leaf=0.0,\n",
       "                                                         presort='deprecated',\n",
       "                                                         random_state=None,\n",
       "                                                         splitter='best'),\n",
       "                   learning_rate=0.1, n_estimators=50, random_state=None)"
      ]
     },
     "execution_count": 42,
     "metadata": {},
     "output_type": "execute_result"
    }
   ],
   "source": [
    "ada_grid.best_estimator_"
   ]
  },
  {
   "cell_type": "code",
   "execution_count": 43,
   "metadata": {},
   "outputs": [],
   "source": [
    "adagrid = ada_grid.best_estimator_"
   ]
  },
  {
   "cell_type": "code",
   "execution_count": 48,
   "metadata": {},
   "outputs": [
    {
     "data": {
      "text/plain": [
       "0.9826578724099587"
      ]
     },
     "execution_count": 48,
     "metadata": {},
     "output_type": "execute_result"
    }
   ],
   "source": [
    "ada_grid.best_score_"
   ]
  },
  {
   "cell_type": "markdown",
   "metadata": {},
   "source": [
    "## Gradient Boosting\n",
    "\n",
    "Gradient Boosting work like AdaBoost but include few differences. \n",
    "\n",
    "Gradient boosting involves three elements:\n",
    "\n",
    "1. A loss function to be optimized.\n",
    "1. A weak learner to make predictions.\n",
    "1. An additive model to add weak learners to minimize the loss function."
   ]
  },
  {
   "cell_type": "code",
   "execution_count": 49,
   "metadata": {},
   "outputs": [],
   "source": [
    "from sklearn.ensemble import GradientBoostingClassifier"
   ]
  },
  {
   "cell_type": "code",
   "execution_count": 50,
   "metadata": {},
   "outputs": [],
   "source": [
    "gradient = GradientBoostingClassifier(learning_rate = 0.1, subsample=0.5, n_estimators=100)"
   ]
  },
  {
   "cell_type": "code",
   "execution_count": 51,
   "metadata": {},
   "outputs": [
    {
     "data": {
      "text/plain": [
       "GradientBoostingClassifier(ccp_alpha=0.0, criterion='friedman_mse', init=None,\n",
       "                           learning_rate=0.1, loss='deviance', max_depth=3,\n",
       "                           max_features=None, max_leaf_nodes=None,\n",
       "                           min_impurity_decrease=0.0, min_impurity_split=None,\n",
       "                           min_samples_leaf=1, min_samples_split=2,\n",
       "                           min_weight_fraction_leaf=0.0, n_estimators=100,\n",
       "                           n_iter_no_change=None, presort='deprecated',\n",
       "                           random_state=None, subsample=0.5, tol=0.0001,\n",
       "                           validation_fraction=0.1, verbose=0,\n",
       "                           warm_start=False)"
      ]
     },
     "execution_count": 51,
     "metadata": {},
     "output_type": "execute_result"
    }
   ],
   "source": [
    "gradient.fit(X_train, y_train)"
   ]
  },
  {
   "cell_type": "code",
   "execution_count": 54,
   "metadata": {},
   "outputs": [
    {
     "data": {
      "text/plain": [
       "array([ 1.45749560e-01,  1.25807415e-01,  9.47041018e-02,  8.33267337e-02,\n",
       "        6.93235392e-02,  6.36658085e-02,  5.12072162e-02,  4.16812228e-02,\n",
       "        3.74077536e-02,  2.89262980e-02,  2.87191845e-02,  2.44186270e-02,\n",
       "        1.89391151e-02,  1.94978704e-02,  1.30281391e-02,  1.13053082e-02,\n",
       "        1.59955963e-02,  9.41715651e-03,  1.10706171e-02,  8.16895780e-03,\n",
       "        7.77103875e-03,  5.09978096e-03,  5.96775544e-03,  5.10670835e-03,\n",
       "        2.05119292e-03,  4.89554141e-03,  1.83942938e-03,  4.07668599e-04,\n",
       "        1.19600960e-03,  3.18184545e-03,  2.55989514e-03,  2.58599845e-03,\n",
       "       -1.19255102e-04, -7.61372438e-04, -1.21410019e-03,  1.09668819e-04,\n",
       "        5.69832427e-04, -1.38208744e-03, -9.40007054e-04,  2.83282503e-04,\n",
       "       -1.16489912e-03,  1.68269608e-03,  7.60244231e-04, -1.72903501e-03,\n",
       "       -5.63574756e-05,  1.03517069e-03, -5.08786066e-02, -4.04902780e-03,\n",
       "        3.08354397e-05,  1.02587151e-04, -1.25969229e-03, -2.04716944e-03,\n",
       "       -3.00010786e-03, -2.28608338e-03,  5.91073077e-04, -8.63016896e-04,\n",
       "        1.38067331e-03, -9.53912215e-04, -1.74698852e-03, -5.97282837e-04,\n",
       "       -2.06094771e-03, -7.33348209e-04,  4.75828490e-05,  2.22318295e-04,\n",
       "       -7.72030462e-04, -4.30815253e-04, -1.41892187e-03, -1.45316799e-03,\n",
       "       -1.27527651e-05, -1.35744713e-03, -9.38203671e-04, -5.47296742e-04,\n",
       "       -2.09175805e-04, -3.10597376e-04, -7.67940686e-04, -2.94822801e-04,\n",
       "        1.87201258e-04, -6.27987918e-04,  2.25964306e-04, -2.05080166e-03,\n",
       "       -1.99514557e-03, -6.25501033e-04, -5.85009901e-04, -1.90499286e-04,\n",
       "       -8.22541394e-04, -1.61360527e-04,  2.56471297e-04, -1.47549219e-05,\n",
       "       -6.93366867e-04, -3.59927595e-04, -1.23231749e-04, -5.35867883e-04,\n",
       "       -5.48131549e-04, -5.55593643e-04, -1.19176431e-03, -5.27486024e-04,\n",
       "       -6.30974157e-04, -2.64763835e-04,  3.18646760e-04, -1.24945984e-03])"
      ]
     },
     "execution_count": 54,
     "metadata": {},
     "output_type": "execute_result"
    }
   ],
   "source": [
    "gradient.oob_improvement_"
   ]
  },
  {
   "cell_type": "code",
   "execution_count": 55,
   "metadata": {},
   "outputs": [
    {
     "data": {
      "image/png": "[encoded data removed]",
      "text/plain": [
       "<Figure size 432x288 with 1 Axes>"
      ]
     },
     "metadata": {
      "needs_background": "light"
     },
     "output_type": "display_data"
    }
   ],
   "source": [
    "plt.plot(range(1,101), gradient.oob_improvement_)\n",
    "plt.show()"
   ]
  },
  {
   "cell_type": "code",
   "execution_count": 56,
   "metadata": {
    "scrolled": true
   },
   "outputs": [
    {
     "name": "stdout",
     "output_type": "stream",
     "text": [
      "              precision    recall  f1-score   support\n",
      "\n",
      "           0       1.00      1.00      1.00       163\n",
      "           1       1.00      1.00      1.00       292\n",
      "\n",
      "    accuracy                           1.00       455\n",
      "   macro avg       1.00      1.00      1.00       455\n",
      "weighted avg       1.00      1.00      1.00       455\n",
      "\n"
     ]
    }
   ],
   "source": [
    "print(classification_report(y_train, gradient.predict(X_train)))"
   ]
  },
  {
   "cell_type": "code",
   "execution_count": 58,
   "metadata": {},
   "outputs": [
    {
     "data": {
      "text/plain": [
       "array([[163,   0],\n",
       "       [  0, 292]], dtype=int64)"
      ]
     },
     "execution_count": 58,
     "metadata": {},
     "output_type": "execute_result"
    }
   ],
   "source": [
    "confusion_matrix(y_train, gradient.predict(X_train))"
   ]
  },
  {
   "cell_type": "code",
   "execution_count": 60,
   "metadata": {},
   "outputs": [
    {
     "name": "stdout",
     "output_type": "stream",
     "text": [
      "              precision    recall  f1-score   support\n",
      "\n",
      "           0       0.96      0.98      0.97        49\n",
      "           1       0.98      0.97      0.98        65\n",
      "\n",
      "    accuracy                           0.97       114\n",
      "   macro avg       0.97      0.97      0.97       114\n",
      "weighted avg       0.97      0.97      0.97       114\n",
      "\n"
     ]
    }
   ],
   "source": [
    "print(classification_report(y_test, gradient.predict(X_test)))"
   ]
  },
  {
   "cell_type": "code",
   "execution_count": 61,
   "metadata": {},
   "outputs": [
    {
     "data": {
      "text/plain": [
       "array([[48,  1],\n",
       "       [ 2, 63]], dtype=int64)"
      ]
     },
     "execution_count": 61,
     "metadata": {},
     "output_type": "execute_result"
    }
   ],
   "source": [
    "confusion_matrix(y_test, gradient.predict(X_test))"
   ]
  },
  {
   "cell_type": "markdown",
   "metadata": {},
   "source": [
    "## Show All Decision Tree, Ada Boost and Gradient Boost ROC&AUC Score"
   ]
  },
  {
   "cell_type": "code",
   "execution_count": 62,
   "metadata": {},
   "outputs": [],
   "source": [
    "dt_pred = dt.predict(X_test)\n",
    "dt_proba = dt.predict_proba(X_test)\n",
    "\n",
    "adagrid_pred = adagrid.predict(X_test)\n",
    "adagrid_proba = adagrid.predict_proba(X_test)\n",
    "\n",
    "gradient_pred = gradient.predict(X_test)\n",
    "gradient_proba = gradient.predict_proba(X_test)"
   ]
  },
  {
   "cell_type": "code",
   "execution_count": 65,
   "metadata": {},
   "outputs": [],
   "source": [
    "dtprob1 = dt_proba[:,1]\n",
    "adagridprob1 = adagrid_proba[:,1]\n",
    "gradprob1 = gradient_proba[:,1]\n",
    "\n",
    "fpr_dt, tpr_dt, thres_dt = roc_curve(y_test, dtprob1)\n",
    "fpr_ada, tpr_ada, thres_ada = roc_curve(y_test, adagridprob1)\n",
    "fpr_gr, tpr_gr, thres_gr = roc_curve(y_test, gradprob1)\n",
    "\n",
    "roc_auc_dt1 = auc(fpr_dt, tpr_dt)\n",
    "roc_auc_ada1 = auc(fpr_ada, tpr_ada)\n",
    "roc_auc_gr1 = auc(fpr_gr, tpr_gr)"
   ]
  },
  {
   "cell_type": "code",
   "execution_count": 68,
   "metadata": {},
   "outputs": [
    {
     "data": {
      "image/png": "[encoded data removed]",
      "text/plain": [
       "<Figure size 1152x720 with 3 Axes>"
      ]
     },
     "metadata": {
      "needs_background": "light"
     },
     "output_type": "display_data"
    }
   ],
   "source": [
    "plt.figure(figsize=(16,10))\n",
    "plt.subplot(221)\n",
    "plt.title('ROC Decision Tree')\n",
    "plt.plot(fpr_dt, tpr_dt, 'brown', label = 'AUC Decision Tree:{}'.format(round(roc_auc_dt1,3)))\n",
    "plt.plot([0,1], [0,1], 'r--')\n",
    "plt.xlim([0,1])\n",
    "plt.ylim([0,1])\n",
    "plt.xlabel('False Positive Rate')\n",
    "plt.ylabel('True Positive Rate')\n",
    "plt.fill_between(fpr_dt, tpr_dt, 0, facecolor='orange', alpha=1)\n",
    "plt.legend(loc='lower right')\n",
    "\n",
    "plt.subplot(222)\n",
    "plt.title('ROC AdaBoost (Grid)')\n",
    "plt.plot(fpr_ada, tpr_ada, 'blue', label = 'AUC AdaBoost (Grid):{}'.format(round(roc_auc_ada1,3)))\n",
    "plt.plot([0,1], [0,1], 'r--')\n",
    "plt.xlim([0,1])\n",
    "plt.ylim([0,1])\n",
    "plt.xlabel('False Positive Rate')\n",
    "plt.ylabel('True Positive Rate')\n",
    "plt.fill_between(fpr_ada, tpr_ada, 0, facecolor='azure', alpha=1)\n",
    "plt.legend(loc='lower right')\n",
    "\n",
    "plt.subplot(223)\n",
    "plt.title('ROC Gradient')\n",
    "plt.plot(fpr_gr, tpr_gr, 'red', label = 'AUC GradientBoost:{}'.format(round(roc_auc_gr1,3)))\n",
    "plt.plot([0,1], [0,1], 'r--')\n",
    "plt.xlim([0,1])\n",
    "plt.ylim([0,1])\n",
    "plt.xlabel('False Positive Rate')\n",
    "plt.ylabel('True Positive Rate')\n",
    "plt.fill_between(fpr_gr, tpr_gr, 0, facecolor='pink', alpha=1)\n",
    "plt.legend(loc='lower right')\n",
    "plt.show()"
   ]
  },
  {
   "cell_type": "markdown",
   "metadata": {},
   "source": [
    "# Principal Component Analysis\n",
    "\n",
    "Let's discuss PCA! This isn't exactly a full machine learning algorithm, but instead an unsupervised learning algorithm.\n",
    "\n",
    "## PCA Review\n",
    "\n",
    "Remember that PCA is just a transformation of your data and attempts to find out what features explain the most variance in your data.\n"
   ]
  },
  {
   "cell_type": "code",
   "execution_count": 69,
   "metadata": {},
   "outputs": [],
   "source": [
    "from sklearn.preprocessing import StandardScaler"
   ]
  },
  {
   "cell_type": "code",
   "execution_count": 70,
   "metadata": {},
   "outputs": [],
   "source": [
    "df2 = pd.DataFrame(cancer['data'], columns=cancer['feature_names'])"
   ]
  },
  {
   "cell_type": "code",
   "execution_count": 71,
   "metadata": {},
   "outputs": [
    {
     "data": {
      "text/html": [
       "<div>\n",
       "<style scoped>\n",
       "    .dataframe tbody tr th:only-of-type {\n",
       "        vertical-align: middle;\n",
       "    }\n",
       "\n",
       "    .dataframe tbody tr th {\n",
       "        vertical-align: top;\n",
       "    }\n",
       "\n",
       "    .dataframe thead th {\n",
       "        text-align: right;\n",
       "    }\n",
       "</style>\n",
       "<table border=\"1\" class=\"dataframe\">\n",
       "  <thead>\n",
       "    <tr style=\"text-align: right;\">\n",
       "      <th></th>\n",
       "      <th>mean radius</th>\n",
       "      <th>mean texture</th>\n",
       "      <th>mean perimeter</th>\n",
       "      <th>mean area</th>\n",
       "      <th>mean smoothness</th>\n",
       "      <th>mean compactness</th>\n",
       "      <th>mean concavity</th>\n",
       "      <th>mean concave points</th>\n",
       "      <th>mean symmetry</th>\n",
       "      <th>mean fractal dimension</th>\n",
       "      <th>radius error</th>\n",
       "      <th>texture error</th>\n",
       "      <th>perimeter error</th>\n",
       "      <th>area error</th>\n",
       "      <th>smoothness error</th>\n",
       "      <th>compactness error</th>\n",
       "      <th>concavity error</th>\n",
       "      <th>concave points error</th>\n",
       "      <th>symmetry error</th>\n",
       "      <th>fractal dimension error</th>\n",
       "      <th>worst radius</th>\n",
       "      <th>worst texture</th>\n",
       "      <th>worst perimeter</th>\n",
       "      <th>worst area</th>\n",
       "      <th>worst smoothness</th>\n",
       "      <th>worst compactness</th>\n",
       "      <th>worst concavity</th>\n",
       "      <th>worst concave points</th>\n",
       "      <th>worst symmetry</th>\n",
       "      <th>worst fractal dimension</th>\n",
       "    </tr>\n",
       "  </thead>\n",
       "  <tbody>\n",
       "    <tr>\n",
       "      <th>0</th>\n",
       "      <td>17.99</td>\n",
       "      <td>10.38</td>\n",
       "      <td>122.80</td>\n",
       "      <td>1001.0</td>\n",
       "      <td>0.11840</td>\n",
       "      <td>0.27760</td>\n",
       "      <td>0.3001</td>\n",
       "      <td>0.14710</td>\n",
       "      <td>0.2419</td>\n",
       "      <td>0.07871</td>\n",
       "      <td>1.0950</td>\n",
       "      <td>0.9053</td>\n",
       "      <td>8.589</td>\n",
       "      <td>153.40</td>\n",
       "      <td>0.006399</td>\n",
       "      <td>0.04904</td>\n",
       "      <td>0.05373</td>\n",
       "      <td>0.01587</td>\n",
       "      <td>0.03003</td>\n",
       "      <td>0.006193</td>\n",
       "      <td>25.38</td>\n",
       "      <td>17.33</td>\n",
       "      <td>184.60</td>\n",
       "      <td>2019.0</td>\n",
       "      <td>0.1622</td>\n",
       "      <td>0.6656</td>\n",
       "      <td>0.7119</td>\n",
       "      <td>0.2654</td>\n",
       "      <td>0.4601</td>\n",
       "      <td>0.11890</td>\n",
       "    </tr>\n",
       "    <tr>\n",
       "      <th>1</th>\n",
       "      <td>20.57</td>\n",
       "      <td>17.77</td>\n",
       "      <td>132.90</td>\n",
       "      <td>1326.0</td>\n",
       "      <td>0.08474</td>\n",
       "      <td>0.07864</td>\n",
       "      <td>0.0869</td>\n",
       "      <td>0.07017</td>\n",
       "      <td>0.1812</td>\n",
       "      <td>0.05667</td>\n",
       "      <td>0.5435</td>\n",
       "      <td>0.7339</td>\n",
       "      <td>3.398</td>\n",
       "      <td>74.08</td>\n",
       "      <td>0.005225</td>\n",
       "      <td>0.01308</td>\n",
       "      <td>0.01860</td>\n",
       "      <td>0.01340</td>\n",
       "      <td>0.01389</td>\n",
       "      <td>0.003532</td>\n",
       "      <td>24.99</td>\n",
       "      <td>23.41</td>\n",
       "      <td>158.80</td>\n",
       "      <td>1956.0</td>\n",
       "      <td>0.1238</td>\n",
       "      <td>0.1866</td>\n",
       "      <td>0.2416</td>\n",
       "      <td>0.1860</td>\n",
       "      <td>0.2750</td>\n",
       "      <td>0.08902</td>\n",
       "    </tr>\n",
       "    <tr>\n",
       "      <th>2</th>\n",
       "      <td>19.69</td>\n",
       "      <td>21.25</td>\n",
       "      <td>130.00</td>\n",
       "      <td>1203.0</td>\n",
       "      <td>0.10960</td>\n",
       "      <td>0.15990</td>\n",
       "      <td>0.1974</td>\n",
       "      <td>0.12790</td>\n",
       "      <td>0.2069</td>\n",
       "      <td>0.05999</td>\n",
       "      <td>0.7456</td>\n",
       "      <td>0.7869</td>\n",
       "      <td>4.585</td>\n",
       "      <td>94.03</td>\n",
       "      <td>0.006150</td>\n",
       "      <td>0.04006</td>\n",
       "      <td>0.03832</td>\n",
       "      <td>0.02058</td>\n",
       "      <td>0.02250</td>\n",
       "      <td>0.004571</td>\n",
       "      <td>23.57</td>\n",
       "      <td>25.53</td>\n",
       "      <td>152.50</td>\n",
       "      <td>1709.0</td>\n",
       "      <td>0.1444</td>\n",
       "      <td>0.4245</td>\n",
       "      <td>0.4504</td>\n",
       "      <td>0.2430</td>\n",
       "      <td>0.3613</td>\n",
       "      <td>0.08758</td>\n",
       "    </tr>\n",
       "    <tr>\n",
       "      <th>3</th>\n",
       "      <td>11.42</td>\n",
       "      <td>20.38</td>\n",
       "      <td>77.58</td>\n",
       "      <td>386.1</td>\n",
       "      <td>0.14250</td>\n",
       "      <td>0.28390</td>\n",
       "      <td>0.2414</td>\n",
       "      <td>0.10520</td>\n",
       "      <td>0.2597</td>\n",
       "      <td>0.09744</td>\n",
       "      <td>0.4956</td>\n",
       "      <td>1.1560</td>\n",
       "      <td>3.445</td>\n",
       "      <td>27.23</td>\n",
       "      <td>0.009110</td>\n",
       "      <td>0.07458</td>\n",
       "      <td>0.05661</td>\n",
       "      <td>0.01867</td>\n",
       "      <td>0.05963</td>\n",
       "      <td>0.009208</td>\n",
       "      <td>14.91</td>\n",
       "      <td>26.50</td>\n",
       "      <td>98.87</td>\n",
       "      <td>567.7</td>\n",
       "      <td>0.2098</td>\n",
       "      <td>0.8663</td>\n",
       "      <td>0.6869</td>\n",
       "      <td>0.2575</td>\n",
       "      <td>0.6638</td>\n",
       "      <td>0.17300</td>\n",
       "    </tr>\n",
       "    <tr>\n",
       "      <th>4</th>\n",
       "      <td>20.29</td>\n",
       "      <td>14.34</td>\n",
       "      <td>135.10</td>\n",
       "      <td>1297.0</td>\n",
       "      <td>0.10030</td>\n",
       "      <td>0.13280</td>\n",
       "      <td>0.1980</td>\n",
       "      <td>0.10430</td>\n",
       "      <td>0.1809</td>\n",
       "      <td>0.05883</td>\n",
       "      <td>0.7572</td>\n",
       "      <td>0.7813</td>\n",
       "      <td>5.438</td>\n",
       "      <td>94.44</td>\n",
       "      <td>0.011490</td>\n",
       "      <td>0.02461</td>\n",
       "      <td>0.05688</td>\n",
       "      <td>0.01885</td>\n",
       "      <td>0.01756</td>\n",
       "      <td>0.005115</td>\n",
       "      <td>22.54</td>\n",
       "      <td>16.67</td>\n",
       "      <td>152.20</td>\n",
       "      <td>1575.0</td>\n",
       "      <td>0.1374</td>\n",
       "      <td>0.2050</td>\n",
       "      <td>0.4000</td>\n",
       "      <td>0.1625</td>\n",
       "      <td>0.2364</td>\n",
       "      <td>0.07678</td>\n",
       "    </tr>\n",
       "  </tbody>\n",
       "</table>\n",
       "</div>"
      ],
      "text/plain": [
       "   mean radius  mean texture  mean perimeter  mean area  mean smoothness  \\\n",
       "0        17.99         10.38          122.80     1001.0          0.11840   \n",
       "1        20.57         17.77          132.90     1326.0          0.08474   \n",
       "2        19.69         21.25          130.00     1203.0          0.10960   \n",
       "3        11.42         20.38           77.58      386.1          0.14250   \n",
       "4        20.29         14.34          135.10     1297.0          0.10030   \n",
       "\n",
       "   mean compactness  mean concavity  mean concave points  mean symmetry  \\\n",
       "0           0.27760          0.3001              0.14710         0.2419   \n",
       "1           0.07864          0.0869              0.07017         0.1812   \n",
       "2           0.15990          0.1974              0.12790         0.2069   \n",
       "3           0.28390          0.2414              0.10520         0.2597   \n",
       "4           0.13280          0.1980              0.10430         0.1809   \n",
       "\n",
       "   mean fractal dimension  radius error  texture error  perimeter error  \\\n",
       "0                 0.07871        1.0950         0.9053            8.589   \n",
       "1                 0.05667        0.5435         0.7339            3.398   \n",
       "2                 0.05999        0.7456         0.7869            4.585   \n",
       "3                 0.09744        0.4956         1.1560            3.445   \n",
       "4                 0.05883        0.7572         0.7813            5.438   \n",
       "\n",
       "   area error  smoothness error  compactness error  concavity error  \\\n",
       "0      153.40          0.006399            0.04904          0.05373   \n",
       "1       74.08          0.005225            0.01308          0.01860   \n",
       "2       94.03          0.006150            0.04006          0.03832   \n",
       "3       27.23          0.009110            0.07458          0.05661   \n",
       "4       94.44          0.011490            0.02461          0.05688   \n",
       "\n",
       "   concave points error  symmetry error  fractal dimension error  \\\n",
       "0               0.01587         0.03003                 0.006193   \n",
       "1               0.01340         0.01389                 0.003532   \n",
       "2               0.02058         0.02250                 0.004571   \n",
       "3               0.01867         0.05963                 0.009208   \n",
       "4               0.01885         0.01756                 0.005115   \n",
       "\n",
       "   worst radius  worst texture  worst perimeter  worst area  worst smoothness  \\\n",
       "0         25.38          17.33           184.60      2019.0            0.1622   \n",
       "1         24.99          23.41           158.80      1956.0            0.1238   \n",
       "2         23.57          25.53           152.50      1709.0            0.1444   \n",
       "3         14.91          26.50            98.87       567.7            0.2098   \n",
       "4         22.54          16.67           152.20      1575.0            0.1374   \n",
       "\n",
       "   worst compactness  worst concavity  worst concave points  worst symmetry  \\\n",
       "0             0.6656           0.7119                0.2654          0.4601   \n",
       "1             0.1866           0.2416                0.1860          0.2750   \n",
       "2             0.4245           0.4504                0.2430          0.3613   \n",
       "3             0.8663           0.6869                0.2575          0.6638   \n",
       "4             0.2050           0.4000                0.1625          0.2364   \n",
       "\n",
       "   worst fractal dimension  \n",
       "0                  0.11890  \n",
       "1                  0.08902  \n",
       "2                  0.08758  \n",
       "3                  0.17300  \n",
       "4                  0.07678  "
      ]
     },
     "execution_count": 71,
     "metadata": {},
     "output_type": "execute_result"
    }
   ],
   "source": [
    "df2.head()"
   ]
  },
  {
   "cell_type": "code",
   "execution_count": 72,
   "metadata": {},
   "outputs": [
    {
     "data": {
      "text/plain": [
       "StandardScaler(copy=True, with_mean=True, with_std=True)"
      ]
     },
     "execution_count": 72,
     "metadata": {},
     "output_type": "execute_result"
    }
   ],
   "source": [
    "scaler = StandardScaler()\n",
    "scaler.fit(df2)"
   ]
  },
  {
   "cell_type": "code",
   "execution_count": 73,
   "metadata": {},
   "outputs": [],
   "source": [
    "scaled_data = scaler.transform(df2)"
   ]
  },
  {
   "cell_type": "code",
   "execution_count": 74,
   "metadata": {},
   "outputs": [
    {
     "data": {
      "text/plain": [
       "array([[ 1.09706398, -2.07333501,  1.26993369, ...,  2.29607613,\n",
       "         2.75062224,  1.93701461],\n",
       "       [ 1.82982061, -0.35363241,  1.68595471, ...,  1.0870843 ,\n",
       "        -0.24388967,  0.28118999],\n",
       "       [ 1.57988811,  0.45618695,  1.56650313, ...,  1.95500035,\n",
       "         1.152255  ,  0.20139121],\n",
       "       ...,\n",
       "       [ 0.70228425,  2.0455738 ,  0.67267578, ...,  0.41406869,\n",
       "        -1.10454895, -0.31840916],\n",
       "       [ 1.83834103,  2.33645719,  1.98252415, ...,  2.28998549,\n",
       "         1.91908301,  2.21963528],\n",
       "       [-1.80840125,  1.22179204, -1.81438851, ..., -1.74506282,\n",
       "        -0.04813821, -0.75120669]])"
      ]
     },
     "execution_count": 74,
     "metadata": {},
     "output_type": "execute_result"
    }
   ],
   "source": [
    "scaled_data"
   ]
  },
  {
   "cell_type": "code",
   "execution_count": 75,
   "metadata": {},
   "outputs": [],
   "source": [
    "from sklearn.decomposition import PCA"
   ]
  },
  {
   "cell_type": "code",
   "execution_count": 115,
   "metadata": {},
   "outputs": [],
   "source": [
    "pca = PCA(n_components=4) #konsekuensi dari 30 feature dikompres ke hanya 2 feature saja adalah semakin banyak informasi yg hilang"
   ]
  },
  {
   "cell_type": "code",
   "execution_count": 116,
   "metadata": {},
   "outputs": [
    {
     "data": {
      "text/plain": [
       "PCA(copy=True, iterated_power='auto', n_components=4, random_state=None,\n",
       "    svd_solver='auto', tol=0.0, whiten=False)"
      ]
     },
     "execution_count": 116,
     "metadata": {},
     "output_type": "execute_result"
    }
   ],
   "source": [
    "pca.fit(scaled_data)"
   ]
  },
  {
   "cell_type": "code",
   "execution_count": 117,
   "metadata": {},
   "outputs": [],
   "source": [
    "x_pca = pca.transform(scaled_data)"
   ]
  },
  {
   "cell_type": "code",
   "execution_count": 118,
   "metadata": {},
   "outputs": [
    {
     "data": {
      "text/plain": [
       "(569, 30)"
      ]
     },
     "execution_count": 118,
     "metadata": {},
     "output_type": "execute_result"
    }
   ],
   "source": [
    "scaled_data.shape"
   ]
  },
  {
   "cell_type": "code",
   "execution_count": 119,
   "metadata": {},
   "outputs": [
    {
     "data": {
      "text/plain": [
       "(569, 4)"
      ]
     },
     "execution_count": 119,
     "metadata": {},
     "output_type": "execute_result"
    }
   ],
   "source": [
    "x_pca.shape"
   ]
  },
  {
   "cell_type": "code",
   "execution_count": 120,
   "metadata": {},
   "outputs": [
    {
     "data": {
      "text/plain": [
       "array([[ 9.19283683,  1.94858307, -1.12316618,  3.63373088],\n",
       "       [ 2.3878018 , -3.76817174, -0.52929268,  1.11826386],\n",
       "       [ 5.73389628, -1.0751738 , -0.55174759,  0.91208269],\n",
       "       ...,\n",
       "       [ 1.25617928, -1.90229671,  0.56273053, -2.08922701],\n",
       "       [10.37479406,  1.67201011, -1.87702933, -2.35603111],\n",
       "       [-5.4752433 , -0.67063679,  1.49044308, -2.29915712]])"
      ]
     },
     "execution_count": 120,
     "metadata": {},
     "output_type": "execute_result"
    }
   ],
   "source": [
    "x_pca"
   ]
  },
  {
   "cell_type": "code",
   "execution_count": 124,
   "metadata": {
    "scrolled": false
   },
   "outputs": [
    {
     "data": {
      "text/html": [
       "<div>\n",
       "<style scoped>\n",
       "    .dataframe tbody tr th:only-of-type {\n",
       "        vertical-align: middle;\n",
       "    }\n",
       "\n",
       "    .dataframe tbody tr th {\n",
       "        vertical-align: top;\n",
       "    }\n",
       "\n",
       "    .dataframe thead th {\n",
       "        text-align: right;\n",
       "    }\n",
       "</style>\n",
       "<table border=\"1\" class=\"dataframe\">\n",
       "  <thead>\n",
       "    <tr style=\"text-align: right;\">\n",
       "      <th></th>\n",
       "      <th>0</th>\n",
       "      <th>1</th>\n",
       "      <th>2</th>\n",
       "      <th>3</th>\n",
       "      <th>benign</th>\n",
       "    </tr>\n",
       "  </thead>\n",
       "  <tbody>\n",
       "    <tr>\n",
       "      <th>0</th>\n",
       "      <td>9.192837</td>\n",
       "      <td>1.948583</td>\n",
       "      <td>-1.123166</td>\n",
       "      <td>3.633731</td>\n",
       "      <td>0</td>\n",
       "    </tr>\n",
       "    <tr>\n",
       "      <th>1</th>\n",
       "      <td>2.387802</td>\n",
       "      <td>-3.768172</td>\n",
       "      <td>-0.529293</td>\n",
       "      <td>1.118264</td>\n",
       "      <td>0</td>\n",
       "    </tr>\n",
       "    <tr>\n",
       "      <th>2</th>\n",
       "      <td>5.733896</td>\n",
       "      <td>-1.075174</td>\n",
       "      <td>-0.551748</td>\n",
       "      <td>0.912083</td>\n",
       "      <td>0</td>\n",
       "    </tr>\n",
       "    <tr>\n",
       "      <th>3</th>\n",
       "      <td>7.122953</td>\n",
       "      <td>10.275589</td>\n",
       "      <td>-3.232790</td>\n",
       "      <td>0.152547</td>\n",
       "      <td>0</td>\n",
       "    </tr>\n",
       "    <tr>\n",
       "      <th>4</th>\n",
       "      <td>3.935302</td>\n",
       "      <td>-1.948072</td>\n",
       "      <td>1.389767</td>\n",
       "      <td>2.940639</td>\n",
       "      <td>0</td>\n",
       "    </tr>\n",
       "  </tbody>\n",
       "</table>\n",
       "</div>"
      ],
      "text/plain": [
       "          0          1         2         3  benign\n",
       "0  9.192837   1.948583 -1.123166  3.633731       0\n",
       "1  2.387802  -3.768172 -0.529293  1.118264       0\n",
       "2  5.733896  -1.075174 -0.551748  0.912083       0\n",
       "3  7.122953  10.275589 -3.232790  0.152547       0\n",
       "4  3.935302  -1.948072  1.389767  2.940639       0"
      ]
     },
     "execution_count": 124,
     "metadata": {},
     "output_type": "execute_result"
    }
   ],
   "source": [
    "dfpca = pd.DataFrame(x_pca)\n",
    "dfpca['benign'] = cancer['target']\n",
    "dfpca.head()"
   ]
  },
  {
   "cell_type": "markdown",
   "metadata": {},
   "source": [
    "Great! We've reduced 30 dimensions to just 2! Let's plot these two dimensions out!"
   ]
  },
  {
   "cell_type": "code",
   "execution_count": 125,
   "metadata": {},
   "outputs": [],
   "source": [
    "for c in dfpca.columns[0:4]:\n",
    "    dfpca.rename({int(c): f'PC{int(c)+1}'}, axis=1,inplace=True)"
   ]
  },
  {
   "cell_type": "code",
   "execution_count": 126,
   "metadata": {},
   "outputs": [
    {
     "data": {
      "text/html": [
       "<div>\n",
       "<style scoped>\n",
       "    .dataframe tbody tr th:only-of-type {\n",
       "        vertical-align: middle;\n",
       "    }\n",
       "\n",
       "    .dataframe tbody tr th {\n",
       "        vertical-align: top;\n",
       "    }\n",
       "\n",
       "    .dataframe thead th {\n",
       "        text-align: right;\n",
       "    }\n",
       "</style>\n",
       "<table border=\"1\" class=\"dataframe\">\n",
       "  <thead>\n",
       "    <tr style=\"text-align: right;\">\n",
       "      <th></th>\n",
       "      <th>PC1</th>\n",
       "      <th>PC2</th>\n",
       "      <th>PC3</th>\n",
       "      <th>PC4</th>\n",
       "      <th>benign</th>\n",
       "    </tr>\n",
       "  </thead>\n",
       "  <tbody>\n",
       "    <tr>\n",
       "      <th>0</th>\n",
       "      <td>9.192837</td>\n",
       "      <td>1.948583</td>\n",
       "      <td>-1.123166</td>\n",
       "      <td>3.633731</td>\n",
       "      <td>0</td>\n",
       "    </tr>\n",
       "    <tr>\n",
       "      <th>1</th>\n",
       "      <td>2.387802</td>\n",
       "      <td>-3.768172</td>\n",
       "      <td>-0.529293</td>\n",
       "      <td>1.118264</td>\n",
       "      <td>0</td>\n",
       "    </tr>\n",
       "    <tr>\n",
       "      <th>2</th>\n",
       "      <td>5.733896</td>\n",
       "      <td>-1.075174</td>\n",
       "      <td>-0.551748</td>\n",
       "      <td>0.912083</td>\n",
       "      <td>0</td>\n",
       "    </tr>\n",
       "    <tr>\n",
       "      <th>3</th>\n",
       "      <td>7.122953</td>\n",
       "      <td>10.275589</td>\n",
       "      <td>-3.232790</td>\n",
       "      <td>0.152547</td>\n",
       "      <td>0</td>\n",
       "    </tr>\n",
       "    <tr>\n",
       "      <th>4</th>\n",
       "      <td>3.935302</td>\n",
       "      <td>-1.948072</td>\n",
       "      <td>1.389767</td>\n",
       "      <td>2.940639</td>\n",
       "      <td>0</td>\n",
       "    </tr>\n",
       "    <tr>\n",
       "      <th>...</th>\n",
       "      <td>...</td>\n",
       "      <td>...</td>\n",
       "      <td>...</td>\n",
       "      <td>...</td>\n",
       "      <td>...</td>\n",
       "    </tr>\n",
       "    <tr>\n",
       "      <th>564</th>\n",
       "      <td>6.439315</td>\n",
       "      <td>-3.576817</td>\n",
       "      <td>2.459487</td>\n",
       "      <td>1.177314</td>\n",
       "      <td>0</td>\n",
       "    </tr>\n",
       "    <tr>\n",
       "      <th>565</th>\n",
       "      <td>3.793382</td>\n",
       "      <td>-3.584048</td>\n",
       "      <td>2.088476</td>\n",
       "      <td>-2.506028</td>\n",
       "      <td>0</td>\n",
       "    </tr>\n",
       "    <tr>\n",
       "      <th>566</th>\n",
       "      <td>1.256179</td>\n",
       "      <td>-1.902297</td>\n",
       "      <td>0.562731</td>\n",
       "      <td>-2.089227</td>\n",
       "      <td>0</td>\n",
       "    </tr>\n",
       "    <tr>\n",
       "      <th>567</th>\n",
       "      <td>10.374794</td>\n",
       "      <td>1.672010</td>\n",
       "      <td>-1.877029</td>\n",
       "      <td>-2.356031</td>\n",
       "      <td>0</td>\n",
       "    </tr>\n",
       "    <tr>\n",
       "      <th>568</th>\n",
       "      <td>-5.475243</td>\n",
       "      <td>-0.670637</td>\n",
       "      <td>1.490443</td>\n",
       "      <td>-2.299157</td>\n",
       "      <td>1</td>\n",
       "    </tr>\n",
       "  </tbody>\n",
       "</table>\n",
       "<p>569 rows × 5 columns</p>\n",
       "</div>"
      ],
      "text/plain": [
       "           PC1        PC2       PC3       PC4  benign\n",
       "0     9.192837   1.948583 -1.123166  3.633731       0\n",
       "1     2.387802  -3.768172 -0.529293  1.118264       0\n",
       "2     5.733896  -1.075174 -0.551748  0.912083       0\n",
       "3     7.122953  10.275589 -3.232790  0.152547       0\n",
       "4     3.935302  -1.948072  1.389767  2.940639       0\n",
       "..         ...        ...       ...       ...     ...\n",
       "564   6.439315  -3.576817  2.459487  1.177314       0\n",
       "565   3.793382  -3.584048  2.088476 -2.506028       0\n",
       "566   1.256179  -1.902297  0.562731 -2.089227       0\n",
       "567  10.374794   1.672010 -1.877029 -2.356031       0\n",
       "568  -5.475243  -0.670637  1.490443 -2.299157       1\n",
       "\n",
       "[569 rows x 5 columns]"
      ]
     },
     "execution_count": 126,
     "metadata": {},
     "output_type": "execute_result"
    }
   ],
   "source": [
    "dfpca"
   ]
  },
  {
   "cell_type": "code",
   "execution_count": 127,
   "metadata": {
    "scrolled": false
   },
   "outputs": [
    {
     "data": {
      "text/plain": [
       "<seaborn.axisgrid.FacetGrid at 0x17c46598848>"
      ]
     },
     "execution_count": 127,
     "metadata": {},
     "output_type": "execute_result"
    },
    {
     "data": {
      "image/png": "[encoded data removed]",
      "text/plain": [
       "<Figure size 402.375x360 with 1 Axes>"
      ]
     },
     "metadata": {
      "needs_background": "light"
     },
     "output_type": "display_data"
    }
   ],
   "source": [
    "sns.lmplot(x='PC1', y='PC2', hue='benign', data=dfpca, fit_reg=False)"
   ]
  },
  {
   "cell_type": "code",
   "execution_count": 128,
   "metadata": {
    "scrolled": false
   },
   "outputs": [
    {
     "data": {
      "text/plain": [
       "<seaborn.axisgrid.FacetGrid at 0x17c47faca08>"
      ]
     },
     "execution_count": 128,
     "metadata": {},
     "output_type": "execute_result"
    },
    {
     "data": {
      "image/png": "[encoded data removed]",
      "text/plain": [
       "<Figure size 402.375x360 with 1 Axes>"
      ]
     },
     "metadata": {
      "needs_background": "light"
     },
     "output_type": "display_data"
    }
   ],
   "source": [
    "sns.lmplot(x='PC3', y='PC4', hue='benign', data=dfpca, fit_reg=False)"
   ]
  },
  {
   "cell_type": "code",
   "execution_count": 129,
   "metadata": {
    "scrolled": false
   },
   "outputs": [
    {
     "data": {
      "text/plain": [
       "<seaborn.axisgrid.FacetGrid at 0x17c4646a0c8>"
      ]
     },
     "execution_count": 129,
     "metadata": {},
     "output_type": "execute_result"
    },
    {
     "data": {
      "image/png": "[encoded data removed]",
      "text/plain": [
       "<Figure size 402.375x360 with 1 Axes>"
      ]
     },
     "metadata": {
      "needs_background": "light"
     },
     "output_type": "display_data"
    }
   ],
   "source": [
    "sns.lmplot(x='PC1', y='PC3', hue='benign', data=dfpca, fit_reg=False)"
   ]
  },
  {
   "cell_type": "code",
   "execution_count": 130,
   "metadata": {},
   "outputs": [
    {
     "data": {
      "text/plain": [
       "<seaborn.axisgrid.FacetGrid at 0x17c481f5ec8>"
      ]
     },
     "execution_count": 130,
     "metadata": {},
     "output_type": "execute_result"
    },
    {
     "data": {
      "image/png": "[encoded data removed]",
      "text/plain": [
       "<Figure size 402.375x360 with 1 Axes>"
      ]
     },
     "metadata": {
      "needs_background": "light"
     },
     "output_type": "display_data"
    }
   ],
   "source": [
    "sns.lmplot(x='PC1', y='PC4', hue='benign', data=dfpca, fit_reg=False)"
   ]
  },
  {
   "cell_type": "markdown",
   "metadata": {},
   "source": [
    "Clearly by using these two components we can easily separate these two classes.\n",
    "\n",
    "## Interpreting the components \n",
    "\n",
    "Unfortunately, with this great power of dimensionality reduction, comes the cost of being able to easily understand what these components represent.\n",
    "\n",
    "The components correspond to combinations of the original features, the components themselves are stored as an attribute of the fitted PCA object:"
   ]
  },
  {
   "cell_type": "code",
   "execution_count": 131,
   "metadata": {},
   "outputs": [
    {
     "data": {
      "text/plain": [
       "array([[ 0.21890244,  0.10372458,  0.22753729,  0.22099499,  0.14258969,\n",
       "         0.23928535,  0.25840048,  0.26085376,  0.13816696,  0.06436335,\n",
       "         0.20597878,  0.01742803,  0.21132592,  0.20286964,  0.01453145,\n",
       "         0.17039345,  0.15358979,  0.1834174 ,  0.04249842,  0.10256832,\n",
       "         0.22799663,  0.10446933,  0.23663968,  0.22487053,  0.12795256,\n",
       "         0.21009588,  0.22876753,  0.25088597,  0.12290456,  0.13178394],\n",
       "       [-0.23385713, -0.05970609, -0.21518136, -0.23107671,  0.18611302,\n",
       "         0.15189161,  0.06016536, -0.0347675 ,  0.19034877,  0.36657547,\n",
       "        -0.10555215,  0.08997968, -0.08945723, -0.15229263,  0.20443045,\n",
       "         0.2327159 ,  0.19720728,  0.13032156,  0.183848  ,  0.28009203,\n",
       "        -0.21986638, -0.0454673 , -0.19987843, -0.21935186,  0.17230435,\n",
       "         0.14359317,  0.09796411, -0.00825724,  0.14188335,  0.27533947],\n",
       "       [-0.00853124,  0.06454991, -0.00931422,  0.02869953, -0.1042919 ,\n",
       "        -0.07409158,  0.00273384, -0.02556354, -0.04023993, -0.0225741 ,\n",
       "         0.26848139,  0.37463366,  0.26664537,  0.21600653,  0.30883898,\n",
       "         0.15477971,  0.17646374,  0.22465757,  0.2885843 ,  0.21150377,\n",
       "        -0.04750699, -0.04229783, -0.04854651, -0.01190232, -0.25979761,\n",
       "        -0.23607562, -0.17305733, -0.17034407, -0.27131265, -0.23279131],\n",
       "       [ 0.04140895, -0.60304999,  0.04198309,  0.05343378,  0.15938277,\n",
       "         0.03179457,  0.01912276,  0.06533596,  0.06712499,  0.04858674,\n",
       "         0.09794125, -0.35985553,  0.08899241,  0.10820503,  0.04466418,\n",
       "        -0.02746937,  0.00131686,  0.07406733,  0.04407336,  0.01530477,\n",
       "         0.01541724, -0.63280789,  0.01380279,  0.02589475,  0.01765221,\n",
       "        -0.09132841, -0.07395116,  0.00600701, -0.03625071, -0.07705346]])"
      ]
     },
     "execution_count": 131,
     "metadata": {},
     "output_type": "execute_result"
    }
   ],
   "source": [
    "pca.components_"
   ]
  },
  {
   "cell_type": "code",
   "execution_count": 132,
   "metadata": {},
   "outputs": [
    {
     "data": {
      "text/plain": [
       "23.81340307083694"
      ]
     },
     "execution_count": 132,
     "metadata": {},
     "output_type": "execute_result"
    }
   ],
   "source": [
    "sum(pca.explained_variance_)"
   ]
  },
  {
   "cell_type": "markdown",
   "metadata": {},
   "source": [
    "In this numpy matrix array, each row represents a principal component, and each column relates back to the original features. we can visualize this relationship with a heatmap:"
   ]
  },
  {
   "cell_type": "code",
   "execution_count": 133,
   "metadata": {},
   "outputs": [],
   "source": [
    "df_comp = pd.DataFrame(pca.components_,columns=cancer['feature_names'], index=['PC1', 'PC2','PC3', 'PC4'])"
   ]
  },
  {
   "cell_type": "code",
   "execution_count": 134,
   "metadata": {},
   "outputs": [
    {
     "data": {
      "text/html": [
       "<div>\n",
       "<style scoped>\n",
       "    .dataframe tbody tr th:only-of-type {\n",
       "        vertical-align: middle;\n",
       "    }\n",
       "\n",
       "    .dataframe tbody tr th {\n",
       "        vertical-align: top;\n",
       "    }\n",
       "\n",
       "    .dataframe thead th {\n",
       "        text-align: right;\n",
       "    }\n",
       "</style>\n",
       "<table border=\"1\" class=\"dataframe\">\n",
       "  <thead>\n",
       "    <tr style=\"text-align: right;\">\n",
       "      <th></th>\n",
       "      <th>mean radius</th>\n",
       "      <th>mean texture</th>\n",
       "      <th>mean perimeter</th>\n",
       "      <th>mean area</th>\n",
       "      <th>mean smoothness</th>\n",
       "      <th>mean compactness</th>\n",
       "      <th>mean concavity</th>\n",
       "      <th>mean concave points</th>\n",
       "      <th>mean symmetry</th>\n",
       "      <th>mean fractal dimension</th>\n",
       "      <th>radius error</th>\n",
       "      <th>texture error</th>\n",
       "      <th>perimeter error</th>\n",
       "      <th>area error</th>\n",
       "      <th>smoothness error</th>\n",
       "      <th>compactness error</th>\n",
       "      <th>concavity error</th>\n",
       "      <th>concave points error</th>\n",
       "      <th>symmetry error</th>\n",
       "      <th>fractal dimension error</th>\n",
       "      <th>worst radius</th>\n",
       "      <th>worst texture</th>\n",
       "      <th>worst perimeter</th>\n",
       "      <th>worst area</th>\n",
       "      <th>worst smoothness</th>\n",
       "      <th>worst compactness</th>\n",
       "      <th>worst concavity</th>\n",
       "      <th>worst concave points</th>\n",
       "      <th>worst symmetry</th>\n",
       "      <th>worst fractal dimension</th>\n",
       "    </tr>\n",
       "  </thead>\n",
       "  <tbody>\n",
       "    <tr>\n",
       "      <th>PC1</th>\n",
       "      <td>0.218902</td>\n",
       "      <td>0.103725</td>\n",
       "      <td>0.227537</td>\n",
       "      <td>0.220995</td>\n",
       "      <td>0.142590</td>\n",
       "      <td>0.239285</td>\n",
       "      <td>0.258400</td>\n",
       "      <td>0.260854</td>\n",
       "      <td>0.138167</td>\n",
       "      <td>0.064363</td>\n",
       "      <td>0.205979</td>\n",
       "      <td>0.017428</td>\n",
       "      <td>0.211326</td>\n",
       "      <td>0.202870</td>\n",
       "      <td>0.014531</td>\n",
       "      <td>0.170393</td>\n",
       "      <td>0.153590</td>\n",
       "      <td>0.183417</td>\n",
       "      <td>0.042498</td>\n",
       "      <td>0.102568</td>\n",
       "      <td>0.227997</td>\n",
       "      <td>0.104469</td>\n",
       "      <td>0.236640</td>\n",
       "      <td>0.224871</td>\n",
       "      <td>0.127953</td>\n",
       "      <td>0.210096</td>\n",
       "      <td>0.228768</td>\n",
       "      <td>0.250886</td>\n",
       "      <td>0.122905</td>\n",
       "      <td>0.131784</td>\n",
       "    </tr>\n",
       "    <tr>\n",
       "      <th>PC2</th>\n",
       "      <td>-0.233857</td>\n",
       "      <td>-0.059706</td>\n",
       "      <td>-0.215181</td>\n",
       "      <td>-0.231077</td>\n",
       "      <td>0.186113</td>\n",
       "      <td>0.151892</td>\n",
       "      <td>0.060165</td>\n",
       "      <td>-0.034768</td>\n",
       "      <td>0.190349</td>\n",
       "      <td>0.366575</td>\n",
       "      <td>-0.105552</td>\n",
       "      <td>0.089980</td>\n",
       "      <td>-0.089457</td>\n",
       "      <td>-0.152293</td>\n",
       "      <td>0.204430</td>\n",
       "      <td>0.232716</td>\n",
       "      <td>0.197207</td>\n",
       "      <td>0.130322</td>\n",
       "      <td>0.183848</td>\n",
       "      <td>0.280092</td>\n",
       "      <td>-0.219866</td>\n",
       "      <td>-0.045467</td>\n",
       "      <td>-0.199878</td>\n",
       "      <td>-0.219352</td>\n",
       "      <td>0.172304</td>\n",
       "      <td>0.143593</td>\n",
       "      <td>0.097964</td>\n",
       "      <td>-0.008257</td>\n",
       "      <td>0.141883</td>\n",
       "      <td>0.275339</td>\n",
       "    </tr>\n",
       "    <tr>\n",
       "      <th>PC3</th>\n",
       "      <td>-0.008531</td>\n",
       "      <td>0.064550</td>\n",
       "      <td>-0.009314</td>\n",
       "      <td>0.028700</td>\n",
       "      <td>-0.104292</td>\n",
       "      <td>-0.074092</td>\n",
       "      <td>0.002734</td>\n",
       "      <td>-0.025564</td>\n",
       "      <td>-0.040240</td>\n",
       "      <td>-0.022574</td>\n",
       "      <td>0.268481</td>\n",
       "      <td>0.374634</td>\n",
       "      <td>0.266645</td>\n",
       "      <td>0.216007</td>\n",
       "      <td>0.308839</td>\n",
       "      <td>0.154780</td>\n",
       "      <td>0.176464</td>\n",
       "      <td>0.224658</td>\n",
       "      <td>0.288584</td>\n",
       "      <td>0.211504</td>\n",
       "      <td>-0.047507</td>\n",
       "      <td>-0.042298</td>\n",
       "      <td>-0.048547</td>\n",
       "      <td>-0.011902</td>\n",
       "      <td>-0.259798</td>\n",
       "      <td>-0.236076</td>\n",
       "      <td>-0.173057</td>\n",
       "      <td>-0.170344</td>\n",
       "      <td>-0.271313</td>\n",
       "      <td>-0.232791</td>\n",
       "    </tr>\n",
       "    <tr>\n",
       "      <th>PC4</th>\n",
       "      <td>0.041409</td>\n",
       "      <td>-0.603050</td>\n",
       "      <td>0.041983</td>\n",
       "      <td>0.053434</td>\n",
       "      <td>0.159383</td>\n",
       "      <td>0.031795</td>\n",
       "      <td>0.019123</td>\n",
       "      <td>0.065336</td>\n",
       "      <td>0.067125</td>\n",
       "      <td>0.048587</td>\n",
       "      <td>0.097941</td>\n",
       "      <td>-0.359856</td>\n",
       "      <td>0.088992</td>\n",
       "      <td>0.108205</td>\n",
       "      <td>0.044664</td>\n",
       "      <td>-0.027469</td>\n",
       "      <td>0.001317</td>\n",
       "      <td>0.074067</td>\n",
       "      <td>0.044073</td>\n",
       "      <td>0.015305</td>\n",
       "      <td>0.015417</td>\n",
       "      <td>-0.632808</td>\n",
       "      <td>0.013803</td>\n",
       "      <td>0.025895</td>\n",
       "      <td>0.017652</td>\n",
       "      <td>-0.091328</td>\n",
       "      <td>-0.073951</td>\n",
       "      <td>0.006007</td>\n",
       "      <td>-0.036251</td>\n",
       "      <td>-0.077053</td>\n",
       "    </tr>\n",
       "  </tbody>\n",
       "</table>\n",
       "</div>"
      ],
      "text/plain": [
       "     mean radius  mean texture  mean perimeter  mean area  mean smoothness  \\\n",
       "PC1     0.218902      0.103725        0.227537   0.220995         0.142590   \n",
       "PC2    -0.233857     -0.059706       -0.215181  -0.231077         0.186113   \n",
       "PC3    -0.008531      0.064550       -0.009314   0.028700        -0.104292   \n",
       "PC4     0.041409     -0.603050        0.041983   0.053434         0.159383   \n",
       "\n",
       "     mean compactness  mean concavity  mean concave points  mean symmetry  \\\n",
       "PC1          0.239285        0.258400             0.260854       0.138167   \n",
       "PC2          0.151892        0.060165            -0.034768       0.190349   \n",
       "PC3         -0.074092        0.002734            -0.025564      -0.040240   \n",
       "PC4          0.031795        0.019123             0.065336       0.067125   \n",
       "\n",
       "     mean fractal dimension  radius error  texture error  perimeter error  \\\n",
       "PC1                0.064363      0.205979       0.017428         0.211326   \n",
       "PC2                0.366575     -0.105552       0.089980        -0.089457   \n",
       "PC3               -0.022574      0.268481       0.374634         0.266645   \n",
       "PC4                0.048587      0.097941      -0.359856         0.088992   \n",
       "\n",
       "     area error  smoothness error  compactness error  concavity error  \\\n",
       "PC1    0.202870          0.014531           0.170393         0.153590   \n",
       "PC2   -0.152293          0.204430           0.232716         0.197207   \n",
       "PC3    0.216007          0.308839           0.154780         0.176464   \n",
       "PC4    0.108205          0.044664          -0.027469         0.001317   \n",
       "\n",
       "     concave points error  symmetry error  fractal dimension error  \\\n",
       "PC1              0.183417        0.042498                 0.102568   \n",
       "PC2              0.130322        0.183848                 0.280092   \n",
       "PC3              0.224658        0.288584                 0.211504   \n",
       "PC4              0.074067        0.044073                 0.015305   \n",
       "\n",
       "     worst radius  worst texture  worst perimeter  worst area  \\\n",
       "PC1      0.227997       0.104469         0.236640    0.224871   \n",
       "PC2     -0.219866      -0.045467        -0.199878   -0.219352   \n",
       "PC3     -0.047507      -0.042298        -0.048547   -0.011902   \n",
       "PC4      0.015417      -0.632808         0.013803    0.025895   \n",
       "\n",
       "     worst smoothness  worst compactness  worst concavity  \\\n",
       "PC1          0.127953           0.210096         0.228768   \n",
       "PC2          0.172304           0.143593         0.097964   \n",
       "PC3         -0.259798          -0.236076        -0.173057   \n",
       "PC4          0.017652          -0.091328        -0.073951   \n",
       "\n",
       "     worst concave points  worst symmetry  worst fractal dimension  \n",
       "PC1              0.250886        0.122905                 0.131784  \n",
       "PC2             -0.008257        0.141883                 0.275339  \n",
       "PC3             -0.170344       -0.271313                -0.232791  \n",
       "PC4              0.006007       -0.036251                -0.077053  "
      ]
     },
     "execution_count": 134,
     "metadata": {},
     "output_type": "execute_result"
    }
   ],
   "source": [
    "df_comp"
   ]
  },
  {
   "cell_type": "code",
   "execution_count": 135,
   "metadata": {},
   "outputs": [
    {
     "data": {
      "text/plain": [
       "<matplotlib.axes._subplots.AxesSubplot at 0x17c468bc548>"
      ]
     },
     "execution_count": 135,
     "metadata": {},
     "output_type": "execute_result"
    },
    {
     "data": {
      "image/png": "[encoded data removed]",
      "text/plain": [
       "<Figure size 1440x576 with 2 Axes>"
      ]
     },
     "metadata": {
      "needs_background": "light"
     },
     "output_type": "display_data"
    }
   ],
   "source": [
    "plt.figure(figsize=(20,8))\n",
    "sns.heatmap(df_comp,cmap='plasma', annot=True)"
   ]
  },
  {
   "cell_type": "code",
   "execution_count": 95,
   "metadata": {},
   "outputs": [
    {
     "data": {
      "text/plain": [
       "1    357\n",
       "0    212\n",
       "Name: benign, dtype: int64"
      ]
     },
     "execution_count": 95,
     "metadata": {},
     "output_type": "execute_result"
    }
   ],
   "source": [
    "dfpca['benign'].value_counts()"
   ]
  },
  {
   "cell_type": "code",
   "execution_count": 96,
   "metadata": {},
   "outputs": [
    {
     "data": {
      "text/plain": [
       "<matplotlib.axes._subplots.AxesSubplot at 0x17c45a3a188>"
      ]
     },
     "execution_count": 96,
     "metadata": {},
     "output_type": "execute_result"
    },
    {
     "data": {
      "image/png": "[encoded data removed]",
      "text/plain": [
       "<Figure size 432x288 with 2 Axes>"
      ]
     },
     "metadata": {
      "needs_background": "light"
     },
     "output_type": "display_data"
    }
   ],
   "source": [
    "sns.heatmap(dfpca.corr(), annot=True)"
   ]
  },
  {
   "cell_type": "code",
   "execution_count": 97,
   "metadata": {},
   "outputs": [
    {
     "data": {
      "text/html": [
       "<div>\n",
       "<style scoped>\n",
       "    .dataframe tbody tr th:only-of-type {\n",
       "        vertical-align: middle;\n",
       "    }\n",
       "\n",
       "    .dataframe tbody tr th {\n",
       "        vertical-align: top;\n",
       "    }\n",
       "\n",
       "    .dataframe thead th {\n",
       "        text-align: right;\n",
       "    }\n",
       "</style>\n",
       "<table border=\"1\" class=\"dataframe\">\n",
       "  <thead>\n",
       "    <tr style=\"text-align: right;\">\n",
       "      <th></th>\n",
       "      <th>x</th>\n",
       "      <th>y</th>\n",
       "    </tr>\n",
       "  </thead>\n",
       "  <tbody>\n",
       "    <tr>\n",
       "      <th>0</th>\n",
       "      <td>1</td>\n",
       "      <td>3</td>\n",
       "    </tr>\n",
       "    <tr>\n",
       "      <th>1</th>\n",
       "      <td>2</td>\n",
       "      <td>3</td>\n",
       "    </tr>\n",
       "    <tr>\n",
       "      <th>2</th>\n",
       "      <td>3</td>\n",
       "      <td>3</td>\n",
       "    </tr>\n",
       "    <tr>\n",
       "      <th>3</th>\n",
       "      <td>4</td>\n",
       "      <td>3</td>\n",
       "    </tr>\n",
       "    <tr>\n",
       "      <th>4</th>\n",
       "      <td>5</td>\n",
       "      <td>3</td>\n",
       "    </tr>\n",
       "    <tr>\n",
       "      <th>5</th>\n",
       "      <td>3</td>\n",
       "      <td>1</td>\n",
       "    </tr>\n",
       "    <tr>\n",
       "      <th>6</th>\n",
       "      <td>3</td>\n",
       "      <td>2</td>\n",
       "    </tr>\n",
       "    <tr>\n",
       "      <th>7</th>\n",
       "      <td>3</td>\n",
       "      <td>3</td>\n",
       "    </tr>\n",
       "    <tr>\n",
       "      <th>8</th>\n",
       "      <td>3</td>\n",
       "      <td>4</td>\n",
       "    </tr>\n",
       "    <tr>\n",
       "      <th>9</th>\n",
       "      <td>3</td>\n",
       "      <td>5</td>\n",
       "    </tr>\n",
       "  </tbody>\n",
       "</table>\n",
       "</div>"
      ],
      "text/plain": [
       "   x  y\n",
       "0  1  3\n",
       "1  2  3\n",
       "2  3  3\n",
       "3  4  3\n",
       "4  5  3\n",
       "5  3  1\n",
       "6  3  2\n",
       "7  3  3\n",
       "8  3  4\n",
       "9  3  5"
      ]
     },
     "execution_count": 97,
     "metadata": {},
     "output_type": "execute_result"
    }
   ],
   "source": [
    "contohx=[1,2,3,4,5,3,3,3,3,3]\n",
    "contohy=[3,3,3,3,3,1,2,3,4,5]\n",
    "\n",
    "listxy = []\n",
    "for x,y in zip(contohx, contohy):\n",
    "    listxy.append([x,y])\n",
    "    \n",
    "dfcontoh = pd.DataFrame(listxy, columns=['x', 'y'])\n",
    "dfcontoh"
   ]
  },
  {
   "cell_type": "code",
   "execution_count": 98,
   "metadata": {},
   "outputs": [
    {
     "data": {
      "text/plain": [
       "<matplotlib.collections.PathCollection at 0x17c46387d88>"
      ]
     },
     "execution_count": 98,
     "metadata": {},
     "output_type": "execute_result"
    },
    {
     "data": {
      "image/png": "[encoded data removed]",
      "text/plain": [
       "<Figure size 432x288 with 1 Axes>"
      ]
     },
     "metadata": {
      "needs_background": "light"
     },
     "output_type": "display_data"
    }
   ],
   "source": [
    "plt.scatter(dfcontoh['x'], dfcontoh['y'])"
   ]
  },
  {
   "cell_type": "code",
   "execution_count": 99,
   "metadata": {},
   "outputs": [
    {
     "data": {
      "text/html": [
       "<div>\n",
       "<style scoped>\n",
       "    .dataframe tbody tr th:only-of-type {\n",
       "        vertical-align: middle;\n",
       "    }\n",
       "\n",
       "    .dataframe tbody tr th {\n",
       "        vertical-align: top;\n",
       "    }\n",
       "\n",
       "    .dataframe thead th {\n",
       "        text-align: right;\n",
       "    }\n",
       "</style>\n",
       "<table border=\"1\" class=\"dataframe\">\n",
       "  <thead>\n",
       "    <tr style=\"text-align: right;\">\n",
       "      <th></th>\n",
       "      <th>x</th>\n",
       "      <th>y</th>\n",
       "    </tr>\n",
       "  </thead>\n",
       "  <tbody>\n",
       "    <tr>\n",
       "      <th>x</th>\n",
       "      <td>1.0</td>\n",
       "      <td>0.0</td>\n",
       "    </tr>\n",
       "    <tr>\n",
       "      <th>y</th>\n",
       "      <td>0.0</td>\n",
       "      <td>1.0</td>\n",
       "    </tr>\n",
       "  </tbody>\n",
       "</table>\n",
       "</div>"
      ],
      "text/plain": [
       "     x    y\n",
       "x  1.0  0.0\n",
       "y  0.0  1.0"
      ]
     },
     "execution_count": 99,
     "metadata": {},
     "output_type": "execute_result"
    }
   ],
   "source": [
    "dfcontoh.corr()"
   ]
  },
  {
   "cell_type": "code",
   "execution_count": 100,
   "metadata": {},
   "outputs": [
    {
     "data": {
      "text/html": [
       "<div>\n",
       "<style scoped>\n",
       "    .dataframe tbody tr th:only-of-type {\n",
       "        vertical-align: middle;\n",
       "    }\n",
       "\n",
       "    .dataframe tbody tr th {\n",
       "        vertical-align: top;\n",
       "    }\n",
       "\n",
       "    .dataframe thead th {\n",
       "        text-align: right;\n",
       "    }\n",
       "</style>\n",
       "<table border=\"1\" class=\"dataframe\">\n",
       "  <thead>\n",
       "    <tr style=\"text-align: right;\">\n",
       "      <th></th>\n",
       "      <th>PC1</th>\n",
       "      <th>PC2</th>\n",
       "      <th>benign</th>\n",
       "    </tr>\n",
       "  </thead>\n",
       "  <tbody>\n",
       "    <tr>\n",
       "      <th>0</th>\n",
       "      <td>9.192837</td>\n",
       "      <td>1.948583</td>\n",
       "      <td>0</td>\n",
       "    </tr>\n",
       "    <tr>\n",
       "      <th>1</th>\n",
       "      <td>2.387802</td>\n",
       "      <td>-3.768172</td>\n",
       "      <td>0</td>\n",
       "    </tr>\n",
       "    <tr>\n",
       "      <th>2</th>\n",
       "      <td>5.733896</td>\n",
       "      <td>-1.075174</td>\n",
       "      <td>0</td>\n",
       "    </tr>\n",
       "    <tr>\n",
       "      <th>3</th>\n",
       "      <td>7.122953</td>\n",
       "      <td>10.275589</td>\n",
       "      <td>0</td>\n",
       "    </tr>\n",
       "    <tr>\n",
       "      <th>4</th>\n",
       "      <td>3.935302</td>\n",
       "      <td>-1.948072</td>\n",
       "      <td>0</td>\n",
       "    </tr>\n",
       "    <tr>\n",
       "      <th>...</th>\n",
       "      <td>...</td>\n",
       "      <td>...</td>\n",
       "      <td>...</td>\n",
       "    </tr>\n",
       "    <tr>\n",
       "      <th>564</th>\n",
       "      <td>6.439315</td>\n",
       "      <td>-3.576817</td>\n",
       "      <td>0</td>\n",
       "    </tr>\n",
       "    <tr>\n",
       "      <th>565</th>\n",
       "      <td>3.793382</td>\n",
       "      <td>-3.584048</td>\n",
       "      <td>0</td>\n",
       "    </tr>\n",
       "    <tr>\n",
       "      <th>566</th>\n",
       "      <td>1.256179</td>\n",
       "      <td>-1.902297</td>\n",
       "      <td>0</td>\n",
       "    </tr>\n",
       "    <tr>\n",
       "      <th>567</th>\n",
       "      <td>10.374794</td>\n",
       "      <td>1.672010</td>\n",
       "      <td>0</td>\n",
       "    </tr>\n",
       "    <tr>\n",
       "      <th>568</th>\n",
       "      <td>-5.475243</td>\n",
       "      <td>-0.670637</td>\n",
       "      <td>1</td>\n",
       "    </tr>\n",
       "  </tbody>\n",
       "</table>\n",
       "<p>569 rows × 3 columns</p>\n",
       "</div>"
      ],
      "text/plain": [
       "           PC1        PC2  benign\n",
       "0     9.192837   1.948583       0\n",
       "1     2.387802  -3.768172       0\n",
       "2     5.733896  -1.075174       0\n",
       "3     7.122953  10.275589       0\n",
       "4     3.935302  -1.948072       0\n",
       "..         ...        ...     ...\n",
       "564   6.439315  -3.576817       0\n",
       "565   3.793382  -3.584048       0\n",
       "566   1.256179  -1.902297       0\n",
       "567  10.374794   1.672010       0\n",
       "568  -5.475243  -0.670637       1\n",
       "\n",
       "[569 rows x 3 columns]"
      ]
     },
     "execution_count": 100,
     "metadata": {},
     "output_type": "execute_result"
    }
   ],
   "source": [
    "dfpca"
   ]
  },
  {
   "cell_type": "code",
   "execution_count": 101,
   "metadata": {
    "scrolled": true
   },
   "outputs": [
    {
     "data": {
      "text/plain": [
       "1    357\n",
       "0    212\n",
       "Name: benign, dtype: int64"
      ]
     },
     "execution_count": 101,
     "metadata": {},
     "output_type": "execute_result"
    }
   ],
   "source": [
    "dfpca['benign'].value_counts()"
   ]
  },
  {
   "cell_type": "code",
   "execution_count": 136,
   "metadata": {},
   "outputs": [],
   "source": [
    "gradient_pca4 = GradientBoostingClassifier(learning_rate=0.1, subsample=.5, n_estimators=100)"
   ]
  },
  {
   "cell_type": "code",
   "execution_count": 102,
   "metadata": {},
   "outputs": [],
   "source": [
    "gradient_pca = GradientBoostingClassifier(learning_rate = 0.1, subsample=.5, n_estimators=100)"
   ]
  },
  {
   "cell_type": "code",
   "execution_count": 137,
   "metadata": {},
   "outputs": [],
   "source": [
    "Xpca = dfpca.drop('benign', axis=1)\n",
    "ypca = dfpca['benign']\n",
    "Xpca_tr, Xpca_ts, ypca_tr, ypca_ts = train_test_split(Xpca, ypca, test_size=.2, random_state=42)"
   ]
  },
  {
   "cell_type": "code",
   "execution_count": 138,
   "metadata": {},
   "outputs": [
    {
     "data": {
      "text/plain": [
       "GradientBoostingClassifier(ccp_alpha=0.0, criterion='friedman_mse', init=None,\n",
       "                           learning_rate=0.1, loss='deviance', max_depth=3,\n",
       "                           max_features=None, max_leaf_nodes=None,\n",
       "                           min_impurity_decrease=0.0, min_impurity_split=None,\n",
       "                           min_samples_leaf=1, min_samples_split=2,\n",
       "                           min_weight_fraction_leaf=0.0, n_estimators=100,\n",
       "                           n_iter_no_change=None, presort='deprecated',\n",
       "                           random_state=None, subsample=0.5, tol=0.0001,\n",
       "                           validation_fraction=0.1, verbose=0,\n",
       "                           warm_start=False)"
      ]
     },
     "execution_count": 138,
     "metadata": {},
     "output_type": "execute_result"
    }
   ],
   "source": [
    "gradient_pca4.fit(Xpca_tr, ypca_tr)"
   ]
  },
  {
   "cell_type": "code",
   "execution_count": 139,
   "metadata": {},
   "outputs": [
    {
     "data": {
      "text/plain": [
       "array([ 1.49215415e-01,  1.14782268e-01,  8.94671260e-02,  7.45426096e-02,\n",
       "        6.18367112e-02,  6.20555120e-02,  5.16918200e-02,  4.81765855e-02,\n",
       "        4.34067767e-02,  3.34113875e-02,  3.15048306e-02,  2.34598114e-02,\n",
       "        2.37791278e-02,  1.73280704e-02,  1.89345976e-02,  1.08792490e-02,\n",
       "        1.22692792e-02,  1.30566178e-02,  9.22104376e-03,  1.01125163e-02,\n",
       "        6.36035561e-03,  1.02002165e-02,  7.10988082e-03,  7.88238439e-03,\n",
       "        8.11010423e-03,  7.32654084e-03,  4.78389980e-03,  5.67729290e-03,\n",
       "        3.36923181e-03,  5.57705224e-03,  1.51747080e-03,  3.49574258e-03,\n",
       "        1.99193612e-03,  1.87331245e-03,  3.84323075e-03, -2.34131523e-04,\n",
       "        4.25963780e-04,  3.44946698e-03,  2.45898383e-03,  7.09432979e-04,\n",
       "        7.00064273e-04,  3.10005571e-03,  1.21744771e-03,  5.22237555e-04,\n",
       "        1.49254809e-04,  6.97906708e-05,  1.51261902e-03, -7.94087043e-04,\n",
       "       -1.27772420e-03,  3.96600115e-04, -1.19513136e-03,  1.28283138e-03,\n",
       "        2.52883904e-04,  1.12201229e-03, -4.19209065e-04, -1.88593914e-04,\n",
       "       -3.25061974e-04, -1.35068703e-04,  7.34155335e-04,  3.53967340e-04,\n",
       "       -3.43272247e-04, -4.11979519e-04, -5.38383456e-04, -6.95115956e-04,\n",
       "        1.92567897e-05, -7.32822403e-04, -1.14424109e-03, -2.95941196e-04,\n",
       "       -4.10944413e-04, -9.17155226e-04, -1.13897917e-04, -1.12491122e-03,\n",
       "       -1.18115268e-03, -4.04210803e-04,  1.04128627e-04,  4.46439618e-04,\n",
       "        1.03792655e-04,  9.76596567e-05, -7.48514733e-05, -3.16629413e-04,\n",
       "       -9.06773739e-04, -3.07407251e-04, -5.08770714e-04, -3.09224223e-04,\n",
       "        1.10405669e-05, -7.28477234e-04, -1.15206366e-03,  2.27260407e-04,\n",
       "       -1.94329592e-04, -8.91117734e-04, -3.15884109e-04, -2.70189340e-04,\n",
       "       -1.69151142e-04,  1.49418466e-04, -4.37385780e-04, -3.34796182e-04,\n",
       "       -1.60372648e-04,  1.78438724e-04, -3.06098716e-04, -3.71616937e-04])"
      ]
     },
     "execution_count": 139,
     "metadata": {},
     "output_type": "execute_result"
    }
   ],
   "source": [
    "gradient_pca4.oob_improvement_"
   ]
  },
  {
   "cell_type": "code",
   "execution_count": 140,
   "metadata": {},
   "outputs": [
    {
     "name": "stdout",
     "output_type": "stream",
     "text": [
      "              precision    recall  f1-score   support\n",
      "\n",
      "           0       1.00      1.00      1.00       169\n",
      "           1       1.00      1.00      1.00       286\n",
      "\n",
      "    accuracy                           1.00       455\n",
      "   macro avg       1.00      1.00      1.00       455\n",
      "weighted avg       1.00      1.00      1.00       455\n",
      "\n"
     ]
    }
   ],
   "source": [
    "print(classification_report(ypca_tr, gradient_pca4.predict(Xpca_tr)))"
   ]
  },
  {
   "cell_type": "code",
   "execution_count": 141,
   "metadata": {},
   "outputs": [
    {
     "data": {
      "text/plain": [
       "array([[169,   0],\n",
       "       [  0, 286]], dtype=int64)"
      ]
     },
     "execution_count": 141,
     "metadata": {},
     "output_type": "execute_result"
    }
   ],
   "source": [
    "confusion_matrix(ypca_tr, gradient_pca4.predict(Xpca_tr))"
   ]
  },
  {
   "cell_type": "code",
   "execution_count": 142,
   "metadata": {},
   "outputs": [
    {
     "name": "stdout",
     "output_type": "stream",
     "text": [
      "              precision    recall  f1-score   support\n",
      "\n",
      "           0       0.93      0.93      0.93        43\n",
      "           1       0.96      0.96      0.96        71\n",
      "\n",
      "    accuracy                           0.95       114\n",
      "   macro avg       0.94      0.94      0.94       114\n",
      "weighted avg       0.95      0.95      0.95       114\n",
      "\n"
     ]
    }
   ],
   "source": [
    "print(classification_report(ypca_ts, gradient_pca4.predict(Xpca_ts)))"
   ]
  },
  {
   "cell_type": "code",
   "execution_count": 143,
   "metadata": {},
   "outputs": [
    {
     "data": {
      "text/plain": [
       "array([[40,  3],\n",
       "       [ 3, 68]], dtype=int64)"
      ]
     },
     "execution_count": 143,
     "metadata": {},
     "output_type": "execute_result"
    }
   ],
   "source": [
    "confusion_matrix(ypca_ts, gradient_pca4.predict(Xpca_ts))"
   ]
  },
  {
   "cell_type": "code",
   "execution_count": 111,
   "metadata": {},
   "outputs": [],
   "source": [
    "gradpcaprob1 = gradient_pca.predict_proba(Xpca_ts)[:,1]\n",
    "fpr_grp, tpr_grp, thres_gpr = roc_curve(ypca_ts, gradpcaprob1)\n",
    "roc_auc_grp1 = auc(fpr_grp, tpr_grp)"
   ]
  },
  {
   "cell_type": "code",
   "execution_count": 114,
   "metadata": {},
   "outputs": [
    {
     "data": {
      "image/png": "[encoded data removed]",
      "text/plain": [
       "<Figure size 1152x576 with 2 Axes>"
      ]
     },
     "metadata": {
      "needs_background": "light"
     },
     "output_type": "display_data"
    },
    {
     "data": {
      "text/plain": [
       "<sklearn.metrics._plot.confusion_matrix.ConfusionMatrixDisplay at 0x17c4641f748>"
      ]
     },
     "execution_count": 114,
     "metadata": {},
     "output_type": "execute_result"
    },
    {
     "data": {
      "image/png": "[encoded data removed]",
      "text/plain": [
       "<Figure size 432x288 with 2 Axes>"
      ]
     },
     "metadata": {
      "needs_background": "light"
     },
     "output_type": "display_data"
    }
   ],
   "source": [
    "plt.figure(figsize=(16,8))\n",
    "plt.subplot(121)\n",
    "plt.title('ROC Gradient w/o PCA')\n",
    "plt.plot(fpr_gr, tpr_gr, 'red', label = 'AUC GradientBoost:{}'.format(round(roc_auc_gr1,4)))\n",
    "plt.plot([0,1], [0,1], 'r--')\n",
    "plt.xlim([0,1])\n",
    "plt.ylim([0,1])\n",
    "plt.xlabel('False Positive Rate')\n",
    "plt.ylabel('True Positive Rate')\n",
    "plt.fill_between(fpr_gr, tpr_gr, 0, facecolor='pink', alpha=1)\n",
    "plt.legend(loc='lower right')\n",
    "\n",
    "plt.subplot(122)\n",
    "plt.title('ROC Gradient PCA')\n",
    "plt.plot(fpr_grp, tpr_grp, 'red', label = 'AUC GradientBoost PCA:{}'.format(round(roc_auc_grp1,4)))\n",
    "plt.plot([0,1], [0,1], 'r--')\n",
    "plt.xlim([0,1])\n",
    "plt.ylim([0,1])\n",
    "plt.xlabel('False Positive Rate')\n",
    "plt.ylabel('True Positive Rate')\n",
    "plt.fill_between(fpr_grp, tpr_grp, 0, facecolor='pink', alpha=1)\n",
    "plt.legend(loc='lower right')\n",
    "plt.show()\n",
    "\n",
    "plot_confusion_matrix(gradient_pca, Xpca_ts, ypca_ts)"
   ]
  },
  {
   "cell_type": "markdown",
   "metadata": {},
   "source": [
    "XGBoost\n",
    "https://www.youtube.com/watch?v=OtD8wVaFm6E&t=15s"
   ]
  },
  {
   "cell_type": "code",
   "execution_count": null,
   "metadata": {},
   "outputs": [],
   "source": []
  }
 ],
 "metadata": {
  "kernelspec": {
   "display_name": "Python 3",
   "language": "python",
   "name": "python3"
  },
  "language_info": {
   "codemirror_mode": {
    "name": "ipython",
    "version": 3
   },
   "file_extension": ".py",
   "mimetype": "text/x-python",
   "name": "python",
   "nbconvert_exporter": "python",
   "pygments_lexer": "ipython3",
   "version": "3.7.4"
  }
 },
 "nbformat": 4,
 "nbformat_minor": 4
}
