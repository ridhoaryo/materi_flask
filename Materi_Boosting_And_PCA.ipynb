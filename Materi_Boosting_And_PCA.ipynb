{
 "cells": [
  {
   "cell_type": "code",
   "execution_count": 1,
   "metadata": {},
   "outputs": [],
   "source": [
    "import numpy as np\n",
    "import pandas as pd\n",
    "import matplotlib.pyplot as plt\n",
    "import seaborn as sns\n",
    "from sklearn.model_selection import train_test_split\n",
    "from sklearn.tree import DecisionTreeClassifier\n",
    "from sklearn.model_selection import GridSearchCV\n",
    "from sklearn.metrics import classification_report, plot_confusion_matrix, confusion_matrix\n",
    "from sklearn.metrics import accuracy_score, roc_auc_score, f1_score, roc_curve, roc_auc_score, auc\n",
    "\n",
    "%matplotlib inline\n",
    "pd.set_option('display.max_columns', None)"
   ]
  },
  {
   "cell_type": "markdown",
   "metadata": {},
   "source": [
    "## Import the data"
   ]
  },
  {
   "cell_type": "code",
   "execution_count": 2,
   "metadata": {},
   "outputs": [],
   "source": [
    "from sklearn.datasets import load_breast_cancer"
   ]
  },
  {
   "cell_type": "code",
   "execution_count": 3,
   "metadata": {},
   "outputs": [],
   "source": [
    "cancer = load_breast_cancer()"
   ]
  },
  {
   "cell_type": "code",
   "execution_count": 4,
   "metadata": {},
   "outputs": [
    {
     "data": {
      "text/plain": [
       "dict_keys(['data', 'target', 'target_names', 'DESCR', 'feature_names', 'filename'])"
      ]
     },
     "execution_count": 4,
     "metadata": {},
     "output_type": "execute_result"
    }
   ],
   "source": [
    "cancer.keys()"
   ]
  },
  {
   "cell_type": "code",
   "execution_count": 5,
   "metadata": {
    "scrolled": true
   },
   "outputs": [
    {
     "name": "stdout",
     "output_type": "stream",
     "text": [
      ".. _breast_cancer_dataset:\n",
      "\n",
      "Breast cancer wisconsin (diagnostic) dataset\n",
      "--------------------------------------------\n",
      "\n",
      "**Data Set Characteristics:**\n",
      "\n",
      "    :Number of Instances: 569\n",
      "\n",
      "    :Number of Attributes: 30 numeric, predictive attributes and the class\n",
      "\n",
      "    :Attribute Information:\n",
      "        - radius (mean of distances from center to points on the perimeter)\n",
      "        - texture (standard deviation of gray-scale values)\n",
      "        - perimeter\n",
      "        - area\n",
      "        - smoothness (local variation in radius lengths)\n",
      "        - compactness (perimeter^2 / area - 1.0)\n",
      "        - concavity (severity of concave portions of the contour)\n",
      "        - concave points (number of concave portions of the contour)\n",
      "        - symmetry \n",
      "        - fractal dimension (\"coastline approximation\" - 1)\n",
      "\n",
      "        The mean, standard error, and \"worst\" or largest (mean of the three\n",
      "        largest values) of these features were computed for each image,\n",
      "        resulting in 30 features.  For instance, field 3 is Mean Radius, field\n",
      "        13 is Radius SE, field 23 is Worst Radius.\n",
      "\n",
      "        - class:\n",
      "                - WDBC-Malignant\n",
      "                - WDBC-Benign\n",
      "\n",
      "    :Summary Statistics:\n",
      "\n",
      "    ===================================== ====== ======\n",
      "                                           Min    Max\n",
      "    ===================================== ====== ======\n",
      "    radius (mean):                        6.981  28.11\n",
      "    texture (mean):                       9.71   39.28\n",
      "    perimeter (mean):                     43.79  188.5\n",
      "    area (mean):                          143.5  2501.0\n",
      "    smoothness (mean):                    0.053  0.163\n",
      "    compactness (mean):                   0.019  0.345\n",
      "    concavity (mean):                     0.0    0.427\n",
      "    concave points (mean):                0.0    0.201\n",
      "    symmetry (mean):                      0.106  0.304\n",
      "    fractal dimension (mean):             0.05   0.097\n",
      "    radius (standard error):              0.112  2.873\n",
      "    texture (standard error):             0.36   4.885\n",
      "    perimeter (standard error):           0.757  21.98\n",
      "    area (standard error):                6.802  542.2\n",
      "    smoothness (standard error):          0.002  0.031\n",
      "    compactness (standard error):         0.002  0.135\n",
      "    concavity (standard error):           0.0    0.396\n",
      "    concave points (standard error):      0.0    0.053\n",
      "    symmetry (standard error):            0.008  0.079\n",
      "    fractal dimension (standard error):   0.001  0.03\n",
      "    radius (worst):                       7.93   36.04\n",
      "    texture (worst):                      12.02  49.54\n",
      "    perimeter (worst):                    50.41  251.2\n",
      "    area (worst):                         185.2  4254.0\n",
      "    smoothness (worst):                   0.071  0.223\n",
      "    compactness (worst):                  0.027  1.058\n",
      "    concavity (worst):                    0.0    1.252\n",
      "    concave points (worst):               0.0    0.291\n",
      "    symmetry (worst):                     0.156  0.664\n",
      "    fractal dimension (worst):            0.055  0.208\n",
      "    ===================================== ====== ======\n",
      "\n",
      "    :Missing Attribute Values: None\n",
      "\n",
      "    :Class Distribution: 212 - Malignant, 357 - Benign\n",
      "\n",
      "    :Creator:  Dr. William H. Wolberg, W. Nick Street, Olvi L. Mangasarian\n",
      "\n",
      "    :Donor: Nick Street\n",
      "\n",
      "    :Date: November, 1995\n",
      "\n",
      "This is a copy of UCI ML Breast Cancer Wisconsin (Diagnostic) datasets.\n",
      "https://goo.gl/U2Uwz2\n",
      "\n",
      "Features are computed from a digitized image of a fine needle\n",
      "aspirate (FNA) of a breast mass.  They describe\n",
      "characteristics of the cell nuclei present in the image.\n",
      "\n",
      "Separating plane described above was obtained using\n",
      "Multisurface Method-Tree (MSM-T) [K. P. Bennett, \"Decision Tree\n",
      "Construction Via Linear Programming.\" Proceedings of the 4th\n",
      "Midwest Artificial Intelligence and Cognitive Science Society,\n",
      "pp. 97-101, 1992], a classification method which uses linear\n",
      "programming to construct a decision tree.  Relevant features\n",
      "were selected using an exhaustive search in the space of 1-4\n",
      "features and 1-3 separating planes.\n",
      "\n",
      "The actual linear program used to obtain the separating plane\n",
      "in the 3-dimensional space is that described in:\n",
      "[K. P. Bennett and O. L. Mangasarian: \"Robust Linear\n",
      "Programming Discrimination of Two Linearly Inseparable Sets\",\n",
      "Optimization Methods and Software 1, 1992, 23-34].\n",
      "\n",
      "This database is also available through the UW CS ftp server:\n",
      "\n",
      "ftp ftp.cs.wisc.edu\n",
      "cd math-prog/cpo-dataset/machine-learn/WDBC/\n",
      "\n",
      ".. topic:: References\n",
      "\n",
      "   - W.N. Street, W.H. Wolberg and O.L. Mangasarian. Nuclear feature extraction \n",
      "     for breast tumor diagnosis. IS&T/SPIE 1993 International Symposium on \n",
      "     Electronic Imaging: Science and Technology, volume 1905, pages 861-870,\n",
      "     San Jose, CA, 1993.\n",
      "   - O.L. Mangasarian, W.N. Street and W.H. Wolberg. Breast cancer diagnosis and \n",
      "     prognosis via linear programming. Operations Research, 43(4), pages 570-577, \n",
      "     July-August 1995.\n",
      "   - W.H. Wolberg, W.N. Street, and O.L. Mangasarian. Machine learning techniques\n",
      "     to diagnose breast cancer from fine-needle aspirates. Cancer Letters 77 (1994) \n",
      "     163-171.\n"
     ]
    }
   ],
   "source": [
    "print(cancer['DESCR'])"
   ]
  },
  {
   "cell_type": "code",
   "execution_count": 6,
   "metadata": {},
   "outputs": [
    {
     "data": {
      "text/plain": [
       "array(['mean radius', 'mean texture', 'mean perimeter', 'mean area',\n",
       "       'mean smoothness', 'mean compactness', 'mean concavity',\n",
       "       'mean concave points', 'mean symmetry', 'mean fractal dimension',\n",
       "       'radius error', 'texture error', 'perimeter error', 'area error',\n",
       "       'smoothness error', 'compactness error', 'concavity error',\n",
       "       'concave points error', 'symmetry error',\n",
       "       'fractal dimension error', 'worst radius', 'worst texture',\n",
       "       'worst perimeter', 'worst area', 'worst smoothness',\n",
       "       'worst compactness', 'worst concavity', 'worst concave points',\n",
       "       'worst symmetry', 'worst fractal dimension'], dtype='<U23')"
      ]
     },
     "execution_count": 6,
     "metadata": {},
     "output_type": "execute_result"
    }
   ],
   "source": [
    "cancer['feature_names']"
   ]
  },
  {
   "cell_type": "code",
   "execution_count": 7,
   "metadata": {},
   "outputs": [
    {
     "data": {
      "text/html": [
       "<div>\n",
       "<style scoped>\n",
       "    .dataframe tbody tr th:only-of-type {\n",
       "        vertical-align: middle;\n",
       "    }\n",
       "\n",
       "    .dataframe tbody tr th {\n",
       "        vertical-align: top;\n",
       "    }\n",
       "\n",
       "    .dataframe thead th {\n",
       "        text-align: right;\n",
       "    }\n",
       "</style>\n",
       "<table border=\"1\" class=\"dataframe\">\n",
       "  <thead>\n",
       "    <tr style=\"text-align: right;\">\n",
       "      <th></th>\n",
       "      <th>mean radius</th>\n",
       "      <th>mean texture</th>\n",
       "      <th>mean perimeter</th>\n",
       "      <th>mean area</th>\n",
       "      <th>mean smoothness</th>\n",
       "      <th>mean compactness</th>\n",
       "      <th>mean concavity</th>\n",
       "      <th>mean concave points</th>\n",
       "      <th>mean symmetry</th>\n",
       "      <th>mean fractal dimension</th>\n",
       "      <th>radius error</th>\n",
       "      <th>texture error</th>\n",
       "      <th>perimeter error</th>\n",
       "      <th>area error</th>\n",
       "      <th>smoothness error</th>\n",
       "      <th>compactness error</th>\n",
       "      <th>concavity error</th>\n",
       "      <th>concave points error</th>\n",
       "      <th>symmetry error</th>\n",
       "      <th>fractal dimension error</th>\n",
       "      <th>worst radius</th>\n",
       "      <th>worst texture</th>\n",
       "      <th>worst perimeter</th>\n",
       "      <th>worst area</th>\n",
       "      <th>worst smoothness</th>\n",
       "      <th>worst compactness</th>\n",
       "      <th>worst concavity</th>\n",
       "      <th>worst concave points</th>\n",
       "      <th>worst symmetry</th>\n",
       "      <th>worst fractal dimension</th>\n",
       "      <th>benign</th>\n",
       "    </tr>\n",
       "  </thead>\n",
       "  <tbody>\n",
       "    <tr>\n",
       "      <th>0</th>\n",
       "      <td>17.99</td>\n",
       "      <td>10.38</td>\n",
       "      <td>122.80</td>\n",
       "      <td>1001.0</td>\n",
       "      <td>0.11840</td>\n",
       "      <td>0.27760</td>\n",
       "      <td>0.3001</td>\n",
       "      <td>0.14710</td>\n",
       "      <td>0.2419</td>\n",
       "      <td>0.07871</td>\n",
       "      <td>1.0950</td>\n",
       "      <td>0.9053</td>\n",
       "      <td>8.589</td>\n",
       "      <td>153.40</td>\n",
       "      <td>0.006399</td>\n",
       "      <td>0.04904</td>\n",
       "      <td>0.05373</td>\n",
       "      <td>0.01587</td>\n",
       "      <td>0.03003</td>\n",
       "      <td>0.006193</td>\n",
       "      <td>25.38</td>\n",
       "      <td>17.33</td>\n",
       "      <td>184.60</td>\n",
       "      <td>2019.0</td>\n",
       "      <td>0.1622</td>\n",
       "      <td>0.6656</td>\n",
       "      <td>0.7119</td>\n",
       "      <td>0.2654</td>\n",
       "      <td>0.4601</td>\n",
       "      <td>0.11890</td>\n",
       "      <td>0</td>\n",
       "    </tr>\n",
       "    <tr>\n",
       "      <th>1</th>\n",
       "      <td>20.57</td>\n",
       "      <td>17.77</td>\n",
       "      <td>132.90</td>\n",
       "      <td>1326.0</td>\n",
       "      <td>0.08474</td>\n",
       "      <td>0.07864</td>\n",
       "      <td>0.0869</td>\n",
       "      <td>0.07017</td>\n",
       "      <td>0.1812</td>\n",
       "      <td>0.05667</td>\n",
       "      <td>0.5435</td>\n",
       "      <td>0.7339</td>\n",
       "      <td>3.398</td>\n",
       "      <td>74.08</td>\n",
       "      <td>0.005225</td>\n",
       "      <td>0.01308</td>\n",
       "      <td>0.01860</td>\n",
       "      <td>0.01340</td>\n",
       "      <td>0.01389</td>\n",
       "      <td>0.003532</td>\n",
       "      <td>24.99</td>\n",
       "      <td>23.41</td>\n",
       "      <td>158.80</td>\n",
       "      <td>1956.0</td>\n",
       "      <td>0.1238</td>\n",
       "      <td>0.1866</td>\n",
       "      <td>0.2416</td>\n",
       "      <td>0.1860</td>\n",
       "      <td>0.2750</td>\n",
       "      <td>0.08902</td>\n",
       "      <td>0</td>\n",
       "    </tr>\n",
       "    <tr>\n",
       "      <th>2</th>\n",
       "      <td>19.69</td>\n",
       "      <td>21.25</td>\n",
       "      <td>130.00</td>\n",
       "      <td>1203.0</td>\n",
       "      <td>0.10960</td>\n",
       "      <td>0.15990</td>\n",
       "      <td>0.1974</td>\n",
       "      <td>0.12790</td>\n",
       "      <td>0.2069</td>\n",
       "      <td>0.05999</td>\n",
       "      <td>0.7456</td>\n",
       "      <td>0.7869</td>\n",
       "      <td>4.585</td>\n",
       "      <td>94.03</td>\n",
       "      <td>0.006150</td>\n",
       "      <td>0.04006</td>\n",
       "      <td>0.03832</td>\n",
       "      <td>0.02058</td>\n",
       "      <td>0.02250</td>\n",
       "      <td>0.004571</td>\n",
       "      <td>23.57</td>\n",
       "      <td>25.53</td>\n",
       "      <td>152.50</td>\n",
       "      <td>1709.0</td>\n",
       "      <td>0.1444</td>\n",
       "      <td>0.4245</td>\n",
       "      <td>0.4504</td>\n",
       "      <td>0.2430</td>\n",
       "      <td>0.3613</td>\n",
       "      <td>0.08758</td>\n",
       "      <td>0</td>\n",
       "    </tr>\n",
       "    <tr>\n",
       "      <th>3</th>\n",
       "      <td>11.42</td>\n",
       "      <td>20.38</td>\n",
       "      <td>77.58</td>\n",
       "      <td>386.1</td>\n",
       "      <td>0.14250</td>\n",
       "      <td>0.28390</td>\n",
       "      <td>0.2414</td>\n",
       "      <td>0.10520</td>\n",
       "      <td>0.2597</td>\n",
       "      <td>0.09744</td>\n",
       "      <td>0.4956</td>\n",
       "      <td>1.1560</td>\n",
       "      <td>3.445</td>\n",
       "      <td>27.23</td>\n",
       "      <td>0.009110</td>\n",
       "      <td>0.07458</td>\n",
       "      <td>0.05661</td>\n",
       "      <td>0.01867</td>\n",
       "      <td>0.05963</td>\n",
       "      <td>0.009208</td>\n",
       "      <td>14.91</td>\n",
       "      <td>26.50</td>\n",
       "      <td>98.87</td>\n",
       "      <td>567.7</td>\n",
       "      <td>0.2098</td>\n",
       "      <td>0.8663</td>\n",
       "      <td>0.6869</td>\n",
       "      <td>0.2575</td>\n",
       "      <td>0.6638</td>\n",
       "      <td>0.17300</td>\n",
       "      <td>0</td>\n",
       "    </tr>\n",
       "    <tr>\n",
       "      <th>4</th>\n",
       "      <td>20.29</td>\n",
       "      <td>14.34</td>\n",
       "      <td>135.10</td>\n",
       "      <td>1297.0</td>\n",
       "      <td>0.10030</td>\n",
       "      <td>0.13280</td>\n",
       "      <td>0.1980</td>\n",
       "      <td>0.10430</td>\n",
       "      <td>0.1809</td>\n",
       "      <td>0.05883</td>\n",
       "      <td>0.7572</td>\n",
       "      <td>0.7813</td>\n",
       "      <td>5.438</td>\n",
       "      <td>94.44</td>\n",
       "      <td>0.011490</td>\n",
       "      <td>0.02461</td>\n",
       "      <td>0.05688</td>\n",
       "      <td>0.01885</td>\n",
       "      <td>0.01756</td>\n",
       "      <td>0.005115</td>\n",
       "      <td>22.54</td>\n",
       "      <td>16.67</td>\n",
       "      <td>152.20</td>\n",
       "      <td>1575.0</td>\n",
       "      <td>0.1374</td>\n",
       "      <td>0.2050</td>\n",
       "      <td>0.4000</td>\n",
       "      <td>0.1625</td>\n",
       "      <td>0.2364</td>\n",
       "      <td>0.07678</td>\n",
       "      <td>0</td>\n",
       "    </tr>\n",
       "  </tbody>\n",
       "</table>\n",
       "</div>"
      ],
      "text/plain": [
       "   mean radius  mean texture  mean perimeter  mean area  mean smoothness  \\\n",
       "0        17.99         10.38          122.80     1001.0          0.11840   \n",
       "1        20.57         17.77          132.90     1326.0          0.08474   \n",
       "2        19.69         21.25          130.00     1203.0          0.10960   \n",
       "3        11.42         20.38           77.58      386.1          0.14250   \n",
       "4        20.29         14.34          135.10     1297.0          0.10030   \n",
       "\n",
       "   mean compactness  mean concavity  mean concave points  mean symmetry  \\\n",
       "0           0.27760          0.3001              0.14710         0.2419   \n",
       "1           0.07864          0.0869              0.07017         0.1812   \n",
       "2           0.15990          0.1974              0.12790         0.2069   \n",
       "3           0.28390          0.2414              0.10520         0.2597   \n",
       "4           0.13280          0.1980              0.10430         0.1809   \n",
       "\n",
       "   mean fractal dimension  radius error  texture error  perimeter error  \\\n",
       "0                 0.07871        1.0950         0.9053            8.589   \n",
       "1                 0.05667        0.5435         0.7339            3.398   \n",
       "2                 0.05999        0.7456         0.7869            4.585   \n",
       "3                 0.09744        0.4956         1.1560            3.445   \n",
       "4                 0.05883        0.7572         0.7813            5.438   \n",
       "\n",
       "   area error  smoothness error  compactness error  concavity error  \\\n",
       "0      153.40          0.006399            0.04904          0.05373   \n",
       "1       74.08          0.005225            0.01308          0.01860   \n",
       "2       94.03          0.006150            0.04006          0.03832   \n",
       "3       27.23          0.009110            0.07458          0.05661   \n",
       "4       94.44          0.011490            0.02461          0.05688   \n",
       "\n",
       "   concave points error  symmetry error  fractal dimension error  \\\n",
       "0               0.01587         0.03003                 0.006193   \n",
       "1               0.01340         0.01389                 0.003532   \n",
       "2               0.02058         0.02250                 0.004571   \n",
       "3               0.01867         0.05963                 0.009208   \n",
       "4               0.01885         0.01756                 0.005115   \n",
       "\n",
       "   worst radius  worst texture  worst perimeter  worst area  worst smoothness  \\\n",
       "0         25.38          17.33           184.60      2019.0            0.1622   \n",
       "1         24.99          23.41           158.80      1956.0            0.1238   \n",
       "2         23.57          25.53           152.50      1709.0            0.1444   \n",
       "3         14.91          26.50            98.87       567.7            0.2098   \n",
       "4         22.54          16.67           152.20      1575.0            0.1374   \n",
       "\n",
       "   worst compactness  worst concavity  worst concave points  worst symmetry  \\\n",
       "0             0.6656           0.7119                0.2654          0.4601   \n",
       "1             0.1866           0.2416                0.1860          0.2750   \n",
       "2             0.4245           0.4504                0.2430          0.3613   \n",
       "3             0.8663           0.6869                0.2575          0.6638   \n",
       "4             0.2050           0.4000                0.1625          0.2364   \n",
       "\n",
       "   worst fractal dimension  benign  \n",
       "0                  0.11890       0  \n",
       "1                  0.08902       0  \n",
       "2                  0.08758       0  \n",
       "3                  0.17300       0  \n",
       "4                  0.07678       0  "
      ]
     },
     "execution_count": 7,
     "metadata": {},
     "output_type": "execute_result"
    }
   ],
   "source": [
    "df = pd.DataFrame(cancer['data'], columns=cancer['feature_names'])\n",
    "df['benign'] = cancer['target']\n",
    "df.head()"
   ]
  },
  {
   "cell_type": "code",
   "execution_count": 8,
   "metadata": {},
   "outputs": [
    {
     "name": "stdout",
     "output_type": "stream",
     "text": [
      "<class 'pandas.core.frame.DataFrame'>\n",
      "RangeIndex: 569 entries, 0 to 568\n",
      "Data columns (total 31 columns):\n",
      " #   Column                   Non-Null Count  Dtype  \n",
      "---  ------                   --------------  -----  \n",
      " 0   mean radius              569 non-null    float64\n",
      " 1   mean texture             569 non-null    float64\n",
      " 2   mean perimeter           569 non-null    float64\n",
      " 3   mean area                569 non-null    float64\n",
      " 4   mean smoothness          569 non-null    float64\n",
      " 5   mean compactness         569 non-null    float64\n",
      " 6   mean concavity           569 non-null    float64\n",
      " 7   mean concave points      569 non-null    float64\n",
      " 8   mean symmetry            569 non-null    float64\n",
      " 9   mean fractal dimension   569 non-null    float64\n",
      " 10  radius error             569 non-null    float64\n",
      " 11  texture error            569 non-null    float64\n",
      " 12  perimeter error          569 non-null    float64\n",
      " 13  area error               569 non-null    float64\n",
      " 14  smoothness error         569 non-null    float64\n",
      " 15  compactness error        569 non-null    float64\n",
      " 16  concavity error          569 non-null    float64\n",
      " 17  concave points error     569 non-null    float64\n",
      " 18  symmetry error           569 non-null    float64\n",
      " 19  fractal dimension error  569 non-null    float64\n",
      " 20  worst radius             569 non-null    float64\n",
      " 21  worst texture            569 non-null    float64\n",
      " 22  worst perimeter          569 non-null    float64\n",
      " 23  worst area               569 non-null    float64\n",
      " 24  worst smoothness         569 non-null    float64\n",
      " 25  worst compactness        569 non-null    float64\n",
      " 26  worst concavity          569 non-null    float64\n",
      " 27  worst concave points     569 non-null    float64\n",
      " 28  worst symmetry           569 non-null    float64\n",
      " 29  worst fractal dimension  569 non-null    float64\n",
      " 30  benign                   569 non-null    int32  \n",
      "dtypes: float64(30), int32(1)\n",
      "memory usage: 135.7 KB\n"
     ]
    }
   ],
   "source": [
    "df.info()"
   ]
  },
  {
   "cell_type": "code",
   "execution_count": 9,
   "metadata": {},
   "outputs": [
    {
     "data": {
      "text/plain": [
       "<matplotlib.axes._subplots.AxesSubplot at 0x1a9656153c8>"
      ]
     },
     "execution_count": 9,
     "metadata": {},
     "output_type": "execute_result"
    },
    {
     "data": {
      "image/png": "[encoded data removed]",
      "text/plain": [
       "<Figure size 1152x720 with 2 Axes>"
      ]
     },
     "metadata": {
      "needs_background": "light"
     },
     "output_type": "display_data"
    }
   ],
   "source": [
    "plt.figure(figsize=(16,10))\n",
    "sns.heatmap(df.corr())"
   ]
  },
  {
   "cell_type": "code",
   "execution_count": 10,
   "metadata": {},
   "outputs": [
    {
     "data": {
      "text/plain": [
       "<matplotlib.axes._subplots.AxesSubplot at 0x1a966254208>"
      ]
     },
     "execution_count": 10,
     "metadata": {},
     "output_type": "execute_result"
    },
    {
     "data": {
      "image/png": "[encoded data removed]",
      "text/plain": [
       "<Figure size 432x288 with 1 Axes>"
      ]
     },
     "metadata": {
      "needs_background": "light"
     },
     "output_type": "display_data"
    }
   ],
   "source": [
    "sns.countplot(x='benign', data=df)"
   ]
  },
  {
   "cell_type": "code",
   "execution_count": 11,
   "metadata": {},
   "outputs": [
    {
     "data": {
      "text/plain": [
       "1    357\n",
       "0    212\n",
       "Name: benign, dtype: int64"
      ]
     },
     "execution_count": 11,
     "metadata": {},
     "output_type": "execute_result"
    }
   ],
   "source": [
    "df['benign'].value_counts()"
   ]
  },
  {
   "cell_type": "markdown",
   "metadata": {},
   "source": [
    "## AdaBoost\n",
    "\n",
    "Cited from sklearn:\n",
    "\n",
    "An AdaBoost classifier is a meta-estimator that begins by fitting a classifier on the original dataset and then fits additional copies of the classifier on the same dataset but where the weights of incorrectly classified instances are adjusted such that subsequent classifiers focus more on difficult cases. In AdaBoost, we would have two kind of weight; the observation weight and the classifier weight.\n",
    "\n",
    "Using AdaBoost classifier, our target class would be always $y = \\left\\{1, -1\\right\\}$ where positive 1 is represent the positive class and negative 1 (-1) is represent the negative class. \n",
    "\n",
    "In AdaBoost, we could let the classifier equation as below:\n",
    "\n",
    "$$ Gm(x) m=1,2,...,M$$ \n",
    "\n",
    "Where $Gm(x)$ is our boosted classifier and M is the sequence of our weak classifiers, and our objective is:\n",
    "\n",
    "$$G(x)=sign(α_1G_1(x)+α_2G_2(x)+...α_MG_M(x))=sign(\\sum_{m=1}^{M}α_mG_m(x))$$\n",
    "\n",
    "where $α$ is the classifier weight, and sign is represent the positive or negative (depend on what class is predicted)\n",
    "\n",
    "In the first step, Initialize the obervation weights $w_i=1/N$ for every observation on the data. \n",
    "\n",
    "for $m=1,2,...,M$\n",
    "\n",
    "- Compute the weighted error $Err_m=\\large\\frac{\\sum_{i=1}^{N}w_iI(y(i)≠Gm(x(i)))}{\\sum_{i=1}^{N}w_i}$ , where we sum the weight of the misclassified data divided by the sum of all the data weight \n",
    "- Compute the estimator coefficient $α_m=L*log(\\frac{1−err_m}{err_m})$ where $L≤1$ is the learning rate\n",
    "- Set data weights $w_i←w_i*exp[α_mI(y(i)≠Gm(x(i)))]$ which mean if it is misclassified, the observed data would be updated as $\\large w_i * e^{α_m}$ else it updated as $\\large w_i * e^{-α_m}$\n",
    "- Normalized the weight data in each step by $w_i←\\frac{w_i}{\\sum_{i=1}^{N}w_i}$\n",
    "\n",
    "The expected output would be the sum of the classifier weight multiply by the predicted target class. For example if we have 3 classifier which predict 1, 1, -1. The sum would be 1, which mean the prediction would be the positive class, but if we the weight of the classifier is 0.3, 0.1, 1 then the sum would be 0.3 * 1 + 0.1 * 1 + 1 * -1 which equal to -0.6, then our prediction would come to the negative class "
   ]
  },
  {
   "cell_type": "code",
   "execution_count": 12,
   "metadata": {},
   "outputs": [],
   "source": [
    "from sklearn.ensemble import AdaBoostClassifier"
   ]
  },
  {
   "cell_type": "code",
   "execution_count": 13,
   "metadata": {},
   "outputs": [
    {
     "name": "stderr",
     "output_type": "stream",
     "text": [
      "C:\\Users\\R7891\\Anaconda3\\lib\\site-packages\\ipykernel_launcher.py:2: SettingWithCopyWarning: \n",
      "A value is trying to be set on a copy of a slice from a DataFrame.\n",
      "Try using .loc[row_indexer,col_indexer] = value instead\n",
      "\n",
      "See the caveats in the documentation: https://pandas.pydata.org/pandas-docs/stable/user_guide/indexing.html#returning-a-view-versus-a-copy\n",
      "  \n"
     ]
    },
    {
     "data": {
      "text/html": [
       "<div>\n",
       "<style scoped>\n",
       "    .dataframe tbody tr th:only-of-type {\n",
       "        vertical-align: middle;\n",
       "    }\n",
       "\n",
       "    .dataframe tbody tr th {\n",
       "        vertical-align: top;\n",
       "    }\n",
       "\n",
       "    .dataframe thead th {\n",
       "        text-align: right;\n",
       "    }\n",
       "</style>\n",
       "<table border=\"1\" class=\"dataframe\">\n",
       "  <thead>\n",
       "    <tr style=\"text-align: right;\">\n",
       "      <th></th>\n",
       "      <th>worst concave points</th>\n",
       "      <th>worst perimeter</th>\n",
       "      <th>mean concave points</th>\n",
       "      <th>worst radius</th>\n",
       "      <th>mean perimeter</th>\n",
       "      <th>worst area</th>\n",
       "      <th>mean radius</th>\n",
       "      <th>mean area</th>\n",
       "      <th>mean concavity</th>\n",
       "      <th>worst concavity</th>\n",
       "      <th>benign</th>\n",
       "    </tr>\n",
       "  </thead>\n",
       "  <tbody>\n",
       "    <tr>\n",
       "      <th>0</th>\n",
       "      <td>0.2654</td>\n",
       "      <td>184.60</td>\n",
       "      <td>0.14710</td>\n",
       "      <td>25.380</td>\n",
       "      <td>122.80</td>\n",
       "      <td>2019.0</td>\n",
       "      <td>17.99</td>\n",
       "      <td>1001.0</td>\n",
       "      <td>0.30010</td>\n",
       "      <td>0.7119</td>\n",
       "      <td>0</td>\n",
       "    </tr>\n",
       "    <tr>\n",
       "      <th>1</th>\n",
       "      <td>0.1860</td>\n",
       "      <td>158.80</td>\n",
       "      <td>0.07017</td>\n",
       "      <td>24.990</td>\n",
       "      <td>132.90</td>\n",
       "      <td>1956.0</td>\n",
       "      <td>20.57</td>\n",
       "      <td>1326.0</td>\n",
       "      <td>0.08690</td>\n",
       "      <td>0.2416</td>\n",
       "      <td>0</td>\n",
       "    </tr>\n",
       "    <tr>\n",
       "      <th>2</th>\n",
       "      <td>0.2430</td>\n",
       "      <td>152.50</td>\n",
       "      <td>0.12790</td>\n",
       "      <td>23.570</td>\n",
       "      <td>130.00</td>\n",
       "      <td>1709.0</td>\n",
       "      <td>19.69</td>\n",
       "      <td>1203.0</td>\n",
       "      <td>0.19740</td>\n",
       "      <td>0.4504</td>\n",
       "      <td>0</td>\n",
       "    </tr>\n",
       "    <tr>\n",
       "      <th>3</th>\n",
       "      <td>0.2575</td>\n",
       "      <td>98.87</td>\n",
       "      <td>0.10520</td>\n",
       "      <td>14.910</td>\n",
       "      <td>77.58</td>\n",
       "      <td>567.7</td>\n",
       "      <td>11.42</td>\n",
       "      <td>386.1</td>\n",
       "      <td>0.24140</td>\n",
       "      <td>0.6869</td>\n",
       "      <td>0</td>\n",
       "    </tr>\n",
       "    <tr>\n",
       "      <th>4</th>\n",
       "      <td>0.1625</td>\n",
       "      <td>152.20</td>\n",
       "      <td>0.10430</td>\n",
       "      <td>22.540</td>\n",
       "      <td>135.10</td>\n",
       "      <td>1575.0</td>\n",
       "      <td>20.29</td>\n",
       "      <td>1297.0</td>\n",
       "      <td>0.19800</td>\n",
       "      <td>0.4000</td>\n",
       "      <td>0</td>\n",
       "    </tr>\n",
       "    <tr>\n",
       "      <th>...</th>\n",
       "      <td>...</td>\n",
       "      <td>...</td>\n",
       "      <td>...</td>\n",
       "      <td>...</td>\n",
       "      <td>...</td>\n",
       "      <td>...</td>\n",
       "      <td>...</td>\n",
       "      <td>...</td>\n",
       "      <td>...</td>\n",
       "      <td>...</td>\n",
       "      <td>...</td>\n",
       "    </tr>\n",
       "    <tr>\n",
       "      <th>564</th>\n",
       "      <td>0.2216</td>\n",
       "      <td>166.10</td>\n",
       "      <td>0.13890</td>\n",
       "      <td>25.450</td>\n",
       "      <td>142.00</td>\n",
       "      <td>2027.0</td>\n",
       "      <td>21.56</td>\n",
       "      <td>1479.0</td>\n",
       "      <td>0.24390</td>\n",
       "      <td>0.4107</td>\n",
       "      <td>0</td>\n",
       "    </tr>\n",
       "    <tr>\n",
       "      <th>565</th>\n",
       "      <td>0.1628</td>\n",
       "      <td>155.00</td>\n",
       "      <td>0.09791</td>\n",
       "      <td>23.690</td>\n",
       "      <td>131.20</td>\n",
       "      <td>1731.0</td>\n",
       "      <td>20.13</td>\n",
       "      <td>1261.0</td>\n",
       "      <td>0.14400</td>\n",
       "      <td>0.3215</td>\n",
       "      <td>0</td>\n",
       "    </tr>\n",
       "    <tr>\n",
       "      <th>566</th>\n",
       "      <td>0.1418</td>\n",
       "      <td>126.70</td>\n",
       "      <td>0.05302</td>\n",
       "      <td>18.980</td>\n",
       "      <td>108.30</td>\n",
       "      <td>1124.0</td>\n",
       "      <td>16.60</td>\n",
       "      <td>858.1</td>\n",
       "      <td>0.09251</td>\n",
       "      <td>0.3403</td>\n",
       "      <td>0</td>\n",
       "    </tr>\n",
       "    <tr>\n",
       "      <th>567</th>\n",
       "      <td>0.2650</td>\n",
       "      <td>184.60</td>\n",
       "      <td>0.15200</td>\n",
       "      <td>25.740</td>\n",
       "      <td>140.10</td>\n",
       "      <td>1821.0</td>\n",
       "      <td>20.60</td>\n",
       "      <td>1265.0</td>\n",
       "      <td>0.35140</td>\n",
       "      <td>0.9387</td>\n",
       "      <td>0</td>\n",
       "    </tr>\n",
       "    <tr>\n",
       "      <th>568</th>\n",
       "      <td>0.0000</td>\n",
       "      <td>59.16</td>\n",
       "      <td>0.00000</td>\n",
       "      <td>9.456</td>\n",
       "      <td>47.92</td>\n",
       "      <td>268.6</td>\n",
       "      <td>7.76</td>\n",
       "      <td>181.0</td>\n",
       "      <td>0.00000</td>\n",
       "      <td>0.0000</td>\n",
       "      <td>1</td>\n",
       "    </tr>\n",
       "  </tbody>\n",
       "</table>\n",
       "<p>569 rows × 11 columns</p>\n",
       "</div>"
      ],
      "text/plain": [
       "     worst concave points  worst perimeter  mean concave points  worst radius  \\\n",
       "0                  0.2654           184.60              0.14710        25.380   \n",
       "1                  0.1860           158.80              0.07017        24.990   \n",
       "2                  0.2430           152.50              0.12790        23.570   \n",
       "3                  0.2575            98.87              0.10520        14.910   \n",
       "4                  0.1625           152.20              0.10430        22.540   \n",
       "..                    ...              ...                  ...           ...   \n",
       "564                0.2216           166.10              0.13890        25.450   \n",
       "565                0.1628           155.00              0.09791        23.690   \n",
       "566                0.1418           126.70              0.05302        18.980   \n",
       "567                0.2650           184.60              0.15200        25.740   \n",
       "568                0.0000            59.16              0.00000         9.456   \n",
       "\n",
       "     mean perimeter  worst area  mean radius  mean area  mean concavity  \\\n",
       "0            122.80      2019.0        17.99     1001.0         0.30010   \n",
       "1            132.90      1956.0        20.57     1326.0         0.08690   \n",
       "2            130.00      1709.0        19.69     1203.0         0.19740   \n",
       "3             77.58       567.7        11.42      386.1         0.24140   \n",
       "4            135.10      1575.0        20.29     1297.0         0.19800   \n",
       "..              ...         ...          ...        ...             ...   \n",
       "564          142.00      2027.0        21.56     1479.0         0.24390   \n",
       "565          131.20      1731.0        20.13     1261.0         0.14400   \n",
       "566          108.30      1124.0        16.60      858.1         0.09251   \n",
       "567          140.10      1821.0        20.60     1265.0         0.35140   \n",
       "568           47.92       268.6         7.76      181.0         0.00000   \n",
       "\n",
       "     worst concavity  benign  \n",
       "0             0.7119       0  \n",
       "1             0.2416       0  \n",
       "2             0.4504       0  \n",
       "3             0.6869       0  \n",
       "4             0.4000       0  \n",
       "..               ...     ...  \n",
       "564           0.4107       0  \n",
       "565           0.3215       0  \n",
       "566           0.3403       0  \n",
       "567           0.9387       0  \n",
       "568           0.0000       1  \n",
       "\n",
       "[569 rows x 11 columns]"
      ]
     },
     "execution_count": 13,
     "metadata": {},
     "output_type": "execute_result"
    }
   ],
   "source": [
    "best10 = df[df.corr()['benign'].sort_values(ascending=True).head(10).index]\n",
    "best10['benign'] = cancer['target']\n",
    "best10"
   ]
  },
  {
   "cell_type": "code",
   "execution_count": 14,
   "metadata": {},
   "outputs": [],
   "source": [
    "dt = DecisionTreeClassifier(min_samples_split=2, min_samples_leaf=5, max_depth=1)"
   ]
  },
  {
   "cell_type": "code",
   "execution_count": 15,
   "metadata": {},
   "outputs": [],
   "source": [
    "ada = AdaBoostClassifier(base_estimator=dt, n_estimators=1000, learning_rate=0.1, algorithm='SAMME')"
   ]
  },
  {
   "cell_type": "code",
   "execution_count": 16,
   "metadata": {},
   "outputs": [],
   "source": [
    "X = best10.drop('benign', axis=1)\n",
    "y = best10['benign']\n",
    "X_train, X_test, y_train, y_test = train_test_split(X, y, test_size=0.2, random_state=100)"
   ]
  },
  {
   "cell_type": "code",
   "execution_count": 17,
   "metadata": {},
   "outputs": [
    {
     "data": {
      "text/plain": [
       "DecisionTreeClassifier(ccp_alpha=0.0, class_weight=None, criterion='gini',\n",
       "                       max_depth=1, max_features=None, max_leaf_nodes=None,\n",
       "                       min_impurity_decrease=0.0, min_impurity_split=None,\n",
       "                       min_samples_leaf=5, min_samples_split=2,\n",
       "                       min_weight_fraction_leaf=0.0, presort='deprecated',\n",
       "                       random_state=None, splitter='best')"
      ]
     },
     "execution_count": 17,
     "metadata": {},
     "output_type": "execute_result"
    }
   ],
   "source": [
    "dt.fit(X_train, y_train)"
   ]
  },
  {
   "cell_type": "code",
   "execution_count": 18,
   "metadata": {},
   "outputs": [
    {
     "data": {
      "text/plain": [
       "AdaBoostClassifier(algorithm='SAMME',\n",
       "                   base_estimator=DecisionTreeClassifier(ccp_alpha=0.0,\n",
       "                                                         class_weight=None,\n",
       "                                                         criterion='gini',\n",
       "                                                         max_depth=1,\n",
       "                                                         max_features=None,\n",
       "                                                         max_leaf_nodes=None,\n",
       "                                                         min_impurity_decrease=0.0,\n",
       "                                                         min_impurity_split=None,\n",
       "                                                         min_samples_leaf=5,\n",
       "                                                         min_samples_split=2,\n",
       "                                                         min_weight_fraction_leaf=0.0,\n",
       "                                                         presort='deprecated',\n",
       "                                                         random_state=None,\n",
       "                                                         splitter='best'),\n",
       "                   learning_rate=0.1, n_estimators=1000, random_state=None)"
      ]
     },
     "execution_count": 18,
     "metadata": {},
     "output_type": "execute_result"
    }
   ],
   "source": [
    "ada.fit(X_train, y_train)"
   ]
  },
  {
   "cell_type": "code",
   "execution_count": 19,
   "metadata": {},
   "outputs": [
    {
     "data": {
      "text/plain": [
       "array([0.18698427, 0.22163256, 0.13712992, 0.02008301, 0.08499486,\n",
       "       0.16721921, 0.        , 0.00898794, 0.06668694, 0.10628129])"
      ]
     },
     "execution_count": 19,
     "metadata": {},
     "output_type": "execute_result"
    }
   ],
   "source": [
    "ada.feature_importances_"
   ]
  },
  {
   "cell_type": "code",
   "execution_count": 20,
   "metadata": {},
   "outputs": [],
   "source": [
    "adadf = pd.DataFrame({'features': X_train.columns, 'importances': ada.feature_importances_})\n",
    "adadf.sort_values('importances', ascending=False, inplace=True)"
   ]
  },
  {
   "cell_type": "code",
   "execution_count": 21,
   "metadata": {},
   "outputs": [
    {
     "data": {
      "text/html": [
       "<div>\n",
       "<style scoped>\n",
       "    .dataframe tbody tr th:only-of-type {\n",
       "        vertical-align: middle;\n",
       "    }\n",
       "\n",
       "    .dataframe tbody tr th {\n",
       "        vertical-align: top;\n",
       "    }\n",
       "\n",
       "    .dataframe thead th {\n",
       "        text-align: right;\n",
       "    }\n",
       "</style>\n",
       "<table border=\"1\" class=\"dataframe\">\n",
       "  <thead>\n",
       "    <tr style=\"text-align: right;\">\n",
       "      <th></th>\n",
       "      <th>features</th>\n",
       "      <th>importances</th>\n",
       "    </tr>\n",
       "  </thead>\n",
       "  <tbody>\n",
       "    <tr>\n",
       "      <th>1</th>\n",
       "      <td>worst perimeter</td>\n",
       "      <td>0.221633</td>\n",
       "    </tr>\n",
       "    <tr>\n",
       "      <th>0</th>\n",
       "      <td>worst concave points</td>\n",
       "      <td>0.186984</td>\n",
       "    </tr>\n",
       "    <tr>\n",
       "      <th>5</th>\n",
       "      <td>worst area</td>\n",
       "      <td>0.167219</td>\n",
       "    </tr>\n",
       "    <tr>\n",
       "      <th>2</th>\n",
       "      <td>mean concave points</td>\n",
       "      <td>0.137130</td>\n",
       "    </tr>\n",
       "    <tr>\n",
       "      <th>9</th>\n",
       "      <td>worst concavity</td>\n",
       "      <td>0.106281</td>\n",
       "    </tr>\n",
       "    <tr>\n",
       "      <th>4</th>\n",
       "      <td>mean perimeter</td>\n",
       "      <td>0.084995</td>\n",
       "    </tr>\n",
       "    <tr>\n",
       "      <th>8</th>\n",
       "      <td>mean concavity</td>\n",
       "      <td>0.066687</td>\n",
       "    </tr>\n",
       "    <tr>\n",
       "      <th>3</th>\n",
       "      <td>worst radius</td>\n",
       "      <td>0.020083</td>\n",
       "    </tr>\n",
       "    <tr>\n",
       "      <th>7</th>\n",
       "      <td>mean area</td>\n",
       "      <td>0.008988</td>\n",
       "    </tr>\n",
       "    <tr>\n",
       "      <th>6</th>\n",
       "      <td>mean radius</td>\n",
       "      <td>0.000000</td>\n",
       "    </tr>\n",
       "  </tbody>\n",
       "</table>\n",
       "</div>"
      ],
      "text/plain": [
       "               features  importances\n",
       "1       worst perimeter     0.221633\n",
       "0  worst concave points     0.186984\n",
       "5            worst area     0.167219\n",
       "2   mean concave points     0.137130\n",
       "9       worst concavity     0.106281\n",
       "4        mean perimeter     0.084995\n",
       "8        mean concavity     0.066687\n",
       "3          worst radius     0.020083\n",
       "7             mean area     0.008988\n",
       "6           mean radius     0.000000"
      ]
     },
     "execution_count": 21,
     "metadata": {},
     "output_type": "execute_result"
    }
   ],
   "source": [
    "adadf"
   ]
  },
  {
   "cell_type": "code",
   "execution_count": 22,
   "metadata": {},
   "outputs": [
    {
     "data": {
      "text/plain": [
       "(array([0, 1, 2, 3, 4, 5, 6, 7, 8, 9]), <a list of 10 Text xticklabel objects>)"
      ]
     },
     "execution_count": 22,
     "metadata": {},
     "output_type": "execute_result"
    },
    {
     "data": {
      "image/png": "[encoded data removed]",
      "text/plain": [
       "<Figure size 432x288 with 1 Axes>"
      ]
     },
     "metadata": {
      "needs_background": "light"
     },
     "output_type": "display_data"
    }
   ],
   "source": [
    "sns.barplot(x='features', y='importances', data=adadf)\n",
    "plt.xticks(rotation=45)"
   ]
  },
  {
   "cell_type": "code",
   "execution_count": 23,
   "metadata": {
    "scrolled": true
   },
   "outputs": [
    {
     "data": {
      "text/plain": [
       "array([0.24245635, 0.2343393 , 0.22240316, 0.21854419, 0.20619698,\n",
       "       0.19578849, 0.18523225, 0.17434762, 0.1731999 , 0.15615459,\n",
       "       0.15265945, 0.14149331, 0.13735447, 0.13131714, 0.1230473 ,\n",
       "       0.12027826, 0.10791068, 0.11736522, 0.10460084, 0.08241246,\n",
       "       0.09622954, 0.0779016 , 0.09232614, 0.08412382, 0.07693581,\n",
       "       0.06924223, 0.08221854, 0.07829777, 0.06904023, 0.08275208,\n",
       "       0.07522467, 0.06153238, 0.07456566, 0.05863948, 0.06770484,\n",
       "       0.0561334 , 0.06698958, 0.04964295, 0.06218503, 0.04796875,\n",
       "       0.07361601, 0.05500055, 0.04974842, 0.06979835, 0.04294063,\n",
       "       0.05191069, 0.04193036, 0.04964569, 0.04688699, 0.04843504,\n",
       "       0.04056724, 0.04662776, 0.04501844, 0.04542518, 0.03919509,\n",
       "       0.04401452, 0.03823266, 0.04270975, 0.04292901, 0.04174684,\n",
       "       0.03688773, 0.04323054, 0.03614155, 0.03937196, 0.04108421,\n",
       "       0.03831788, 0.03479847, 0.03767163, 0.033987  , 0.03668839,\n",
       "       0.03889649, 0.03845932, 0.03323341, 0.03444495, 0.03799642,\n",
       "       0.03417792, 0.03191628, 0.03328398, 0.03116805, 0.03541449,\n",
       "       0.03619202, 0.03209549, 0.03014621, 0.03140767, 0.02947746,\n",
       "       0.03079777, 0.03456183, 0.03036776, 0.0283798 , 0.02991971,\n",
       "       0.0279174 , 0.03180557, 0.02781089, 0.02865444, 0.03259284,\n",
       "       0.02822126, 0.02676911, 0.02790603, 0.02625748, 0.02719845,\n",
       "       0.02609133, 0.02951774, 0.02574565, 0.02614741, 0.03069988,\n",
       "       0.02612695, 0.0236972 , 0.0266347 , 0.02619629, 0.0262532 ,\n",
       "       0.02337271, 0.02558232, 0.02323796, 0.02509947, 0.0231088 ,\n",
       "       0.024526  , 0.02292457, 0.02910923, 0.02309065, 0.0208484 ,\n",
       "       0.02504129, 0.02103363, 0.02442694, 0.02350489, 0.02396457,\n",
       "       0.02090045, 0.03010157, 0.0256439 , 0.02155478, 0.0248562 ,\n",
       "       0.0192371 , 0.02894245, 0.03026549, 0.01768713, 0.02514254,\n",
       "       0.01814128, 0.02438891, 0.01840885, 0.01928715, 0.02502358,\n",
       "       0.02800577, 0.04701108, 0.02654443, 0.02660717, 0.01563972,\n",
       "       0.02523783, 0.01614258, 0.02565766, 0.0262661 , 0.01508769,\n",
       "       0.01375297, 0.02603051, 0.01454851, 0.01327762, 0.02594194,\n",
       "       0.02524071, 0.01507097, 0.02656268, 0.01339518, 0.01205566,\n",
       "       0.02616676, 0.01571279, 0.02303616, 0.02672518, 0.01241977,\n",
       "       0.01130613, 0.02612104, 0.014859  , 0.01114218, 0.02143   ,\n",
       "       0.04586623, 0.02204274, 0.02747299, 0.02193248, 0.01038986,\n",
       "       0.01012752, 0.0102699 , 0.01005549, 0.02622929, 0.01137155,\n",
       "       0.01026143, 0.00971692, 0.01023768, 0.02562278, 0.022504  ,\n",
       "       0.01241639, 0.04263392, 0.02188992, 0.03903425, 0.01972505,\n",
       "       0.02768693, 0.00976613, 0.01006591, 0.00970568, 0.00994321,\n",
       "       0.00964092, 0.00982764, 0.02012986, 0.01111618, 0.01000456,\n",
       "       0.00948145, 0.00986881, 0.00951585, 0.00975012, 0.00950359,\n",
       "       0.00964268, 0.00951521, 0.02483353, 0.01070399, 0.00973034,\n",
       "       0.01999655, 0.02575666, 0.00962431, 0.00916956, 0.00959575,\n",
       "       0.02833166, 0.01097574, 0.00996633, 0.00901548, 0.01933078,\n",
       "       0.04302097, 0.02002127, 0.01913412, 0.02683496, 0.01902345,\n",
       "       0.01141661, 0.01027495, 0.00924745, 0.00915534, 0.01071366,\n",
       "       0.02454946, 0.00928424, 0.01947257, 0.0277086 , 0.02586778,\n",
       "       0.00940688, 0.00871445, 0.00926615, 0.00869372, 0.01889218,\n",
       "       0.01059924, 0.00953931, 0.00858538, 0.00917783, 0.0085703 ,\n",
       "       0.00904813, 0.00854541, 0.00897583, 0.00851676, 0.00893162,\n",
       "       0.02266187, 0.01001953, 0.01154104, 0.0189897 , 0.0413129 ,\n",
       "       0.01963098, 0.02367241, 0.01951736, 0.03941832, 0.00902695,\n",
       "       0.01923947, 0.00954714, 0.00859243, 0.00857951, 0.00852407,\n",
       "       0.00851522, 0.00845711, 0.00854364, 0.00839957, 0.00847238,\n",
       "       0.0083417 , 0.00849338, 0.00829167, 0.00841797, 0.00824015,\n",
       "       0.00843394, 0.02576266, 0.02044399, 0.00834812, 0.00997777,\n",
       "       0.02255306, 0.00860361, 0.01016416, 0.00879448, 0.00791503,\n",
       "       0.00842106, 0.00790271, 0.00831053, 0.02123622, 0.00941231,\n",
       "       0.01933845, 0.01873608, 0.02279824, 0.00773862, 0.00830754,\n",
       "       0.00773447, 0.02121828, 0.01115734, 0.01861809, 0.03923138,\n",
       "       0.01918767, 0.01791582, 0.0163139 , 0.02404904, 0.00913349,\n",
       "       0.00822014, 0.00752237, 0.00809646, 0.00758116, 0.00799077,\n",
       "       0.00759528, 0.00789723, 0.00762853, 0.0078163 , 0.00762239,\n",
       "       0.01776389, 0.02177755, 0.007566  , 0.02421589, 0.00887281,\n",
       "       0.00804637, 0.02914273, 0.03763998, 0.01843356, 0.03503667,\n",
       "       0.02586841, 0.02775597, 0.02440417, 0.0160906 , 0.02317594,\n",
       "       0.00875648, 0.00788083, 0.00741107, 0.00778215, 0.00739398,\n",
       "       0.00769211, 0.0074279 , 0.00761437, 0.00742236, 0.00754414,\n",
       "       0.00743965, 0.01984764, 0.00845654, 0.01828657, 0.00877231,\n",
       "       0.02081472, 0.00738056, 0.00737575, 0.00738452, 0.0073267 ,\n",
       "       0.00735861, 0.00728039, 0.00735561, 0.0193709 , 0.00834496,\n",
       "       0.00757467, 0.02834624, 0.03698531, 0.01820658, 0.00844624,\n",
       "       0.02055164, 0.00711504, 0.00735003, 0.00708975, 0.00727715,\n",
       "       0.00712982, 0.01707395, 0.02041589, 0.009358  , 0.03673495,\n",
       "       0.01855731, 0.02587272, 0.02755988, 0.02219423, 0.02003567,\n",
       "       0.01764054, 0.00786747, 0.00708072, 0.0071274 , 0.00703894,\n",
       "       0.00713454, 0.03453194, 0.02922632, 0.00680052, 0.0335472 ,\n",
       "       0.01661547, 0.02451252, 0.02231639, 0.01580541, 0.02141817,\n",
       "       0.00797179, 0.00717461, 0.0068296 , 0.00709631, 0.00681324,\n",
       "       0.00702458, 0.00686092, 0.01677393, 0.01966665, 0.00671151,\n",
       "       0.00706107, 0.00677112, 0.00698916, 0.00675224, 0.00692292,\n",
       "       0.00679453, 0.02708747, 0.03541719, 0.01448254, 0.01619745,\n",
       "       0.02016574, 0.00696245, 0.00672396, 0.0068964 , 0.00669803,\n",
       "       0.00683479, 0.00670068, 0.02688101, 0.01958456, 0.00659754,\n",
       "       0.02185223, 0.00783182, 0.00704864, 0.00640175, 0.01820358,\n",
       "       0.00967815, 0.00653791, 0.00677198, 0.00651983, 0.01783764,\n",
       "       0.01779169, 0.03592356, 0.01711072, 0.01660764, 0.01976704,\n",
       "       0.01793945, 0.01747342, 0.03315093, 0.02870482, 0.01396425,\n",
       "       0.00751285, 0.00676156, 0.00643093, 0.00668957, 0.00641638,\n",
       "       0.01757815, 0.01752988, 0.00635299, 0.00667108, 0.00634476,\n",
       "       0.00665852, 0.00633624, 0.00659905, 0.02506071, 0.018567  ,\n",
       "       0.02666597, 0.03350756, 0.01712679, 0.01329169, 0.01881561,\n",
       "       0.00626399, 0.00652622, 0.01705051, 0.01746706, 0.006128  ,\n",
       "       0.01734869, 0.00710981, 0.0064198 , 0.02609129, 0.01843689,\n",
       "       0.01386435, 0.01772831, 0.00667693, 0.00600924, 0.03184513,\n",
       "       0.01526557, 0.03348955, 0.02603448, 0.01857744, 0.01593036,\n",
       "       0.00757291, 0.00681561, 0.00613405, 0.00650719, 0.00613341,\n",
       "       0.00643421, 0.02483284, 0.01801441, 0.01604355, 0.01766839,\n",
       "       0.00637732, 0.00603504, 0.00630866, 0.00602647, 0.00625749,\n",
       "       0.01645383, 0.00715215, 0.01633095, 0.03367774, 0.01681719,\n",
       "       0.01676038, 0.00674658, 0.00608424, 0.00603987, 0.00609306,\n",
       "       0.01630389, 0.01688038, 0.00581602, 0.00625866, 0.00582535,\n",
       "       0.0062314 , 0.01610219, 0.00706193, 0.00641183, 0.02544525,\n",
       "       0.03252773, 0.01617498, 0.0127092 , 0.01763971, 0.00581949,\n",
       "       0.00613381, 0.01600746, 0.00695497, 0.00629748, 0.01545161,\n",
       "       0.01691042, 0.00605734, 0.00576306, 0.00601454, 0.00575547,\n",
       "       0.00599665, 0.01579194, 0.01648574, 0.00560579, 0.01610531,\n",
       "       0.00652639, 0.00590013, 0.01574071, 0.02569493, 0.03129346,\n",
       "       0.01457338, 0.01937985, 0.03420286, 0.01881079, 0.0153181 ,\n",
       "       0.01858333, 0.02436654, 0.0182709 , 0.0238805 , 0.01768858,\n",
       "       0.03310026, 0.03047313, 0.01739291, 0.00649264, 0.02732064,\n",
       "       0.01842978, 0.01773768, 0.00616662, 0.00561982, 0.00608149,\n",
       "       0.00563305, 0.00600629, 0.00563804, 0.02394493, 0.01702348,\n",
       "       0.02479672, 0.03109181, 0.01556375, 0.01437232, 0.01744674,\n",
       "       0.01235833, 0.01676135, 0.00544839, 0.00593053, 0.01481   ,\n",
       "       0.01638245, 0.00569896, 0.01534091, 0.01588397, 0.00547474,\n",
       "       0.00583633, 0.00548034, 0.00578643, 0.01515613, 0.00661304,\n",
       "       0.00597349, 0.03219698, 0.02938376, 0.00833697, 0.01675152,\n",
       "       0.01719026, 0.02990155, 0.01813346, 0.01757897, 0.01591224,\n",
       "       0.02457708, 0.03035572, 0.01938311, 0.01542806, 0.00637158,\n",
       "       0.00573442, 0.00546445, 0.0056792 , 0.01501299, 0.0156195 ,\n",
       "       0.02393991, 0.03281295, 0.01508589, 0.00658625, 0.00592763,\n",
       "       0.01479332, 0.00668808, 0.00606205, 0.01452111, 0.00677987,\n",
       "       0.00615083, 0.00554209, 0.01481176, 0.00637034, 0.01861902,\n",
       "       0.03201889, 0.01904904, 0.01602789, 0.01653643, 0.01498885,\n",
       "       0.01525401, 0.02923399, 0.02544324, 0.01268832, 0.01555529,\n",
       "       0.01842061, 0.0154931 , 0.01668796, 0.01180006, 0.01613131,\n",
       "       0.01400188, 0.01581869, 0.028573  , 0.01622393, 0.02396201,\n",
       "       0.03241992, 0.01810802, 0.01638756, 0.0238642 , 0.0323224 ,\n",
       "       0.0238954 , 0.01619361, 0.0054507 , 0.00528008, 0.00540746,\n",
       "       0.00529781, 0.01454834, 0.00610171, 0.01455931, 0.02889021,\n",
       "       0.01547333, 0.02355857, 0.02908536, 0.01658997, 0.01738655,\n",
       "       0.01623115, 0.00554828, 0.00517671, 0.01464161, 0.00598623,\n",
       "       0.0053876 , 0.00517115, 0.00536446, 0.02828978, 0.01567291,\n",
       "       0.01245564, 0.02283963, 0.01619229, 0.00556114, 0.0050376 ,\n",
       "       0.01451889, 0.00585155, 0.01423243, 0.03153448, 0.03260226,\n",
       "       0.01640462, 0.01499461, 0.01801866, 0.03068493, 0.01530537,\n",
       "       0.01787592, 0.01517013, 0.00522447, 0.01576492, 0.02227214,\n",
       "       0.03022565, 0.01310331, 0.01581546, 0.01177508, 0.01528456,\n",
       "       0.01380389, 0.0149377 , 0.00514278, 0.00517657, 0.00514039,\n",
       "       0.0051484 , 0.00514183, 0.00512325, 0.00513451, 0.00509998,\n",
       "       0.00513188, 0.01389709, 0.01452694, 0.0049494 , 0.00525082,\n",
       "       0.0137823 , 0.00599268, 0.00543177, 0.03065986, 0.02514654,\n",
       "       0.02783788, 0.01527464, 0.0231361 , 0.0147503 , 0.01233555,\n",
       "       0.02331768, 0.03114074, 0.01786883, 0.01608195, 0.01666968,\n",
       "       0.01506899, 0.00491965, 0.00514352, 0.00491802, 0.00512378,\n",
       "       0.01396483, 0.0058978 , 0.01390052, 0.02769254, 0.01473293,\n",
       "       0.03073849, 0.03139612, 0.0235576 , 0.01178594, 0.01490664,\n",
       "       0.00495918, 0.02998193, 0.01742754, 0.01437992, 0.01659102,\n",
       "       0.01235911, 0.01600445, 0.0144977 , 0.01743332, 0.01444943,\n",
       "       0.00512773, 0.00488539, 0.00508087, 0.00488144, 0.00503842,\n",
       "       0.01346277, 0.00576326, 0.00523408, 0.01320444, 0.02319669,\n",
       "       0.02769432, 0.01325451, 0.0138563 , 0.01381122, 0.00539257,\n",
       "       0.00485331, 0.01379704, 0.01401699, 0.01332816, 0.0057497 ,\n",
       "       0.00520513, 0.02917348, 0.01883501, 0.01590076, 0.01614387,\n",
       "       0.01552106, 0.01438106, 0.02981571, 0.02477884, 0.02688231,\n",
       "       0.01500573, 0.02288416, 0.01388519, 0.02265605, 0.02724124,\n",
       "       0.01415736, 0.01334612, 0.01394589, 0.01322337, 0.00573672,\n",
       "       0.00516305, 0.0188218 , 0.01467725, 0.01701864, 0.01413822,\n",
       "       0.01582193, 0.01428192, 0.01261313, 0.01285046, 0.02224503,\n",
       "       0.02950735, 0.02246611, 0.03094283, 0.02327532, 0.01548046,\n",
       "       0.03017378, 0.02198274, 0.01126136, 0.01612201, 0.01461205,\n",
       "       0.0298899 , 0.02649138, 0.01503138, 0.00563834, 0.0172418 ,\n",
       "       0.01372395, 0.01901934, 0.01360308, 0.00511129, 0.01280814,\n",
       "       0.00577274, 0.00519547, 0.01253496, 0.00582472, 0.01343119,\n",
       "       0.02627588, 0.01421848, 0.02190224, 0.01385561, 0.01165977,\n",
       "       0.02276461, 0.03063528, 0.01594503, 0.0159024 , 0.01404814,\n",
       "       0.01650435, 0.01400497, 0.01260447, 0.00567562, 0.00510806,\n",
       "       0.01273087, 0.00576326, 0.00521258, 0.01220324, 0.02249766,\n",
       "       0.02628448, 0.01291922, 0.01335969, 0.01292637, 0.00525466,\n",
       "       0.01245254, 0.00587064, 0.01335883, 0.01263146, 0.0053877 ,\n",
       "       0.01192664, 0.00596003, 0.0053947 , 0.01847619, 0.01348307,\n",
       "       0.01183529, 0.0139652 , 0.01188103, 0.01770732, 0.01524686,\n",
       "       0.00602536, 0.02762798, 0.01870866, 0.01639482, 0.02936999,\n",
       "       0.02369311, 0.01285198, 0.02876594, 0.01714738, 0.02621363,\n",
       "       0.02280369, 0.01325427, 0.01588877, 0.01221292, 0.01388735,\n",
       "       0.01251373, 0.01333205, 0.02949913, 0.02990638, 0.0173186 ,\n",
       "       0.0127791 , 0.01462917, 0.01441732, 0.01137895, 0.00628312,\n",
       "       0.00570174, 0.01693548, 0.02699406, 0.01341207, 0.01553682,\n",
       "       0.01177839, 0.01429412, 0.01286471, 0.01673442, 0.01605862,\n",
       "       0.01318127, 0.02546787, 0.01407394, 0.01266655, 0.01312083,\n",
       "       0.01189271, 0.01351704, 0.01188519, 0.01232032, 0.01210543,\n",
       "       0.00571357, 0.01680456, 0.01556079, 0.01100971, 0.00634277,\n",
       "       0.0057533 , 0.013167  , 0.012171  , 0.01100174, 0.00626716,\n",
       "       0.00568626, 0.01136931, 0.00616373, 0.0290872 , 0.01788084,\n",
       "       0.01289498, 0.01489846, 0.01383431, 0.01280767, 0.01660954,\n",
       "       0.01563608, 0.02425333, 0.02321732, 0.01094161, 0.0139649 ,\n",
       "       0.01110957, 0.00614382, 0.00557405, 0.01108074, 0.0125851 ,\n",
       "       0.02258896, 0.02943761, 0.02938265, 0.01295607, 0.02837115,\n",
       "       0.01618528, 0.01108413, 0.01475254, 0.01125562, 0.01425646,\n",
       "       0.01542381, 0.01705839, 0.0124927 , 0.0127806 , 0.01239408,\n",
       "       0.01639384, 0.01245823, 0.02164769, 0.0148715 , 0.01386207,\n",
       "       0.01194581, 0.02563189, 0.02149287, 0.01287294, 0.02837147,\n",
       "       0.02394011, 0.01192853, 0.01828889, 0.01202373, 0.01288135,\n",
       "       0.02462419, 0.01361356, 0.02880411, 0.02291217, 0.01271537,\n",
       "       0.01151488, 0.01338866, 0.02825924, 0.0160204 , 0.0130621 ,\n",
       "       0.01206578, 0.00529411, 0.02395432, 0.02247689, 0.00499593,\n",
       "       0.01139156, 0.00554752, 0.01286598, 0.02889466, 0.02697843,\n",
       "       0.00547602, 0.01266465, 0.01198767, 0.01589432, 0.01203172,\n",
       "       0.01643646, 0.01523213, 0.01290767, 0.01183276, 0.00708017])"
      ]
     },
     "execution_count": 23,
     "metadata": {},
     "output_type": "execute_result"
    }
   ],
   "source": [
    "ada.estimator_weights_"
   ]
  },
  {
   "cell_type": "code",
   "execution_count": 24,
   "metadata": {
    "scrolled": true
   },
   "outputs": [
    {
     "name": "stdout",
     "output_type": "stream",
     "text": [
      "              precision    recall  f1-score   support\n",
      "\n",
      "           0       0.95      0.80      0.87        49\n",
      "           1       0.86      0.97      0.91        65\n",
      "\n",
      "    accuracy                           0.89       114\n",
      "   macro avg       0.91      0.88      0.89       114\n",
      "weighted avg       0.90      0.89      0.89       114\n",
      "\n"
     ]
    }
   ],
   "source": [
    "print(classification_report(y_test, dt.predict(X_test)))"
   ]
  },
  {
   "cell_type": "code",
   "execution_count": 25,
   "metadata": {},
   "outputs": [
    {
     "data": {
      "text/plain": [
       "array([[39, 10],\n",
       "       [ 2, 63]], dtype=int64)"
      ]
     },
     "execution_count": 25,
     "metadata": {},
     "output_type": "execute_result"
    }
   ],
   "source": [
    "confusion_matrix(y_test, dt.predict(X_test))"
   ]
  },
  {
   "cell_type": "code",
   "execution_count": 26,
   "metadata": {},
   "outputs": [
    {
     "name": "stdout",
     "output_type": "stream",
     "text": [
      "              precision    recall  f1-score   support\n",
      "\n",
      "           0       0.96      0.96      0.96        49\n",
      "           1       0.97      0.97      0.97        65\n",
      "\n",
      "    accuracy                           0.96       114\n",
      "   macro avg       0.96      0.96      0.96       114\n",
      "weighted avg       0.96      0.96      0.96       114\n",
      "\n"
     ]
    }
   ],
   "source": [
    "print(classification_report(y_test, ada.predict(X_test)))"
   ]
  },
  {
   "cell_type": "code",
   "execution_count": 27,
   "metadata": {
    "scrolled": true
   },
   "outputs": [
    {
     "data": {
      "text/plain": [
       "array([[47,  2],\n",
       "       [ 2, 63]], dtype=int64)"
      ]
     },
     "execution_count": 27,
     "metadata": {},
     "output_type": "execute_result"
    }
   ],
   "source": [
    "confusion_matrix(y_test, ada.predict(X_test))"
   ]
  },
  {
   "cell_type": "code",
   "execution_count": 28,
   "metadata": {},
   "outputs": [
    {
     "data": {
      "text/plain": [
       "AdaBoostClassifier(algorithm='SAMME',\n",
       "                   base_estimator=DecisionTreeClassifier(ccp_alpha=0.0,\n",
       "                                                         class_weight=None,\n",
       "                                                         criterion='gini',\n",
       "                                                         max_depth=1,\n",
       "                                                         max_features=None,\n",
       "                                                         max_leaf_nodes=None,\n",
       "                                                         min_impurity_decrease=0.0,\n",
       "                                                         min_impurity_split=None,\n",
       "                                                         min_samples_leaf=5,\n",
       "                                                         min_samples_split=2,\n",
       "                                                         min_weight_fraction_leaf=0.0,\n",
       "                                                         presort='deprecated',\n",
       "                                                         random_state=None,\n",
       "                                                         splitter='best'),\n",
       "                   learning_rate=0.1, n_estimators=1000, random_state=None)"
      ]
     },
     "execution_count": 28,
     "metadata": {},
     "output_type": "execute_result"
    }
   ],
   "source": [
    "ada"
   ]
  },
  {
   "cell_type": "code",
   "execution_count": 29,
   "metadata": {},
   "outputs": [
    {
     "data": {
      "text/plain": [
       "GridSearchCV(cv=3, error_score=nan,\n",
       "             estimator=AdaBoostClassifier(algorithm='SAMME',\n",
       "                                          base_estimator=DecisionTreeClassifier(ccp_alpha=0.0,\n",
       "                                                                                class_weight=None,\n",
       "                                                                                criterion='gini',\n",
       "                                                                                max_depth=1,\n",
       "                                                                                max_features=None,\n",
       "                                                                                max_leaf_nodes=None,\n",
       "                                                                                min_impurity_decrease=0.0,\n",
       "                                                                                min_impurity_split=None,\n",
       "                                                                                min_samples_leaf=5,\n",
       "                                                                                min_samples_split=2,\n",
       "                                                                                min_weight_fraction_leaf=0.0,\n",
       "                                                                                presort='depre...\n",
       "                                                                                splitter='best'),\n",
       "                                          learning_rate=0.1, n_estimators=1000,\n",
       "                                          random_state=None),\n",
       "             iid='deprecated', n_jobs=None,\n",
       "             param_grid={'base_estimator__min_samples_leaf': [2, 3],\n",
       "                         'base_estimator__min_samples_split': [2, 3],\n",
       "                         'learning_rate': array([0.01  , 0.0325, 0.055 , 0.0775, 0.1   ]),\n",
       "                         'n_estimators': [10, 20, 50]},\n",
       "             pre_dispatch='2*n_jobs', refit=True, return_train_score=False,\n",
       "             scoring='roc_auc', verbose=0)"
      ]
     },
     "execution_count": 29,
     "metadata": {},
     "output_type": "execute_result"
    }
   ],
   "source": [
    "param_grid = {\n",
    "    \"base_estimator__min_samples_split\": [i for i in range(2,4)],\n",
    "    \"base_estimator__min_samples_leaf\": [i for i in range(2,4)],\n",
    "    \"n_estimators\": [10,20,50],\n",
    "    \"learning_rate\": np.linspace(0.01, 0.1, 5)\n",
    "}\n",
    "\n",
    "ada_grid = GridSearchCV(estimator=ada, param_grid = param_grid, scoring='roc_auc', cv=3)\n",
    "ada_grid.fit(X_train, y_train)"
   ]
  },
  {
   "cell_type": "code",
   "execution_count": 30,
   "metadata": {
    "scrolled": true
   },
   "outputs": [
    {
     "data": {
      "text/plain": [
       "{'base_estimator__min_samples_leaf': 2,\n",
       " 'base_estimator__min_samples_split': 2,\n",
       " 'learning_rate': 0.1,\n",
       " 'n_estimators': 50}"
      ]
     },
     "execution_count": 30,
     "metadata": {},
     "output_type": "execute_result"
    }
   ],
   "source": [
    "ada_grid.best_params_"
   ]
  },
  {
   "cell_type": "code",
   "execution_count": 31,
   "metadata": {},
   "outputs": [
    {
     "data": {
      "text/plain": [
       "AdaBoostClassifier(algorithm='SAMME',\n",
       "                   base_estimator=DecisionTreeClassifier(ccp_alpha=0.0,\n",
       "                                                         class_weight=None,\n",
       "                                                         criterion='gini',\n",
       "                                                         max_depth=1,\n",
       "                                                         max_features=None,\n",
       "                                                         max_leaf_nodes=None,\n",
       "                                                         min_impurity_decrease=0.0,\n",
       "                                                         min_impurity_split=None,\n",
       "                                                         min_samples_leaf=2,\n",
       "                                                         min_samples_split=2,\n",
       "                                                         min_weight_fraction_leaf=0.0,\n",
       "                                                         presort='deprecated',\n",
       "                                                         random_state=None,\n",
       "                                                         splitter='best'),\n",
       "                   learning_rate=0.1, n_estimators=50, random_state=None)"
      ]
     },
     "execution_count": 31,
     "metadata": {},
     "output_type": "execute_result"
    }
   ],
   "source": [
    "ada_grid.best_estimator_"
   ]
  },
  {
   "cell_type": "code",
   "execution_count": 32,
   "metadata": {},
   "outputs": [],
   "source": [
    "adagrid = ada_grid.best_estimator_"
   ]
  },
  {
   "cell_type": "code",
   "execution_count": 33,
   "metadata": {},
   "outputs": [
    {
     "data": {
      "text/plain": [
       "0.9826578724099587"
      ]
     },
     "execution_count": 33,
     "metadata": {},
     "output_type": "execute_result"
    }
   ],
   "source": [
    "ada_grid.best_score_"
   ]
  },
  {
   "cell_type": "markdown",
   "metadata": {},
   "source": [
    "## Gradient Boosting\n",
    "\n",
    "Gradient Boosting work like AdaBoost but include few differences. \n",
    "\n",
    "Gradient boosting involves three elements:\n",
    "\n",
    "1. A loss function to be optimized.\n",
    "1. A weak learner to make predictions.\n",
    "1. An additive model to add weak learners to minimize the loss function."
   ]
  },
  {
   "cell_type": "code",
   "execution_count": 34,
   "metadata": {},
   "outputs": [],
   "source": [
    "from sklearn.ensemble import GradientBoostingClassifier"
   ]
  },
  {
   "cell_type": "code",
   "execution_count": 35,
   "metadata": {},
   "outputs": [],
   "source": [
    "gradient = GradientBoostingClassifier(learning_rate = 0.1, subsample=0.5, n_estimators=100)"
   ]
  },
  {
   "cell_type": "code",
   "execution_count": 36,
   "metadata": {},
   "outputs": [
    {
     "data": {
      "text/plain": [
       "GradientBoostingClassifier(ccp_alpha=0.0, criterion='friedman_mse', init=None,\n",
       "                           learning_rate=0.1, loss='deviance', max_depth=3,\n",
       "                           max_features=None, max_leaf_nodes=None,\n",
       "                           min_impurity_decrease=0.0, min_impurity_split=None,\n",
       "                           min_samples_leaf=1, min_samples_split=2,\n",
       "                           min_weight_fraction_leaf=0.0, n_estimators=100,\n",
       "                           n_iter_no_change=None, presort='deprecated',\n",
       "                           random_state=None, subsample=0.5, tol=0.0001,\n",
       "                           validation_fraction=0.1, verbose=0,\n",
       "                           warm_start=False)"
      ]
     },
     "execution_count": 36,
     "metadata": {},
     "output_type": "execute_result"
    }
   ],
   "source": [
    "gradient.fit(X_train, y_train)"
   ]
  },
  {
   "cell_type": "code",
   "execution_count": 37,
   "metadata": {},
   "outputs": [
    {
     "data": {
      "text/plain": [
       "array([ 1.53983731e-01,  1.23168100e-01,  1.03450074e-01,  8.16688787e-02,\n",
       "        7.26543156e-02,  5.87104681e-02,  5.13631476e-02,  4.87603684e-02,\n",
       "        3.73866091e-02,  3.34861118e-02,  3.19549553e-02,  2.43237748e-02,\n",
       "        1.90541896e-02,  1.80556277e-02,  1.48209615e-02,  1.32554041e-02,\n",
       "        1.03236434e-02,  8.97465687e-03,  1.04329742e-02,  7.25175759e-03,\n",
       "        6.01004755e-03,  5.94276477e-03,  5.84093501e-03, -3.58431658e-03,\n",
       "        2.77473613e-03,  4.54886379e-03,  4.34166331e-03,  8.36816279e-04,\n",
       "        4.26377191e-03, -1.21603435e-03,  3.81131503e-03,  4.18200526e-03,\n",
       "        6.06031774e-04,  1.95141624e-03,  5.35321576e-04, -5.60115367e-05,\n",
       "        1.94305889e-03, -8.49161454e-04,  2.99031788e-04,  8.98850089e-04,\n",
       "       -8.41023185e-04,  1.44742381e-04, -1.72931216e-03, -2.03667568e-03,\n",
       "       -1.03900809e-04, -3.90923340e-04,  3.66912758e-04,  2.40623459e-04,\n",
       "       -1.92753170e-03, -2.89098439e-05, -1.85269507e-03,  7.57285049e-04,\n",
       "        4.60940866e-05, -8.29909135e-04, -5.05476133e-04, -2.46328994e-03,\n",
       "       -1.31105407e-03, -1.75386624e-03, -3.95688308e-04, -2.01441173e-04,\n",
       "       -1.92999163e-03, -1.81764501e-03, -1.32067070e-03, -1.42144282e-03,\n",
       "       -1.08485743e-03, -6.46426345e-04, -1.34427050e-04,  3.30847992e-04,\n",
       "       -1.31500154e-03, -1.54371122e-03, -2.88255093e-03, -1.24459303e-03,\n",
       "       -8.65845821e-04, -7.84414189e-04, -7.23463216e-04, -1.64695706e-03,\n",
       "       -4.85842088e-04, -7.10069172e-04, -1.06041828e-03, -9.80122058e-04,\n",
       "       -1.09907180e-03, -1.99089772e-03, -2.97896616e-04, -7.55772194e-04,\n",
       "       -6.25924586e-04, -7.15932559e-04, -5.74971208e-04, -4.79001696e-04,\n",
       "       -1.87180965e-04, -1.09817121e-03, -1.96757774e-03,  1.82532762e-05,\n",
       "       -2.78462402e-04,  4.56501357e-05, -6.99786456e-04, -4.28929255e-04,\n",
       "       -7.58564605e-04, -1.70367469e-05, -6.32164819e-04, -5.24477033e-04])"
      ]
     },
     "execution_count": 37,
     "metadata": {},
     "output_type": "execute_result"
    }
   ],
   "source": [
    "gradient.oob_improvement_"
   ]
  },
  {
   "cell_type": "code",
   "execution_count": 38,
   "metadata": {},
   "outputs": [
    {
     "data": {
      "image/png": "[encoded data removed]",
      "text/plain": [
       "<Figure size 432x288 with 1 Axes>"
      ]
     },
     "metadata": {
      "needs_background": "light"
     },
     "output_type": "display_data"
    }
   ],
   "source": [
    "plt.plot(range(1,101), gradient.oob_improvement_)\n",
    "plt.show()"
   ]
  },
  {
   "cell_type": "code",
   "execution_count": 39,
   "metadata": {
    "scrolled": true
   },
   "outputs": [
    {
     "name": "stdout",
     "output_type": "stream",
     "text": [
      "              precision    recall  f1-score   support\n",
      "\n",
      "           0       1.00      1.00      1.00       163\n",
      "           1       1.00      1.00      1.00       292\n",
      "\n",
      "    accuracy                           1.00       455\n",
      "   macro avg       1.00      1.00      1.00       455\n",
      "weighted avg       1.00      1.00      1.00       455\n",
      "\n"
     ]
    }
   ],
   "source": [
    "print(classification_report(y_train, gradient.predict(X_train)))"
   ]
  },
  {
   "cell_type": "code",
   "execution_count": 40,
   "metadata": {},
   "outputs": [
    {
     "data": {
      "text/plain": [
       "array([[163,   0],\n",
       "       [  0, 292]], dtype=int64)"
      ]
     },
     "execution_count": 40,
     "metadata": {},
     "output_type": "execute_result"
    }
   ],
   "source": [
    "confusion_matrix(y_train, gradient.predict(X_train))"
   ]
  },
  {
   "cell_type": "code",
   "execution_count": 41,
   "metadata": {},
   "outputs": [
    {
     "name": "stdout",
     "output_type": "stream",
     "text": [
      "              precision    recall  f1-score   support\n",
      "\n",
      "           0       0.98      0.96      0.97        49\n",
      "           1       0.97      0.98      0.98        65\n",
      "\n",
      "    accuracy                           0.97       114\n",
      "   macro avg       0.97      0.97      0.97       114\n",
      "weighted avg       0.97      0.97      0.97       114\n",
      "\n"
     ]
    }
   ],
   "source": [
    "print(classification_report(y_test, gradient.predict(X_test)))"
   ]
  },
  {
   "cell_type": "code",
   "execution_count": 42,
   "metadata": {},
   "outputs": [
    {
     "data": {
      "text/plain": [
       "array([[47,  2],\n",
       "       [ 1, 64]], dtype=int64)"
      ]
     },
     "execution_count": 42,
     "metadata": {},
     "output_type": "execute_result"
    }
   ],
   "source": [
    "confusion_matrix(y_test, gradient.predict(X_test))"
   ]
  },
  {
   "cell_type": "markdown",
   "metadata": {},
   "source": [
    "## Show All Decision Tree, Ada Boost and Gradient Boost ROC&AUC Score"
   ]
  },
  {
   "cell_type": "code",
   "execution_count": 43,
   "metadata": {},
   "outputs": [],
   "source": [
    "dt_pred = dt.predict(X_test)\n",
    "dt_proba = dt.predict_proba(X_test)\n",
    "\n",
    "adagrid_pred = adagrid.predict(X_test)\n",
    "adagrid_proba = adagrid.predict_proba(X_test)\n",
    "\n",
    "gradient_pred = gradient.predict(X_test)\n",
    "gradient_proba = gradient.predict_proba(X_test)"
   ]
  },
  {
   "cell_type": "code",
   "execution_count": 44,
   "metadata": {},
   "outputs": [],
   "source": [
    "dtprob1 = dt_proba[:,1]\n",
    "adagridprob1 = adagrid_proba[:,1]\n",
    "gradprob1 = gradient_proba[:,1]\n",
    "\n",
    "fpr_dt, tpr_dt, thres_dt = roc_curve(y_test, dtprob1)\n",
    "fpr_ada, tpr_ada, thres_ada = roc_curve(y_test, adagridprob1)\n",
    "fpr_gr, tpr_gr, thres_gr = roc_curve(y_test, gradprob1)\n",
    "\n",
    "roc_auc_dt1 = auc(fpr_dt, tpr_dt)\n",
    "roc_auc_ada1 = auc(fpr_ada, tpr_ada)\n",
    "roc_auc_gr1 = auc(fpr_gr, tpr_gr)"
   ]
  },
  {
   "cell_type": "code",
   "execution_count": 45,
   "metadata": {},
   "outputs": [
    {
     "data": {
      "image/png": "[encoded data removed]",
      "text/plain": [
       "<Figure size 1152x720 with 3 Axes>"
      ]
     },
     "metadata": {
      "needs_background": "light"
     },
     "output_type": "display_data"
    }
   ],
   "source": [
    "plt.figure(figsize=(16,10))\n",
    "plt.subplot(221)\n",
    "plt.title('ROC Decision Tree')\n",
    "plt.plot(fpr_dt, tpr_dt, 'brown', label = 'AUC Decision Tree:{}'.format(round(roc_auc_dt1,3)))\n",
    "plt.plot([0,1], [0,1], 'r--')\n",
    "plt.xlim([0,1])\n",
    "plt.ylim([0,1])\n",
    "plt.xlabel('False Positive Rate')\n",
    "plt.ylabel('True Positive Rate')\n",
    "plt.fill_between(fpr_dt, tpr_dt, 0, facecolor='orange', alpha=1)\n",
    "plt.legend(loc='lower right')\n",
    "\n",
    "plt.subplot(222)\n",
    "plt.title('ROC AdaBoost (Grid)')\n",
    "plt.plot(fpr_ada, tpr_ada, 'blue', label = 'AUC AdaBoost (Grid):{}'.format(round(roc_auc_ada1,3)))\n",
    "plt.plot([0,1], [0,1], 'r--')\n",
    "plt.xlim([0,1])\n",
    "plt.ylim([0,1])\n",
    "plt.xlabel('False Positive Rate')\n",
    "plt.ylabel('True Positive Rate')\n",
    "plt.fill_between(fpr_ada, tpr_ada, 0, facecolor='azure', alpha=1)\n",
    "plt.legend(loc='lower right')\n",
    "\n",
    "plt.subplot(223)\n",
    "plt.title('ROC Gradient')\n",
    "plt.plot(fpr_gr, tpr_gr, 'red', label = 'AUC GradientBoost:{}'.format(round(roc_auc_gr1,3)))\n",
    "plt.plot([0,1], [0,1], 'r--')\n",
    "plt.xlim([0,1])\n",
    "plt.ylim([0,1])\n",
    "plt.xlabel('False Positive Rate')\n",
    "plt.ylabel('True Positive Rate')\n",
    "plt.fill_between(fpr_gr, tpr_gr, 0, facecolor='pink', alpha=1)\n",
    "plt.legend(loc='lower right')\n",
    "plt.show()"
   ]
  },
  {
   "cell_type": "markdown",
   "metadata": {},
   "source": [
    "# Principal Component Analysis\n",
    "\n",
    "Let's discuss PCA! This isn't exactly a full machine learning algorithm, but instead an unsupervised learning algorithm.\n",
    "\n",
    "## PCA Review\n",
    "\n",
    "Remember that PCA is just a transformation of your data and attempts to find out what features explain the most variance in your data.\n"
   ]
  },
  {
   "cell_type": "code",
   "execution_count": 46,
   "metadata": {},
   "outputs": [],
   "source": [
    "from sklearn.preprocessing import StandardScaler"
   ]
  },
  {
   "cell_type": "code",
   "execution_count": 47,
   "metadata": {},
   "outputs": [],
   "source": [
    "df2 = pd.DataFrame(cancer['data'], columns=cancer['feature_names'])"
   ]
  },
  {
   "cell_type": "code",
   "execution_count": 48,
   "metadata": {},
   "outputs": [
    {
     "data": {
      "text/html": [
       "<div>\n",
       "<style scoped>\n",
       "    .dataframe tbody tr th:only-of-type {\n",
       "        vertical-align: middle;\n",
       "    }\n",
       "\n",
       "    .dataframe tbody tr th {\n",
       "        vertical-align: top;\n",
       "    }\n",
       "\n",
       "    .dataframe thead th {\n",
       "        text-align: right;\n",
       "    }\n",
       "</style>\n",
       "<table border=\"1\" class=\"dataframe\">\n",
       "  <thead>\n",
       "    <tr style=\"text-align: right;\">\n",
       "      <th></th>\n",
       "      <th>mean radius</th>\n",
       "      <th>mean texture</th>\n",
       "      <th>mean perimeter</th>\n",
       "      <th>mean area</th>\n",
       "      <th>mean smoothness</th>\n",
       "      <th>mean compactness</th>\n",
       "      <th>mean concavity</th>\n",
       "      <th>mean concave points</th>\n",
       "      <th>mean symmetry</th>\n",
       "      <th>mean fractal dimension</th>\n",
       "      <th>radius error</th>\n",
       "      <th>texture error</th>\n",
       "      <th>perimeter error</th>\n",
       "      <th>area error</th>\n",
       "      <th>smoothness error</th>\n",
       "      <th>compactness error</th>\n",
       "      <th>concavity error</th>\n",
       "      <th>concave points error</th>\n",
       "      <th>symmetry error</th>\n",
       "      <th>fractal dimension error</th>\n",
       "      <th>worst radius</th>\n",
       "      <th>worst texture</th>\n",
       "      <th>worst perimeter</th>\n",
       "      <th>worst area</th>\n",
       "      <th>worst smoothness</th>\n",
       "      <th>worst compactness</th>\n",
       "      <th>worst concavity</th>\n",
       "      <th>worst concave points</th>\n",
       "      <th>worst symmetry</th>\n",
       "      <th>worst fractal dimension</th>\n",
       "    </tr>\n",
       "  </thead>\n",
       "  <tbody>\n",
       "    <tr>\n",
       "      <th>0</th>\n",
       "      <td>17.99</td>\n",
       "      <td>10.38</td>\n",
       "      <td>122.80</td>\n",
       "      <td>1001.0</td>\n",
       "      <td>0.11840</td>\n",
       "      <td>0.27760</td>\n",
       "      <td>0.3001</td>\n",
       "      <td>0.14710</td>\n",
       "      <td>0.2419</td>\n",
       "      <td>0.07871</td>\n",
       "      <td>1.0950</td>\n",
       "      <td>0.9053</td>\n",
       "      <td>8.589</td>\n",
       "      <td>153.40</td>\n",
       "      <td>0.006399</td>\n",
       "      <td>0.04904</td>\n",
       "      <td>0.05373</td>\n",
       "      <td>0.01587</td>\n",
       "      <td>0.03003</td>\n",
       "      <td>0.006193</td>\n",
       "      <td>25.38</td>\n",
       "      <td>17.33</td>\n",
       "      <td>184.60</td>\n",
       "      <td>2019.0</td>\n",
       "      <td>0.1622</td>\n",
       "      <td>0.6656</td>\n",
       "      <td>0.7119</td>\n",
       "      <td>0.2654</td>\n",
       "      <td>0.4601</td>\n",
       "      <td>0.11890</td>\n",
       "    </tr>\n",
       "    <tr>\n",
       "      <th>1</th>\n",
       "      <td>20.57</td>\n",
       "      <td>17.77</td>\n",
       "      <td>132.90</td>\n",
       "      <td>1326.0</td>\n",
       "      <td>0.08474</td>\n",
       "      <td>0.07864</td>\n",
       "      <td>0.0869</td>\n",
       "      <td>0.07017</td>\n",
       "      <td>0.1812</td>\n",
       "      <td>0.05667</td>\n",
       "      <td>0.5435</td>\n",
       "      <td>0.7339</td>\n",
       "      <td>3.398</td>\n",
       "      <td>74.08</td>\n",
       "      <td>0.005225</td>\n",
       "      <td>0.01308</td>\n",
       "      <td>0.01860</td>\n",
       "      <td>0.01340</td>\n",
       "      <td>0.01389</td>\n",
       "      <td>0.003532</td>\n",
       "      <td>24.99</td>\n",
       "      <td>23.41</td>\n",
       "      <td>158.80</td>\n",
       "      <td>1956.0</td>\n",
       "      <td>0.1238</td>\n",
       "      <td>0.1866</td>\n",
       "      <td>0.2416</td>\n",
       "      <td>0.1860</td>\n",
       "      <td>0.2750</td>\n",
       "      <td>0.08902</td>\n",
       "    </tr>\n",
       "    <tr>\n",
       "      <th>2</th>\n",
       "      <td>19.69</td>\n",
       "      <td>21.25</td>\n",
       "      <td>130.00</td>\n",
       "      <td>1203.0</td>\n",
       "      <td>0.10960</td>\n",
       "      <td>0.15990</td>\n",
       "      <td>0.1974</td>\n",
       "      <td>0.12790</td>\n",
       "      <td>0.2069</td>\n",
       "      <td>0.05999</td>\n",
       "      <td>0.7456</td>\n",
       "      <td>0.7869</td>\n",
       "      <td>4.585</td>\n",
       "      <td>94.03</td>\n",
       "      <td>0.006150</td>\n",
       "      <td>0.04006</td>\n",
       "      <td>0.03832</td>\n",
       "      <td>0.02058</td>\n",
       "      <td>0.02250</td>\n",
       "      <td>0.004571</td>\n",
       "      <td>23.57</td>\n",
       "      <td>25.53</td>\n",
       "      <td>152.50</td>\n",
       "      <td>1709.0</td>\n",
       "      <td>0.1444</td>\n",
       "      <td>0.4245</td>\n",
       "      <td>0.4504</td>\n",
       "      <td>0.2430</td>\n",
       "      <td>0.3613</td>\n",
       "      <td>0.08758</td>\n",
       "    </tr>\n",
       "    <tr>\n",
       "      <th>3</th>\n",
       "      <td>11.42</td>\n",
       "      <td>20.38</td>\n",
       "      <td>77.58</td>\n",
       "      <td>386.1</td>\n",
       "      <td>0.14250</td>\n",
       "      <td>0.28390</td>\n",
       "      <td>0.2414</td>\n",
       "      <td>0.10520</td>\n",
       "      <td>0.2597</td>\n",
       "      <td>0.09744</td>\n",
       "      <td>0.4956</td>\n",
       "      <td>1.1560</td>\n",
       "      <td>3.445</td>\n",
       "      <td>27.23</td>\n",
       "      <td>0.009110</td>\n",
       "      <td>0.07458</td>\n",
       "      <td>0.05661</td>\n",
       "      <td>0.01867</td>\n",
       "      <td>0.05963</td>\n",
       "      <td>0.009208</td>\n",
       "      <td>14.91</td>\n",
       "      <td>26.50</td>\n",
       "      <td>98.87</td>\n",
       "      <td>567.7</td>\n",
       "      <td>0.2098</td>\n",
       "      <td>0.8663</td>\n",
       "      <td>0.6869</td>\n",
       "      <td>0.2575</td>\n",
       "      <td>0.6638</td>\n",
       "      <td>0.17300</td>\n",
       "    </tr>\n",
       "    <tr>\n",
       "      <th>4</th>\n",
       "      <td>20.29</td>\n",
       "      <td>14.34</td>\n",
       "      <td>135.10</td>\n",
       "      <td>1297.0</td>\n",
       "      <td>0.10030</td>\n",
       "      <td>0.13280</td>\n",
       "      <td>0.1980</td>\n",
       "      <td>0.10430</td>\n",
       "      <td>0.1809</td>\n",
       "      <td>0.05883</td>\n",
       "      <td>0.7572</td>\n",
       "      <td>0.7813</td>\n",
       "      <td>5.438</td>\n",
       "      <td>94.44</td>\n",
       "      <td>0.011490</td>\n",
       "      <td>0.02461</td>\n",
       "      <td>0.05688</td>\n",
       "      <td>0.01885</td>\n",
       "      <td>0.01756</td>\n",
       "      <td>0.005115</td>\n",
       "      <td>22.54</td>\n",
       "      <td>16.67</td>\n",
       "      <td>152.20</td>\n",
       "      <td>1575.0</td>\n",
       "      <td>0.1374</td>\n",
       "      <td>0.2050</td>\n",
       "      <td>0.4000</td>\n",
       "      <td>0.1625</td>\n",
       "      <td>0.2364</td>\n",
       "      <td>0.07678</td>\n",
       "    </tr>\n",
       "  </tbody>\n",
       "</table>\n",
       "</div>"
      ],
      "text/plain": [
       "   mean radius  mean texture  mean perimeter  mean area  mean smoothness  \\\n",
       "0        17.99         10.38          122.80     1001.0          0.11840   \n",
       "1        20.57         17.77          132.90     1326.0          0.08474   \n",
       "2        19.69         21.25          130.00     1203.0          0.10960   \n",
       "3        11.42         20.38           77.58      386.1          0.14250   \n",
       "4        20.29         14.34          135.10     1297.0          0.10030   \n",
       "\n",
       "   mean compactness  mean concavity  mean concave points  mean symmetry  \\\n",
       "0           0.27760          0.3001              0.14710         0.2419   \n",
       "1           0.07864          0.0869              0.07017         0.1812   \n",
       "2           0.15990          0.1974              0.12790         0.2069   \n",
       "3           0.28390          0.2414              0.10520         0.2597   \n",
       "4           0.13280          0.1980              0.10430         0.1809   \n",
       "\n",
       "   mean fractal dimension  radius error  texture error  perimeter error  \\\n",
       "0                 0.07871        1.0950         0.9053            8.589   \n",
       "1                 0.05667        0.5435         0.7339            3.398   \n",
       "2                 0.05999        0.7456         0.7869            4.585   \n",
       "3                 0.09744        0.4956         1.1560            3.445   \n",
       "4                 0.05883        0.7572         0.7813            5.438   \n",
       "\n",
       "   area error  smoothness error  compactness error  concavity error  \\\n",
       "0      153.40          0.006399            0.04904          0.05373   \n",
       "1       74.08          0.005225            0.01308          0.01860   \n",
       "2       94.03          0.006150            0.04006          0.03832   \n",
       "3       27.23          0.009110            0.07458          0.05661   \n",
       "4       94.44          0.011490            0.02461          0.05688   \n",
       "\n",
       "   concave points error  symmetry error  fractal dimension error  \\\n",
       "0               0.01587         0.03003                 0.006193   \n",
       "1               0.01340         0.01389                 0.003532   \n",
       "2               0.02058         0.02250                 0.004571   \n",
       "3               0.01867         0.05963                 0.009208   \n",
       "4               0.01885         0.01756                 0.005115   \n",
       "\n",
       "   worst radius  worst texture  worst perimeter  worst area  worst smoothness  \\\n",
       "0         25.38          17.33           184.60      2019.0            0.1622   \n",
       "1         24.99          23.41           158.80      1956.0            0.1238   \n",
       "2         23.57          25.53           152.50      1709.0            0.1444   \n",
       "3         14.91          26.50            98.87       567.7            0.2098   \n",
       "4         22.54          16.67           152.20      1575.0            0.1374   \n",
       "\n",
       "   worst compactness  worst concavity  worst concave points  worst symmetry  \\\n",
       "0             0.6656           0.7119                0.2654          0.4601   \n",
       "1             0.1866           0.2416                0.1860          0.2750   \n",
       "2             0.4245           0.4504                0.2430          0.3613   \n",
       "3             0.8663           0.6869                0.2575          0.6638   \n",
       "4             0.2050           0.4000                0.1625          0.2364   \n",
       "\n",
       "   worst fractal dimension  \n",
       "0                  0.11890  \n",
       "1                  0.08902  \n",
       "2                  0.08758  \n",
       "3                  0.17300  \n",
       "4                  0.07678  "
      ]
     },
     "execution_count": 48,
     "metadata": {},
     "output_type": "execute_result"
    }
   ],
   "source": [
    "df2.head()"
   ]
  },
  {
   "cell_type": "code",
   "execution_count": 49,
   "metadata": {},
   "outputs": [
    {
     "data": {
      "text/plain": [
       "StandardScaler(copy=True, with_mean=True, with_std=True)"
      ]
     },
     "execution_count": 49,
     "metadata": {},
     "output_type": "execute_result"
    }
   ],
   "source": [
    "scaler = StandardScaler()\n",
    "scaler.fit(df2)"
   ]
  },
  {
   "cell_type": "code",
   "execution_count": 50,
   "metadata": {},
   "outputs": [],
   "source": [
    "scaled_data = scaler.transform(df2)"
   ]
  },
  {
   "cell_type": "code",
   "execution_count": 51,
   "metadata": {},
   "outputs": [
    {
     "data": {
      "text/plain": [
       "array([[ 1.09706398, -2.07333501,  1.26993369, ...,  2.29607613,\n",
       "         2.75062224,  1.93701461],\n",
       "       [ 1.82982061, -0.35363241,  1.68595471, ...,  1.0870843 ,\n",
       "        -0.24388967,  0.28118999],\n",
       "       [ 1.57988811,  0.45618695,  1.56650313, ...,  1.95500035,\n",
       "         1.152255  ,  0.20139121],\n",
       "       ...,\n",
       "       [ 0.70228425,  2.0455738 ,  0.67267578, ...,  0.41406869,\n",
       "        -1.10454895, -0.31840916],\n",
       "       [ 1.83834103,  2.33645719,  1.98252415, ...,  2.28998549,\n",
       "         1.91908301,  2.21963528],\n",
       "       [-1.80840125,  1.22179204, -1.81438851, ..., -1.74506282,\n",
       "        -0.04813821, -0.75120669]])"
      ]
     },
     "execution_count": 51,
     "metadata": {},
     "output_type": "execute_result"
    }
   ],
   "source": [
    "scaled_data"
   ]
  },
  {
   "cell_type": "code",
   "execution_count": 52,
   "metadata": {},
   "outputs": [],
   "source": [
    "from sklearn.decomposition import PCA"
   ]
  },
  {
   "cell_type": "code",
   "execution_count": 53,
   "metadata": {},
   "outputs": [],
   "source": [
    "pca = PCA(n_components=4) #konsekuensi dari 30 feature dikompres ke hanya 2 feature saja adalah semakin banyak informasi yg hilang"
   ]
  },
  {
   "cell_type": "code",
   "execution_count": 54,
   "metadata": {},
   "outputs": [
    {
     "data": {
      "text/plain": [
       "PCA(copy=True, iterated_power='auto', n_components=4, random_state=None,\n",
       "    svd_solver='auto', tol=0.0, whiten=False)"
      ]
     },
     "execution_count": 54,
     "metadata": {},
     "output_type": "execute_result"
    }
   ],
   "source": [
    "pca.fit(scaled_data)"
   ]
  },
  {
   "cell_type": "code",
   "execution_count": 55,
   "metadata": {},
   "outputs": [],
   "source": [
    "x_pca = pca.transform(scaled_data)"
   ]
  },
  {
   "cell_type": "code",
   "execution_count": 56,
   "metadata": {},
   "outputs": [
    {
     "data": {
      "text/plain": [
       "(569, 30)"
      ]
     },
     "execution_count": 56,
     "metadata": {},
     "output_type": "execute_result"
    }
   ],
   "source": [
    "scaled_data.shape"
   ]
  },
  {
   "cell_type": "code",
   "execution_count": 57,
   "metadata": {},
   "outputs": [
    {
     "data": {
      "text/plain": [
       "(569, 4)"
      ]
     },
     "execution_count": 57,
     "metadata": {},
     "output_type": "execute_result"
    }
   ],
   "source": [
    "x_pca.shape"
   ]
  },
  {
   "cell_type": "code",
   "execution_count": 58,
   "metadata": {},
   "outputs": [
    {
     "data": {
      "text/plain": [
       "array([[ 9.19283683,  1.94858307, -1.12316614,  3.6337309 ],\n",
       "       [ 2.3878018 , -3.76817174, -0.52929271,  1.11826384],\n",
       "       [ 5.73389628, -1.0751738 , -0.55174758,  0.9120827 ],\n",
       "       ...,\n",
       "       [ 1.25617928, -1.90229671,  0.56273052, -2.08922702],\n",
       "       [10.37479406,  1.67201011, -1.87702933, -2.35603111],\n",
       "       [-5.4752433 , -0.67063679,  1.49044311, -2.2991571 ]])"
      ]
     },
     "execution_count": 58,
     "metadata": {},
     "output_type": "execute_result"
    }
   ],
   "source": [
    "x_pca"
   ]
  },
  {
   "cell_type": "code",
   "execution_count": 59,
   "metadata": {
    "scrolled": false
   },
   "outputs": [
    {
     "data": {
      "text/html": [
       "<div>\n",
       "<style scoped>\n",
       "    .dataframe tbody tr th:only-of-type {\n",
       "        vertical-align: middle;\n",
       "    }\n",
       "\n",
       "    .dataframe tbody tr th {\n",
       "        vertical-align: top;\n",
       "    }\n",
       "\n",
       "    .dataframe thead th {\n",
       "        text-align: right;\n",
       "    }\n",
       "</style>\n",
       "<table border=\"1\" class=\"dataframe\">\n",
       "  <thead>\n",
       "    <tr style=\"text-align: right;\">\n",
       "      <th></th>\n",
       "      <th>0</th>\n",
       "      <th>1</th>\n",
       "      <th>2</th>\n",
       "      <th>3</th>\n",
       "      <th>benign</th>\n",
       "    </tr>\n",
       "  </thead>\n",
       "  <tbody>\n",
       "    <tr>\n",
       "      <th>0</th>\n",
       "      <td>9.192837</td>\n",
       "      <td>1.948583</td>\n",
       "      <td>-1.123166</td>\n",
       "      <td>3.633731</td>\n",
       "      <td>0</td>\n",
       "    </tr>\n",
       "    <tr>\n",
       "      <th>1</th>\n",
       "      <td>2.387802</td>\n",
       "      <td>-3.768172</td>\n",
       "      <td>-0.529293</td>\n",
       "      <td>1.118264</td>\n",
       "      <td>0</td>\n",
       "    </tr>\n",
       "    <tr>\n",
       "      <th>2</th>\n",
       "      <td>5.733896</td>\n",
       "      <td>-1.075174</td>\n",
       "      <td>-0.551748</td>\n",
       "      <td>0.912083</td>\n",
       "      <td>0</td>\n",
       "    </tr>\n",
       "    <tr>\n",
       "      <th>3</th>\n",
       "      <td>7.122953</td>\n",
       "      <td>10.275589</td>\n",
       "      <td>-3.232790</td>\n",
       "      <td>0.152547</td>\n",
       "      <td>0</td>\n",
       "    </tr>\n",
       "    <tr>\n",
       "      <th>4</th>\n",
       "      <td>3.935302</td>\n",
       "      <td>-1.948072</td>\n",
       "      <td>1.389767</td>\n",
       "      <td>2.940639</td>\n",
       "      <td>0</td>\n",
       "    </tr>\n",
       "  </tbody>\n",
       "</table>\n",
       "</div>"
      ],
      "text/plain": [
       "          0          1         2         3  benign\n",
       "0  9.192837   1.948583 -1.123166  3.633731       0\n",
       "1  2.387802  -3.768172 -0.529293  1.118264       0\n",
       "2  5.733896  -1.075174 -0.551748  0.912083       0\n",
       "3  7.122953  10.275589 -3.232790  0.152547       0\n",
       "4  3.935302  -1.948072  1.389767  2.940639       0"
      ]
     },
     "execution_count": 59,
     "metadata": {},
     "output_type": "execute_result"
    }
   ],
   "source": [
    "dfpca = pd.DataFrame(x_pca)\n",
    "dfpca['benign'] = cancer['target']\n",
    "dfpca.head()"
   ]
  },
  {
   "cell_type": "markdown",
   "metadata": {},
   "source": [
    "Great! We've reduced 30 dimensions to just 2! Let's plot these two dimensions out!"
   ]
  },
  {
   "cell_type": "code",
   "execution_count": 60,
   "metadata": {},
   "outputs": [],
   "source": [
    "for c in dfpca.columns[0:4]:\n",
    "    dfpca.rename({int(c): f'PC{int(c)+1}'}, axis=1,inplace=True)"
   ]
  },
  {
   "cell_type": "code",
   "execution_count": 61,
   "metadata": {},
   "outputs": [
    {
     "data": {
      "text/html": [
       "<div>\n",
       "<style scoped>\n",
       "    .dataframe tbody tr th:only-of-type {\n",
       "        vertical-align: middle;\n",
       "    }\n",
       "\n",
       "    .dataframe tbody tr th {\n",
       "        vertical-align: top;\n",
       "    }\n",
       "\n",
       "    .dataframe thead th {\n",
       "        text-align: right;\n",
       "    }\n",
       "</style>\n",
       "<table border=\"1\" class=\"dataframe\">\n",
       "  <thead>\n",
       "    <tr style=\"text-align: right;\">\n",
       "      <th></th>\n",
       "      <th>PC1</th>\n",
       "      <th>PC2</th>\n",
       "      <th>PC3</th>\n",
       "      <th>PC4</th>\n",
       "      <th>benign</th>\n",
       "    </tr>\n",
       "  </thead>\n",
       "  <tbody>\n",
       "    <tr>\n",
       "      <th>0</th>\n",
       "      <td>9.192837</td>\n",
       "      <td>1.948583</td>\n",
       "      <td>-1.123166</td>\n",
       "      <td>3.633731</td>\n",
       "      <td>0</td>\n",
       "    </tr>\n",
       "    <tr>\n",
       "      <th>1</th>\n",
       "      <td>2.387802</td>\n",
       "      <td>-3.768172</td>\n",
       "      <td>-0.529293</td>\n",
       "      <td>1.118264</td>\n",
       "      <td>0</td>\n",
       "    </tr>\n",
       "    <tr>\n",
       "      <th>2</th>\n",
       "      <td>5.733896</td>\n",
       "      <td>-1.075174</td>\n",
       "      <td>-0.551748</td>\n",
       "      <td>0.912083</td>\n",
       "      <td>0</td>\n",
       "    </tr>\n",
       "    <tr>\n",
       "      <th>3</th>\n",
       "      <td>7.122953</td>\n",
       "      <td>10.275589</td>\n",
       "      <td>-3.232790</td>\n",
       "      <td>0.152547</td>\n",
       "      <td>0</td>\n",
       "    </tr>\n",
       "    <tr>\n",
       "      <th>4</th>\n",
       "      <td>3.935302</td>\n",
       "      <td>-1.948072</td>\n",
       "      <td>1.389767</td>\n",
       "      <td>2.940639</td>\n",
       "      <td>0</td>\n",
       "    </tr>\n",
       "    <tr>\n",
       "      <th>...</th>\n",
       "      <td>...</td>\n",
       "      <td>...</td>\n",
       "      <td>...</td>\n",
       "      <td>...</td>\n",
       "      <td>...</td>\n",
       "    </tr>\n",
       "    <tr>\n",
       "      <th>564</th>\n",
       "      <td>6.439315</td>\n",
       "      <td>-3.576817</td>\n",
       "      <td>2.459487</td>\n",
       "      <td>1.177314</td>\n",
       "      <td>0</td>\n",
       "    </tr>\n",
       "    <tr>\n",
       "      <th>565</th>\n",
       "      <td>3.793382</td>\n",
       "      <td>-3.584048</td>\n",
       "      <td>2.088476</td>\n",
       "      <td>-2.506028</td>\n",
       "      <td>0</td>\n",
       "    </tr>\n",
       "    <tr>\n",
       "      <th>566</th>\n",
       "      <td>1.256179</td>\n",
       "      <td>-1.902297</td>\n",
       "      <td>0.562731</td>\n",
       "      <td>-2.089227</td>\n",
       "      <td>0</td>\n",
       "    </tr>\n",
       "    <tr>\n",
       "      <th>567</th>\n",
       "      <td>10.374794</td>\n",
       "      <td>1.672010</td>\n",
       "      <td>-1.877029</td>\n",
       "      <td>-2.356031</td>\n",
       "      <td>0</td>\n",
       "    </tr>\n",
       "    <tr>\n",
       "      <th>568</th>\n",
       "      <td>-5.475243</td>\n",
       "      <td>-0.670637</td>\n",
       "      <td>1.490443</td>\n",
       "      <td>-2.299157</td>\n",
       "      <td>1</td>\n",
       "    </tr>\n",
       "  </tbody>\n",
       "</table>\n",
       "<p>569 rows × 5 columns</p>\n",
       "</div>"
      ],
      "text/plain": [
       "           PC1        PC2       PC3       PC4  benign\n",
       "0     9.192837   1.948583 -1.123166  3.633731       0\n",
       "1     2.387802  -3.768172 -0.529293  1.118264       0\n",
       "2     5.733896  -1.075174 -0.551748  0.912083       0\n",
       "3     7.122953  10.275589 -3.232790  0.152547       0\n",
       "4     3.935302  -1.948072  1.389767  2.940639       0\n",
       "..         ...        ...       ...       ...     ...\n",
       "564   6.439315  -3.576817  2.459487  1.177314       0\n",
       "565   3.793382  -3.584048  2.088476 -2.506028       0\n",
       "566   1.256179  -1.902297  0.562731 -2.089227       0\n",
       "567  10.374794   1.672010 -1.877029 -2.356031       0\n",
       "568  -5.475243  -0.670637  1.490443 -2.299157       1\n",
       "\n",
       "[569 rows x 5 columns]"
      ]
     },
     "execution_count": 61,
     "metadata": {},
     "output_type": "execute_result"
    }
   ],
   "source": [
    "dfpca"
   ]
  },
  {
   "cell_type": "code",
   "execution_count": 62,
   "metadata": {
    "scrolled": false
   },
   "outputs": [
    {
     "data": {
      "text/plain": [
       "<seaborn.axisgrid.FacetGrid at 0x1a966968cc8>"
      ]
     },
     "execution_count": 62,
     "metadata": {},
     "output_type": "execute_result"
    },
    {
     "data": {
      "image/png": "[encoded data removed]",
      "text/plain": [
       "<Figure size 402.375x360 with 1 Axes>"
      ]
     },
     "metadata": {
      "needs_background": "light"
     },
     "output_type": "display_data"
    }
   ],
   "source": [
    "sns.lmplot(x='PC1', y='PC2', hue='benign', data=dfpca, fit_reg=False)"
   ]
  },
  {
   "cell_type": "code",
   "execution_count": 63,
   "metadata": {
    "scrolled": false
   },
   "outputs": [
    {
     "data": {
      "text/plain": [
       "<seaborn.axisgrid.FacetGrid at 0x1a966654308>"
      ]
     },
     "execution_count": 63,
     "metadata": {},
     "output_type": "execute_result"
    },
    {
     "data": {
      "image/png": "[encoded data removed]",
      "text/plain": [
       "<Figure size 402.375x360 with 1 Axes>"
      ]
     },
     "metadata": {
      "needs_background": "light"
     },
     "output_type": "display_data"
    }
   ],
   "source": [
    "sns.lmplot(x='PC3', y='PC4', hue='benign', data=dfpca, fit_reg=False)"
   ]
  },
  {
   "cell_type": "code",
   "execution_count": 64,
   "metadata": {
    "scrolled": false
   },
   "outputs": [
    {
     "data": {
      "text/plain": [
       "<seaborn.axisgrid.FacetGrid at 0x1a9666ae088>"
      ]
     },
     "execution_count": 64,
     "metadata": {},
     "output_type": "execute_result"
    },
    {
     "data": {
      "image/png": "[encoded data removed]",
      "text/plain": [
       "<Figure size 402.375x360 with 1 Axes>"
      ]
     },
     "metadata": {
      "needs_background": "light"
     },
     "output_type": "display_data"
    }
   ],
   "source": [
    "sns.lmplot(x='PC1', y='PC3', hue='benign', data=dfpca, fit_reg=False)"
   ]
  },
  {
   "cell_type": "code",
   "execution_count": 65,
   "metadata": {},
   "outputs": [
    {
     "data": {
      "text/plain": [
       "<seaborn.axisgrid.FacetGrid at 0x1a9666ce8c8>"
      ]
     },
     "execution_count": 65,
     "metadata": {},
     "output_type": "execute_result"
    },
    {
     "data": {
      "image/png": "[encoded data removed]",
      "text/plain": [
       "<Figure size 402.375x360 with 1 Axes>"
      ]
     },
     "metadata": {
      "needs_background": "light"
     },
     "output_type": "display_data"
    }
   ],
   "source": [
    "sns.lmplot(x='PC1', y='PC4', hue='benign', data=dfpca, fit_reg=False)"
   ]
  },
  {
   "cell_type": "markdown",
   "metadata": {},
   "source": [
    "Clearly by using these two components we can easily separate these two classes.\n",
    "\n",
    "## Interpreting the components \n",
    "\n",
    "Unfortunately, with this great power of dimensionality reduction, comes the cost of being able to easily understand what these components represent.\n",
    "\n",
    "The components correspond to combinations of the original features, the components themselves are stored as an attribute of the fitted PCA object:"
   ]
  },
  {
   "cell_type": "code",
   "execution_count": 66,
   "metadata": {},
   "outputs": [
    {
     "data": {
      "text/plain": [
       "array([[ 0.21890244,  0.10372458,  0.22753729,  0.22099499,  0.14258969,\n",
       "         0.23928535,  0.25840048,  0.26085376,  0.13816696,  0.06436335,\n",
       "         0.20597878,  0.01742803,  0.21132592,  0.20286964,  0.01453145,\n",
       "         0.17039345,  0.15358979,  0.1834174 ,  0.04249842,  0.10256832,\n",
       "         0.22799663,  0.10446933,  0.23663968,  0.22487053,  0.12795256,\n",
       "         0.21009588,  0.22876753,  0.25088597,  0.12290456,  0.13178394],\n",
       "       [-0.23385713, -0.05970609, -0.21518136, -0.23107671,  0.18611302,\n",
       "         0.15189161,  0.06016536, -0.0347675 ,  0.19034877,  0.36657547,\n",
       "        -0.10555215,  0.08997968, -0.08945723, -0.15229263,  0.20443045,\n",
       "         0.2327159 ,  0.19720728,  0.13032156,  0.183848  ,  0.28009203,\n",
       "        -0.21986638, -0.0454673 , -0.19987843, -0.21935186,  0.17230435,\n",
       "         0.14359317,  0.09796411, -0.00825724,  0.14188335,  0.27533947],\n",
       "       [-0.00853125,  0.0645499 , -0.00931422,  0.02869952, -0.10429191,\n",
       "        -0.07409157,  0.00273385, -0.02556353, -0.04023994, -0.02257409,\n",
       "         0.26848139,  0.37463366,  0.26664537,  0.21600653,  0.30883898,\n",
       "         0.15477972,  0.17646374,  0.22465756,  0.28858429,  0.21150378,\n",
       "        -0.04750699, -0.04229782, -0.04854651, -0.01190232, -0.25979761,\n",
       "        -0.23607563, -0.17305734, -0.17034407, -0.27131264, -0.23279132],\n",
       "       [ 0.04140896, -0.60305   ,  0.0419831 ,  0.05343379,  0.15938277,\n",
       "         0.03179458,  0.01912277,  0.06533596,  0.06712498,  0.04858674,\n",
       "         0.09794125, -0.35985553,  0.08899242,  0.10820503,  0.04466418,\n",
       "        -0.02746937,  0.00131687,  0.07406733,  0.04407335,  0.01530477,\n",
       "         0.01541723, -0.63280789,  0.01380279,  0.02589473,  0.01765221,\n",
       "        -0.09132842, -0.07395117,  0.006007  , -0.03625069, -0.07705347]])"
      ]
     },
     "execution_count": 66,
     "metadata": {},
     "output_type": "execute_result"
    }
   ],
   "source": [
    "pca.components_"
   ]
  },
  {
   "cell_type": "code",
   "execution_count": 67,
   "metadata": {},
   "outputs": [
    {
     "data": {
      "text/plain": [
       "23.81340307083687"
      ]
     },
     "execution_count": 67,
     "metadata": {},
     "output_type": "execute_result"
    }
   ],
   "source": [
    "sum(pca.explained_variance_)"
   ]
  },
  {
   "cell_type": "markdown",
   "metadata": {},
   "source": [
    "In this numpy matrix array, each row represents a principal component, and each column relates back to the original features. we can visualize this relationship with a heatmap:"
   ]
  },
  {
   "cell_type": "code",
   "execution_count": 68,
   "metadata": {},
   "outputs": [],
   "source": [
    "df_comp = pd.DataFrame(pca.components_,columns=cancer['feature_names'], index=['PC1', 'PC2','PC3', 'PC4'])"
   ]
  },
  {
   "cell_type": "code",
   "execution_count": 69,
   "metadata": {},
   "outputs": [
    {
     "data": {
      "text/html": [
       "<div>\n",
       "<style scoped>\n",
       "    .dataframe tbody tr th:only-of-type {\n",
       "        vertical-align: middle;\n",
       "    }\n",
       "\n",
       "    .dataframe tbody tr th {\n",
       "        vertical-align: top;\n",
       "    }\n",
       "\n",
       "    .dataframe thead th {\n",
       "        text-align: right;\n",
       "    }\n",
       "</style>\n",
       "<table border=\"1\" class=\"dataframe\">\n",
       "  <thead>\n",
       "    <tr style=\"text-align: right;\">\n",
       "      <th></th>\n",
       "      <th>mean radius</th>\n",
       "      <th>mean texture</th>\n",
       "      <th>mean perimeter</th>\n",
       "      <th>mean area</th>\n",
       "      <th>mean smoothness</th>\n",
       "      <th>mean compactness</th>\n",
       "      <th>mean concavity</th>\n",
       "      <th>mean concave points</th>\n",
       "      <th>mean symmetry</th>\n",
       "      <th>mean fractal dimension</th>\n",
       "      <th>radius error</th>\n",
       "      <th>texture error</th>\n",
       "      <th>perimeter error</th>\n",
       "      <th>area error</th>\n",
       "      <th>smoothness error</th>\n",
       "      <th>compactness error</th>\n",
       "      <th>concavity error</th>\n",
       "      <th>concave points error</th>\n",
       "      <th>symmetry error</th>\n",
       "      <th>fractal dimension error</th>\n",
       "      <th>worst radius</th>\n",
       "      <th>worst texture</th>\n",
       "      <th>worst perimeter</th>\n",
       "      <th>worst area</th>\n",
       "      <th>worst smoothness</th>\n",
       "      <th>worst compactness</th>\n",
       "      <th>worst concavity</th>\n",
       "      <th>worst concave points</th>\n",
       "      <th>worst symmetry</th>\n",
       "      <th>worst fractal dimension</th>\n",
       "    </tr>\n",
       "  </thead>\n",
       "  <tbody>\n",
       "    <tr>\n",
       "      <th>PC1</th>\n",
       "      <td>0.218902</td>\n",
       "      <td>0.103725</td>\n",
       "      <td>0.227537</td>\n",
       "      <td>0.220995</td>\n",
       "      <td>0.142590</td>\n",
       "      <td>0.239285</td>\n",
       "      <td>0.258400</td>\n",
       "      <td>0.260854</td>\n",
       "      <td>0.138167</td>\n",
       "      <td>0.064363</td>\n",
       "      <td>0.205979</td>\n",
       "      <td>0.017428</td>\n",
       "      <td>0.211326</td>\n",
       "      <td>0.202870</td>\n",
       "      <td>0.014531</td>\n",
       "      <td>0.170393</td>\n",
       "      <td>0.153590</td>\n",
       "      <td>0.183417</td>\n",
       "      <td>0.042498</td>\n",
       "      <td>0.102568</td>\n",
       "      <td>0.227997</td>\n",
       "      <td>0.104469</td>\n",
       "      <td>0.236640</td>\n",
       "      <td>0.224871</td>\n",
       "      <td>0.127953</td>\n",
       "      <td>0.210096</td>\n",
       "      <td>0.228768</td>\n",
       "      <td>0.250886</td>\n",
       "      <td>0.122905</td>\n",
       "      <td>0.131784</td>\n",
       "    </tr>\n",
       "    <tr>\n",
       "      <th>PC2</th>\n",
       "      <td>-0.233857</td>\n",
       "      <td>-0.059706</td>\n",
       "      <td>-0.215181</td>\n",
       "      <td>-0.231077</td>\n",
       "      <td>0.186113</td>\n",
       "      <td>0.151892</td>\n",
       "      <td>0.060165</td>\n",
       "      <td>-0.034768</td>\n",
       "      <td>0.190349</td>\n",
       "      <td>0.366575</td>\n",
       "      <td>-0.105552</td>\n",
       "      <td>0.089980</td>\n",
       "      <td>-0.089457</td>\n",
       "      <td>-0.152293</td>\n",
       "      <td>0.204430</td>\n",
       "      <td>0.232716</td>\n",
       "      <td>0.197207</td>\n",
       "      <td>0.130322</td>\n",
       "      <td>0.183848</td>\n",
       "      <td>0.280092</td>\n",
       "      <td>-0.219866</td>\n",
       "      <td>-0.045467</td>\n",
       "      <td>-0.199878</td>\n",
       "      <td>-0.219352</td>\n",
       "      <td>0.172304</td>\n",
       "      <td>0.143593</td>\n",
       "      <td>0.097964</td>\n",
       "      <td>-0.008257</td>\n",
       "      <td>0.141883</td>\n",
       "      <td>0.275339</td>\n",
       "    </tr>\n",
       "    <tr>\n",
       "      <th>PC3</th>\n",
       "      <td>-0.008531</td>\n",
       "      <td>0.064550</td>\n",
       "      <td>-0.009314</td>\n",
       "      <td>0.028700</td>\n",
       "      <td>-0.104292</td>\n",
       "      <td>-0.074092</td>\n",
       "      <td>0.002734</td>\n",
       "      <td>-0.025564</td>\n",
       "      <td>-0.040240</td>\n",
       "      <td>-0.022574</td>\n",
       "      <td>0.268481</td>\n",
       "      <td>0.374634</td>\n",
       "      <td>0.266645</td>\n",
       "      <td>0.216007</td>\n",
       "      <td>0.308839</td>\n",
       "      <td>0.154780</td>\n",
       "      <td>0.176464</td>\n",
       "      <td>0.224658</td>\n",
       "      <td>0.288584</td>\n",
       "      <td>0.211504</td>\n",
       "      <td>-0.047507</td>\n",
       "      <td>-0.042298</td>\n",
       "      <td>-0.048547</td>\n",
       "      <td>-0.011902</td>\n",
       "      <td>-0.259798</td>\n",
       "      <td>-0.236076</td>\n",
       "      <td>-0.173057</td>\n",
       "      <td>-0.170344</td>\n",
       "      <td>-0.271313</td>\n",
       "      <td>-0.232791</td>\n",
       "    </tr>\n",
       "    <tr>\n",
       "      <th>PC4</th>\n",
       "      <td>0.041409</td>\n",
       "      <td>-0.603050</td>\n",
       "      <td>0.041983</td>\n",
       "      <td>0.053434</td>\n",
       "      <td>0.159383</td>\n",
       "      <td>0.031795</td>\n",
       "      <td>0.019123</td>\n",
       "      <td>0.065336</td>\n",
       "      <td>0.067125</td>\n",
       "      <td>0.048587</td>\n",
       "      <td>0.097941</td>\n",
       "      <td>-0.359856</td>\n",
       "      <td>0.088992</td>\n",
       "      <td>0.108205</td>\n",
       "      <td>0.044664</td>\n",
       "      <td>-0.027469</td>\n",
       "      <td>0.001317</td>\n",
       "      <td>0.074067</td>\n",
       "      <td>0.044073</td>\n",
       "      <td>0.015305</td>\n",
       "      <td>0.015417</td>\n",
       "      <td>-0.632808</td>\n",
       "      <td>0.013803</td>\n",
       "      <td>0.025895</td>\n",
       "      <td>0.017652</td>\n",
       "      <td>-0.091328</td>\n",
       "      <td>-0.073951</td>\n",
       "      <td>0.006007</td>\n",
       "      <td>-0.036251</td>\n",
       "      <td>-0.077053</td>\n",
       "    </tr>\n",
       "  </tbody>\n",
       "</table>\n",
       "</div>"
      ],
      "text/plain": [
       "     mean radius  mean texture  mean perimeter  mean area  mean smoothness  \\\n",
       "PC1     0.218902      0.103725        0.227537   0.220995         0.142590   \n",
       "PC2    -0.233857     -0.059706       -0.215181  -0.231077         0.186113   \n",
       "PC3    -0.008531      0.064550       -0.009314   0.028700        -0.104292   \n",
       "PC4     0.041409     -0.603050        0.041983   0.053434         0.159383   \n",
       "\n",
       "     mean compactness  mean concavity  mean concave points  mean symmetry  \\\n",
       "PC1          0.239285        0.258400             0.260854       0.138167   \n",
       "PC2          0.151892        0.060165            -0.034768       0.190349   \n",
       "PC3         -0.074092        0.002734            -0.025564      -0.040240   \n",
       "PC4          0.031795        0.019123             0.065336       0.067125   \n",
       "\n",
       "     mean fractal dimension  radius error  texture error  perimeter error  \\\n",
       "PC1                0.064363      0.205979       0.017428         0.211326   \n",
       "PC2                0.366575     -0.105552       0.089980        -0.089457   \n",
       "PC3               -0.022574      0.268481       0.374634         0.266645   \n",
       "PC4                0.048587      0.097941      -0.359856         0.088992   \n",
       "\n",
       "     area error  smoothness error  compactness error  concavity error  \\\n",
       "PC1    0.202870          0.014531           0.170393         0.153590   \n",
       "PC2   -0.152293          0.204430           0.232716         0.197207   \n",
       "PC3    0.216007          0.308839           0.154780         0.176464   \n",
       "PC4    0.108205          0.044664          -0.027469         0.001317   \n",
       "\n",
       "     concave points error  symmetry error  fractal dimension error  \\\n",
       "PC1              0.183417        0.042498                 0.102568   \n",
       "PC2              0.130322        0.183848                 0.280092   \n",
       "PC3              0.224658        0.288584                 0.211504   \n",
       "PC4              0.074067        0.044073                 0.015305   \n",
       "\n",
       "     worst radius  worst texture  worst perimeter  worst area  \\\n",
       "PC1      0.227997       0.104469         0.236640    0.224871   \n",
       "PC2     -0.219866      -0.045467        -0.199878   -0.219352   \n",
       "PC3     -0.047507      -0.042298        -0.048547   -0.011902   \n",
       "PC4      0.015417      -0.632808         0.013803    0.025895   \n",
       "\n",
       "     worst smoothness  worst compactness  worst concavity  \\\n",
       "PC1          0.127953           0.210096         0.228768   \n",
       "PC2          0.172304           0.143593         0.097964   \n",
       "PC3         -0.259798          -0.236076        -0.173057   \n",
       "PC4          0.017652          -0.091328        -0.073951   \n",
       "\n",
       "     worst concave points  worst symmetry  worst fractal dimension  \n",
       "PC1              0.250886        0.122905                 0.131784  \n",
       "PC2             -0.008257        0.141883                 0.275339  \n",
       "PC3             -0.170344       -0.271313                -0.232791  \n",
       "PC4              0.006007       -0.036251                -0.077053  "
      ]
     },
     "execution_count": 69,
     "metadata": {},
     "output_type": "execute_result"
    }
   ],
   "source": [
    "df_comp"
   ]
  },
  {
   "cell_type": "code",
   "execution_count": 70,
   "metadata": {},
   "outputs": [
    {
     "data": {
      "text/plain": [
       "<matplotlib.axes._subplots.AxesSubplot at 0x1a96679af88>"
      ]
     },
     "execution_count": 70,
     "metadata": {},
     "output_type": "execute_result"
    },
    {
     "data": {
      "image/png": "[encoded data removed]",
      "text/plain": [
       "<Figure size 1440x576 with 2 Axes>"
      ]
     },
     "metadata": {
      "needs_background": "light"
     },
     "output_type": "display_data"
    }
   ],
   "source": [
    "plt.figure(figsize=(20,8))\n",
    "sns.heatmap(df_comp,cmap='plasma', annot=True)"
   ]
  },
  {
   "cell_type": "code",
   "execution_count": 71,
   "metadata": {},
   "outputs": [
    {
     "data": {
      "text/plain": [
       "1    357\n",
       "0    212\n",
       "Name: benign, dtype: int64"
      ]
     },
     "execution_count": 71,
     "metadata": {},
     "output_type": "execute_result"
    }
   ],
   "source": [
    "dfpca['benign'].value_counts()"
   ]
  },
  {
   "cell_type": "code",
   "execution_count": 72,
   "metadata": {},
   "outputs": [
    {
     "data": {
      "text/plain": [
       "<matplotlib.axes._subplots.AxesSubplot at 0x1a969005348>"
      ]
     },
     "execution_count": 72,
     "metadata": {},
     "output_type": "execute_result"
    },
    {
     "data": {
      "image/png": "[encoded data removed]",
      "text/plain": [
       "<Figure size 432x288 with 2 Axes>"
      ]
     },
     "metadata": {
      "needs_background": "light"
     },
     "output_type": "display_data"
    }
   ],
   "source": [
    "sns.heatmap(dfpca.corr(), annot=True)"
   ]
  },
  {
   "cell_type": "code",
   "execution_count": 73,
   "metadata": {},
   "outputs": [
    {
     "data": {
      "text/html": [
       "<div>\n",
       "<style scoped>\n",
       "    .dataframe tbody tr th:only-of-type {\n",
       "        vertical-align: middle;\n",
       "    }\n",
       "\n",
       "    .dataframe tbody tr th {\n",
       "        vertical-align: top;\n",
       "    }\n",
       "\n",
       "    .dataframe thead th {\n",
       "        text-align: right;\n",
       "    }\n",
       "</style>\n",
       "<table border=\"1\" class=\"dataframe\">\n",
       "  <thead>\n",
       "    <tr style=\"text-align: right;\">\n",
       "      <th></th>\n",
       "      <th>x</th>\n",
       "      <th>y</th>\n",
       "    </tr>\n",
       "  </thead>\n",
       "  <tbody>\n",
       "    <tr>\n",
       "      <th>0</th>\n",
       "      <td>1</td>\n",
       "      <td>3</td>\n",
       "    </tr>\n",
       "    <tr>\n",
       "      <th>1</th>\n",
       "      <td>2</td>\n",
       "      <td>3</td>\n",
       "    </tr>\n",
       "    <tr>\n",
       "      <th>2</th>\n",
       "      <td>3</td>\n",
       "      <td>3</td>\n",
       "    </tr>\n",
       "    <tr>\n",
       "      <th>3</th>\n",
       "      <td>4</td>\n",
       "      <td>3</td>\n",
       "    </tr>\n",
       "    <tr>\n",
       "      <th>4</th>\n",
       "      <td>5</td>\n",
       "      <td>3</td>\n",
       "    </tr>\n",
       "    <tr>\n",
       "      <th>5</th>\n",
       "      <td>3</td>\n",
       "      <td>1</td>\n",
       "    </tr>\n",
       "    <tr>\n",
       "      <th>6</th>\n",
       "      <td>3</td>\n",
       "      <td>2</td>\n",
       "    </tr>\n",
       "    <tr>\n",
       "      <th>7</th>\n",
       "      <td>3</td>\n",
       "      <td>3</td>\n",
       "    </tr>\n",
       "    <tr>\n",
       "      <th>8</th>\n",
       "      <td>3</td>\n",
       "      <td>4</td>\n",
       "    </tr>\n",
       "    <tr>\n",
       "      <th>9</th>\n",
       "      <td>3</td>\n",
       "      <td>5</td>\n",
       "    </tr>\n",
       "  </tbody>\n",
       "</table>\n",
       "</div>"
      ],
      "text/plain": [
       "   x  y\n",
       "0  1  3\n",
       "1  2  3\n",
       "2  3  3\n",
       "3  4  3\n",
       "4  5  3\n",
       "5  3  1\n",
       "6  3  2\n",
       "7  3  3\n",
       "8  3  4\n",
       "9  3  5"
      ]
     },
     "execution_count": 73,
     "metadata": {},
     "output_type": "execute_result"
    }
   ],
   "source": [
    "contohx=[1,2,3,4,5,3,3,3,3,3]\n",
    "contohy=[3,3,3,3,3,1,2,3,4,5]\n",
    "\n",
    "listxy = []\n",
    "for x,y in zip(contohx, contohy):\n",
    "    listxy.append([x,y])\n",
    "    \n",
    "dfcontoh = pd.DataFrame(listxy, columns=['x', 'y'])\n",
    "dfcontoh"
   ]
  },
  {
   "cell_type": "code",
   "execution_count": 74,
   "metadata": {},
   "outputs": [
    {
     "data": {
      "text/plain": [
       "<matplotlib.collections.PathCollection at 0x1a968d3c0c8>"
      ]
     },
     "execution_count": 74,
     "metadata": {},
     "output_type": "execute_result"
    },
    {
     "data": {
      "image/png": "[encoded data removed]",
      "text/plain": [
       "<Figure size 432x288 with 1 Axes>"
      ]
     },
     "metadata": {
      "needs_background": "light"
     },
     "output_type": "display_data"
    }
   ],
   "source": [
    "plt.scatter(dfcontoh['x'], dfcontoh['y'])"
   ]
  },
  {
   "cell_type": "code",
   "execution_count": 75,
   "metadata": {},
   "outputs": [
    {
     "data": {
      "text/html": [
       "<div>\n",
       "<style scoped>\n",
       "    .dataframe tbody tr th:only-of-type {\n",
       "        vertical-align: middle;\n",
       "    }\n",
       "\n",
       "    .dataframe tbody tr th {\n",
       "        vertical-align: top;\n",
       "    }\n",
       "\n",
       "    .dataframe thead th {\n",
       "        text-align: right;\n",
       "    }\n",
       "</style>\n",
       "<table border=\"1\" class=\"dataframe\">\n",
       "  <thead>\n",
       "    <tr style=\"text-align: right;\">\n",
       "      <th></th>\n",
       "      <th>x</th>\n",
       "      <th>y</th>\n",
       "    </tr>\n",
       "  </thead>\n",
       "  <tbody>\n",
       "    <tr>\n",
       "      <th>x</th>\n",
       "      <td>1.0</td>\n",
       "      <td>0.0</td>\n",
       "    </tr>\n",
       "    <tr>\n",
       "      <th>y</th>\n",
       "      <td>0.0</td>\n",
       "      <td>1.0</td>\n",
       "    </tr>\n",
       "  </tbody>\n",
       "</table>\n",
       "</div>"
      ],
      "text/plain": [
       "     x    y\n",
       "x  1.0  0.0\n",
       "y  0.0  1.0"
      ]
     },
     "execution_count": 75,
     "metadata": {},
     "output_type": "execute_result"
    }
   ],
   "source": [
    "dfcontoh.corr()"
   ]
  },
  {
   "cell_type": "code",
   "execution_count": 76,
   "metadata": {},
   "outputs": [
    {
     "data": {
      "text/html": [
       "<div>\n",
       "<style scoped>\n",
       "    .dataframe tbody tr th:only-of-type {\n",
       "        vertical-align: middle;\n",
       "    }\n",
       "\n",
       "    .dataframe tbody tr th {\n",
       "        vertical-align: top;\n",
       "    }\n",
       "\n",
       "    .dataframe thead th {\n",
       "        text-align: right;\n",
       "    }\n",
       "</style>\n",
       "<table border=\"1\" class=\"dataframe\">\n",
       "  <thead>\n",
       "    <tr style=\"text-align: right;\">\n",
       "      <th></th>\n",
       "      <th>PC1</th>\n",
       "      <th>PC2</th>\n",
       "      <th>PC3</th>\n",
       "      <th>PC4</th>\n",
       "      <th>benign</th>\n",
       "    </tr>\n",
       "  </thead>\n",
       "  <tbody>\n",
       "    <tr>\n",
       "      <th>0</th>\n",
       "      <td>9.192837</td>\n",
       "      <td>1.948583</td>\n",
       "      <td>-1.123166</td>\n",
       "      <td>3.633731</td>\n",
       "      <td>0</td>\n",
       "    </tr>\n",
       "    <tr>\n",
       "      <th>1</th>\n",
       "      <td>2.387802</td>\n",
       "      <td>-3.768172</td>\n",
       "      <td>-0.529293</td>\n",
       "      <td>1.118264</td>\n",
       "      <td>0</td>\n",
       "    </tr>\n",
       "    <tr>\n",
       "      <th>2</th>\n",
       "      <td>5.733896</td>\n",
       "      <td>-1.075174</td>\n",
       "      <td>-0.551748</td>\n",
       "      <td>0.912083</td>\n",
       "      <td>0</td>\n",
       "    </tr>\n",
       "    <tr>\n",
       "      <th>3</th>\n",
       "      <td>7.122953</td>\n",
       "      <td>10.275589</td>\n",
       "      <td>-3.232790</td>\n",
       "      <td>0.152547</td>\n",
       "      <td>0</td>\n",
       "    </tr>\n",
       "    <tr>\n",
       "      <th>4</th>\n",
       "      <td>3.935302</td>\n",
       "      <td>-1.948072</td>\n",
       "      <td>1.389767</td>\n",
       "      <td>2.940639</td>\n",
       "      <td>0</td>\n",
       "    </tr>\n",
       "    <tr>\n",
       "      <th>...</th>\n",
       "      <td>...</td>\n",
       "      <td>...</td>\n",
       "      <td>...</td>\n",
       "      <td>...</td>\n",
       "      <td>...</td>\n",
       "    </tr>\n",
       "    <tr>\n",
       "      <th>564</th>\n",
       "      <td>6.439315</td>\n",
       "      <td>-3.576817</td>\n",
       "      <td>2.459487</td>\n",
       "      <td>1.177314</td>\n",
       "      <td>0</td>\n",
       "    </tr>\n",
       "    <tr>\n",
       "      <th>565</th>\n",
       "      <td>3.793382</td>\n",
       "      <td>-3.584048</td>\n",
       "      <td>2.088476</td>\n",
       "      <td>-2.506028</td>\n",
       "      <td>0</td>\n",
       "    </tr>\n",
       "    <tr>\n",
       "      <th>566</th>\n",
       "      <td>1.256179</td>\n",
       "      <td>-1.902297</td>\n",
       "      <td>0.562731</td>\n",
       "      <td>-2.089227</td>\n",
       "      <td>0</td>\n",
       "    </tr>\n",
       "    <tr>\n",
       "      <th>567</th>\n",
       "      <td>10.374794</td>\n",
       "      <td>1.672010</td>\n",
       "      <td>-1.877029</td>\n",
       "      <td>-2.356031</td>\n",
       "      <td>0</td>\n",
       "    </tr>\n",
       "    <tr>\n",
       "      <th>568</th>\n",
       "      <td>-5.475243</td>\n",
       "      <td>-0.670637</td>\n",
       "      <td>1.490443</td>\n",
       "      <td>-2.299157</td>\n",
       "      <td>1</td>\n",
       "    </tr>\n",
       "  </tbody>\n",
       "</table>\n",
       "<p>569 rows × 5 columns</p>\n",
       "</div>"
      ],
      "text/plain": [
       "           PC1        PC2       PC3       PC4  benign\n",
       "0     9.192837   1.948583 -1.123166  3.633731       0\n",
       "1     2.387802  -3.768172 -0.529293  1.118264       0\n",
       "2     5.733896  -1.075174 -0.551748  0.912083       0\n",
       "3     7.122953  10.275589 -3.232790  0.152547       0\n",
       "4     3.935302  -1.948072  1.389767  2.940639       0\n",
       "..         ...        ...       ...       ...     ...\n",
       "564   6.439315  -3.576817  2.459487  1.177314       0\n",
       "565   3.793382  -3.584048  2.088476 -2.506028       0\n",
       "566   1.256179  -1.902297  0.562731 -2.089227       0\n",
       "567  10.374794   1.672010 -1.877029 -2.356031       0\n",
       "568  -5.475243  -0.670637  1.490443 -2.299157       1\n",
       "\n",
       "[569 rows x 5 columns]"
      ]
     },
     "execution_count": 76,
     "metadata": {},
     "output_type": "execute_result"
    }
   ],
   "source": [
    "dfpca"
   ]
  },
  {
   "cell_type": "code",
   "execution_count": 77,
   "metadata": {
    "scrolled": true
   },
   "outputs": [
    {
     "data": {
      "text/plain": [
       "1    357\n",
       "0    212\n",
       "Name: benign, dtype: int64"
      ]
     },
     "execution_count": 77,
     "metadata": {},
     "output_type": "execute_result"
    }
   ],
   "source": [
    "dfpca['benign'].value_counts()"
   ]
  },
  {
   "cell_type": "code",
   "execution_count": 78,
   "metadata": {},
   "outputs": [],
   "source": [
    "gradient_pca4 = GradientBoostingClassifier(learning_rate=0.1, subsample=.5, n_estimators=100)"
   ]
  },
  {
   "cell_type": "code",
   "execution_count": 79,
   "metadata": {},
   "outputs": [],
   "source": [
    "gradient_pca = GradientBoostingClassifier(learning_rate = 0.1, subsample=.5, n_estimators=100)"
   ]
  },
  {
   "cell_type": "code",
   "execution_count": 80,
   "metadata": {},
   "outputs": [],
   "source": [
    "Xpca = dfpca.drop('benign', axis=1)\n",
    "ypca = dfpca['benign']\n",
    "Xpca_tr, Xpca_ts, ypca_tr, ypca_ts = train_test_split(Xpca, ypca, test_size=.2, random_state=42)"
   ]
  },
  {
   "cell_type": "code",
   "execution_count": 81,
   "metadata": {},
   "outputs": [
    {
     "data": {
      "text/plain": [
       "GradientBoostingClassifier(ccp_alpha=0.0, criterion='friedman_mse', init=None,\n",
       "                           learning_rate=0.1, loss='deviance', max_depth=3,\n",
       "                           max_features=None, max_leaf_nodes=None,\n",
       "                           min_impurity_decrease=0.0, min_impurity_split=None,\n",
       "                           min_samples_leaf=1, min_samples_split=2,\n",
       "                           min_weight_fraction_leaf=0.0, n_estimators=100,\n",
       "                           n_iter_no_change=None, presort='deprecated',\n",
       "                           random_state=None, subsample=0.5, tol=0.0001,\n",
       "                           validation_fraction=0.1, verbose=0,\n",
       "                           warm_start=False)"
      ]
     },
     "execution_count": 81,
     "metadata": {},
     "output_type": "execute_result"
    }
   ],
   "source": [
    "gradient_pca4.fit(Xpca_tr, ypca_tr)"
   ]
  },
  {
   "cell_type": "code",
   "execution_count": 82,
   "metadata": {},
   "outputs": [
    {
     "data": {
      "text/plain": [
       "array([ 1.37782500e-01,  1.21553178e-01,  8.67195823e-02,  8.16411384e-02,\n",
       "        6.17025493e-02,  6.18634319e-02,  4.62155739e-02,  4.88547585e-02,\n",
       "        3.48408735e-02,  3.16303405e-02,  3.19257023e-02,  2.69079164e-02,\n",
       "        1.89499437e-02,  1.68106039e-02,  1.67410364e-02,  1.50027121e-02,\n",
       "        1.42257965e-02,  1.67389993e-02,  1.07091172e-02,  9.51063883e-03,\n",
       "        9.30360391e-03,  5.17298036e-03,  4.07449117e-03,  7.35846685e-03,\n",
       "        2.90584367e-03,  3.94695941e-03,  5.55905012e-03,  1.79946911e-03,\n",
       "        1.58120393e-03,  6.70521509e-03,  9.40023153e-04,  4.40355470e-03,\n",
       "        1.58547174e-04,  1.30786565e-03,  4.14005771e-03,  2.95595028e-03,\n",
       "        3.19138296e-04,  4.38958890e-04,  2.32346671e-03, -1.36611305e-04,\n",
       "        1.15531125e-03,  8.56444495e-04, -5.30528890e-04, -2.27928247e-03,\n",
       "        8.58044234e-04, -4.11100178e-04,  1.53783138e-03,  7.84675097e-04,\n",
       "        6.68567856e-04, -1.22984334e-04, -1.52288395e-04, -2.10869904e-06,\n",
       "       -1.89583064e-03, -4.74533879e-04, -2.44329980e-04, -1.11064603e-03,\n",
       "       -1.50870073e-03,  1.53283754e-04,  2.38383421e-04,  1.94350062e-04,\n",
       "        8.10921647e-05, -1.04097757e-03,  1.46421568e-04, -3.79996128e-04,\n",
       "       -1.04976602e-04, -7.11583515e-04, -9.68480702e-04, -1.13041297e-03,\n",
       "       -1.50996762e-03, -7.80316757e-04, -1.24187047e-03,  3.60566263e-04,\n",
       "       -6.67550811e-04,  8.82463131e-05, -7.87424274e-04, -1.22800497e-03,\n",
       "        2.43819087e-04,  5.12554062e-05, -1.18138734e-03, -1.04538775e-03,\n",
       "       -8.11387401e-04, -1.11249688e-03, -4.84067164e-04, -7.41793664e-04,\n",
       "       -1.58879872e-04, -2.52081842e-04, -1.00266251e-03, -4.62725160e-04,\n",
       "       -1.08017604e-03, -7.00380071e-04, -6.07126309e-04, -4.36253206e-04,\n",
       "       -8.06406142e-04, -5.50354290e-04, -3.09248469e-04, -2.28328687e-04,\n",
       "       -4.95365774e-04, -1.70580999e-04, -9.26952363e-04, -3.87540779e-04])"
      ]
     },
     "execution_count": 82,
     "metadata": {},
     "output_type": "execute_result"
    }
   ],
   "source": [
    "gradient_pca4.oob_improvement_"
   ]
  },
  {
   "cell_type": "code",
   "execution_count": 83,
   "metadata": {},
   "outputs": [
    {
     "name": "stdout",
     "output_type": "stream",
     "text": [
      "              precision    recall  f1-score   support\n",
      "\n",
      "           0       1.00      1.00      1.00       169\n",
      "           1       1.00      1.00      1.00       286\n",
      "\n",
      "    accuracy                           1.00       455\n",
      "   macro avg       1.00      1.00      1.00       455\n",
      "weighted avg       1.00      1.00      1.00       455\n",
      "\n"
     ]
    }
   ],
   "source": [
    "print(classification_report(ypca_tr, gradient_pca4.predict(Xpca_tr)))"
   ]
  },
  {
   "cell_type": "code",
   "execution_count": 84,
   "metadata": {},
   "outputs": [
    {
     "data": {
      "text/plain": [
       "array([[169,   0],\n",
       "       [  0, 286]], dtype=int64)"
      ]
     },
     "execution_count": 84,
     "metadata": {},
     "output_type": "execute_result"
    }
   ],
   "source": [
    "confusion_matrix(ypca_tr, gradient_pca4.predict(Xpca_tr))"
   ]
  },
  {
   "cell_type": "code",
   "execution_count": 85,
   "metadata": {},
   "outputs": [
    {
     "name": "stdout",
     "output_type": "stream",
     "text": [
      "              precision    recall  f1-score   support\n",
      "\n",
      "           0       0.91      0.93      0.92        43\n",
      "           1       0.96      0.94      0.95        71\n",
      "\n",
      "    accuracy                           0.94       114\n",
      "   macro avg       0.93      0.94      0.93       114\n",
      "weighted avg       0.94      0.94      0.94       114\n",
      "\n"
     ]
    }
   ],
   "source": [
    "print(classification_report(ypca_ts, gradient_pca4.predict(Xpca_ts)))"
   ]
  },
  {
   "cell_type": "code",
   "execution_count": 86,
   "metadata": {},
   "outputs": [
    {
     "data": {
      "text/plain": [
       "array([[40,  3],\n",
       "       [ 4, 67]], dtype=int64)"
      ]
     },
     "execution_count": 86,
     "metadata": {},
     "output_type": "execute_result"
    }
   ],
   "source": [
    "confusion_matrix(ypca_ts, gradient_pca4.predict(Xpca_ts))"
   ]
  },
  {
   "cell_type": "code",
   "execution_count": 88,
   "metadata": {},
   "outputs": [],
   "source": [
    "gradpcaprob1 = gradient_pca4.predict_proba(Xpca_ts)[:,1]\n",
    "fpr_grp, tpr_grp, thres_gpr = roc_curve(ypca_ts, gradpcaprob1)\n",
    "roc_auc_grp1 = auc(fpr_grp, tpr_grp)"
   ]
  },
  {
   "cell_type": "code",
   "execution_count": 89,
   "metadata": {},
   "outputs": [
    {
     "data": {
      "image/png": "[encoded data removed]",
      "text/plain": [
       "<Figure size 1152x576 with 2 Axes>"
      ]
     },
     "metadata": {
      "needs_background": "light"
     },
     "output_type": "display_data"
    },
    {
     "ename": "NotFittedError",
     "evalue": "This GradientBoostingClassifier instance is not fitted yet. Call 'fit' with appropriate arguments before using this estimator.",
     "output_type": "error",
     "traceback": [
      "\u001b[1;31m---------------------------------------------------------------------------\u001b[0m",
      "\u001b[1;31mNotFittedError\u001b[0m                            Traceback (most recent call last)",
      "\u001b[1;32m<ipython-input-89-3e27c983e93d>\u001b[0m in \u001b[0;36m<module>\u001b[1;34m\u001b[0m\n\u001b[0;32m     23\u001b[0m \u001b[0mplt\u001b[0m\u001b[1;33m.\u001b[0m\u001b[0mshow\u001b[0m\u001b[1;33m(\u001b[0m\u001b[1;33m)\u001b[0m\u001b[1;33m\u001b[0m\u001b[1;33m\u001b[0m\u001b[0m\n\u001b[0;32m     24\u001b[0m \u001b[1;33m\u001b[0m\u001b[0m\n\u001b[1;32m---> 25\u001b[1;33m \u001b[0mplot_confusion_matrix\u001b[0m\u001b[1;33m(\u001b[0m\u001b[0mgradient_pca\u001b[0m\u001b[1;33m,\u001b[0m \u001b[0mXpca_ts\u001b[0m\u001b[1;33m,\u001b[0m \u001b[0mypca_ts\u001b[0m\u001b[1;33m)\u001b[0m\u001b[1;33m\u001b[0m\u001b[1;33m\u001b[0m\u001b[0m\n\u001b[0m",
      "\u001b[1;32m~\\Anaconda3\\lib\\site-packages\\sklearn\\metrics\\_plot\\confusion_matrix.py\u001b[0m in \u001b[0;36mplot_confusion_matrix\u001b[1;34m(estimator, X, y_true, labels, sample_weight, normalize, display_labels, include_values, xticks_rotation, values_format, cmap, ax)\u001b[0m\n\u001b[0;32m    183\u001b[0m         \u001b[1;32mraise\u001b[0m \u001b[0mValueError\u001b[0m\u001b[1;33m(\u001b[0m\u001b[1;34m\"plot_confusion_matrix only supports classifiers\"\u001b[0m\u001b[1;33m)\u001b[0m\u001b[1;33m\u001b[0m\u001b[1;33m\u001b[0m\u001b[0m\n\u001b[0;32m    184\u001b[0m \u001b[1;33m\u001b[0m\u001b[0m\n\u001b[1;32m--> 185\u001b[1;33m     \u001b[0my_pred\u001b[0m \u001b[1;33m=\u001b[0m \u001b[0mestimator\u001b[0m\u001b[1;33m.\u001b[0m\u001b[0mpredict\u001b[0m\u001b[1;33m(\u001b[0m\u001b[0mX\u001b[0m\u001b[1;33m)\u001b[0m\u001b[1;33m\u001b[0m\u001b[1;33m\u001b[0m\u001b[0m\n\u001b[0m\u001b[0;32m    186\u001b[0m     cm = confusion_matrix(y_true, y_pred, sample_weight=sample_weight,\n\u001b[0;32m    187\u001b[0m                           labels=labels, normalize=normalize)\n",
      "\u001b[1;32m~\\Anaconda3\\lib\\site-packages\\sklearn\\ensemble\\_gb.py\u001b[0m in \u001b[0;36mpredict\u001b[1;34m(self, X)\u001b[0m\n\u001b[0;32m   2163\u001b[0m             \u001b[0mThe\u001b[0m \u001b[0mpredicted\u001b[0m \u001b[0mvalues\u001b[0m\u001b[1;33m.\u001b[0m\u001b[1;33m\u001b[0m\u001b[1;33m\u001b[0m\u001b[0m\n\u001b[0;32m   2164\u001b[0m         \"\"\"\n\u001b[1;32m-> 2165\u001b[1;33m         \u001b[0mraw_predictions\u001b[0m \u001b[1;33m=\u001b[0m \u001b[0mself\u001b[0m\u001b[1;33m.\u001b[0m\u001b[0mdecision_function\u001b[0m\u001b[1;33m(\u001b[0m\u001b[0mX\u001b[0m\u001b[1;33m)\u001b[0m\u001b[1;33m\u001b[0m\u001b[1;33m\u001b[0m\u001b[0m\n\u001b[0m\u001b[0;32m   2166\u001b[0m         \u001b[0mencoded_labels\u001b[0m \u001b[1;33m=\u001b[0m\u001b[0;31m \u001b[0m\u001b[0;31m\\\u001b[0m\u001b[1;33m\u001b[0m\u001b[1;33m\u001b[0m\u001b[0m\n\u001b[0;32m   2167\u001b[0m             \u001b[0mself\u001b[0m\u001b[1;33m.\u001b[0m\u001b[0mloss_\u001b[0m\u001b[1;33m.\u001b[0m\u001b[0m_raw_prediction_to_decision\u001b[0m\u001b[1;33m(\u001b[0m\u001b[0mraw_predictions\u001b[0m\u001b[1;33m)\u001b[0m\u001b[1;33m\u001b[0m\u001b[1;33m\u001b[0m\u001b[0m\n",
      "\u001b[1;32m~\\Anaconda3\\lib\\site-packages\\sklearn\\ensemble\\_gb.py\u001b[0m in \u001b[0;36mdecision_function\u001b[1;34m(self, X)\u001b[0m\n\u001b[0;32m   2119\u001b[0m         \"\"\"\n\u001b[0;32m   2120\u001b[0m         \u001b[0mX\u001b[0m \u001b[1;33m=\u001b[0m \u001b[0mcheck_array\u001b[0m\u001b[1;33m(\u001b[0m\u001b[0mX\u001b[0m\u001b[1;33m,\u001b[0m \u001b[0mdtype\u001b[0m\u001b[1;33m=\u001b[0m\u001b[0mDTYPE\u001b[0m\u001b[1;33m,\u001b[0m \u001b[0morder\u001b[0m\u001b[1;33m=\u001b[0m\u001b[1;34m\"C\"\u001b[0m\u001b[1;33m,\u001b[0m \u001b[0maccept_sparse\u001b[0m\u001b[1;33m=\u001b[0m\u001b[1;34m'csr'\u001b[0m\u001b[1;33m)\u001b[0m\u001b[1;33m\u001b[0m\u001b[1;33m\u001b[0m\u001b[0m\n\u001b[1;32m-> 2121\u001b[1;33m         \u001b[0mraw_predictions\u001b[0m \u001b[1;33m=\u001b[0m \u001b[0mself\u001b[0m\u001b[1;33m.\u001b[0m\u001b[0m_raw_predict\u001b[0m\u001b[1;33m(\u001b[0m\u001b[0mX\u001b[0m\u001b[1;33m)\u001b[0m\u001b[1;33m\u001b[0m\u001b[1;33m\u001b[0m\u001b[0m\n\u001b[0m\u001b[0;32m   2122\u001b[0m         \u001b[1;32mif\u001b[0m \u001b[0mraw_predictions\u001b[0m\u001b[1;33m.\u001b[0m\u001b[0mshape\u001b[0m\u001b[1;33m[\u001b[0m\u001b[1;36m1\u001b[0m\u001b[1;33m]\u001b[0m \u001b[1;33m==\u001b[0m \u001b[1;36m1\u001b[0m\u001b[1;33m:\u001b[0m\u001b[1;33m\u001b[0m\u001b[1;33m\u001b[0m\u001b[0m\n\u001b[0;32m   2123\u001b[0m             \u001b[1;32mreturn\u001b[0m \u001b[0mraw_predictions\u001b[0m\u001b[1;33m.\u001b[0m\u001b[0mravel\u001b[0m\u001b[1;33m(\u001b[0m\u001b[1;33m)\u001b[0m\u001b[1;33m\u001b[0m\u001b[1;33m\u001b[0m\u001b[0m\n",
      "\u001b[1;32m~\\Anaconda3\\lib\\site-packages\\sklearn\\ensemble\\_gb.py\u001b[0m in \u001b[0;36m_raw_predict\u001b[1;34m(self, X)\u001b[0m\n\u001b[0;32m   1653\u001b[0m     \u001b[1;32mdef\u001b[0m \u001b[0m_raw_predict\u001b[0m\u001b[1;33m(\u001b[0m\u001b[0mself\u001b[0m\u001b[1;33m,\u001b[0m \u001b[0mX\u001b[0m\u001b[1;33m)\u001b[0m\u001b[1;33m:\u001b[0m\u001b[1;33m\u001b[0m\u001b[1;33m\u001b[0m\u001b[0m\n\u001b[0;32m   1654\u001b[0m         \u001b[1;34m\"\"\"Return the sum of the trees raw predictions (+ init estimator).\"\"\"\u001b[0m\u001b[1;33m\u001b[0m\u001b[1;33m\u001b[0m\u001b[0m\n\u001b[1;32m-> 1655\u001b[1;33m         \u001b[0mraw_predictions\u001b[0m \u001b[1;33m=\u001b[0m \u001b[0mself\u001b[0m\u001b[1;33m.\u001b[0m\u001b[0m_raw_predict_init\u001b[0m\u001b[1;33m(\u001b[0m\u001b[0mX\u001b[0m\u001b[1;33m)\u001b[0m\u001b[1;33m\u001b[0m\u001b[1;33m\u001b[0m\u001b[0m\n\u001b[0m\u001b[0;32m   1656\u001b[0m         predict_stages(self.estimators_, X, self.learning_rate,\n\u001b[0;32m   1657\u001b[0m                        raw_predictions)\n",
      "\u001b[1;32m~\\Anaconda3\\lib\\site-packages\\sklearn\\ensemble\\_gb.py\u001b[0m in \u001b[0;36m_raw_predict_init\u001b[1;34m(self, X)\u001b[0m\n\u001b[0;32m   1638\u001b[0m     \u001b[1;32mdef\u001b[0m \u001b[0m_raw_predict_init\u001b[0m\u001b[1;33m(\u001b[0m\u001b[0mself\u001b[0m\u001b[1;33m,\u001b[0m \u001b[0mX\u001b[0m\u001b[1;33m)\u001b[0m\u001b[1;33m:\u001b[0m\u001b[1;33m\u001b[0m\u001b[1;33m\u001b[0m\u001b[0m\n\u001b[0;32m   1639\u001b[0m         \u001b[1;34m\"\"\"Check input and compute raw predictions of the init estimator.\"\"\"\u001b[0m\u001b[1;33m\u001b[0m\u001b[1;33m\u001b[0m\u001b[0m\n\u001b[1;32m-> 1640\u001b[1;33m         \u001b[0mself\u001b[0m\u001b[1;33m.\u001b[0m\u001b[0m_check_initialized\u001b[0m\u001b[1;33m(\u001b[0m\u001b[1;33m)\u001b[0m\u001b[1;33m\u001b[0m\u001b[1;33m\u001b[0m\u001b[0m\n\u001b[0m\u001b[0;32m   1641\u001b[0m         \u001b[0mX\u001b[0m \u001b[1;33m=\u001b[0m \u001b[0mself\u001b[0m\u001b[1;33m.\u001b[0m\u001b[0mestimators_\u001b[0m\u001b[1;33m[\u001b[0m\u001b[1;36m0\u001b[0m\u001b[1;33m,\u001b[0m \u001b[1;36m0\u001b[0m\u001b[1;33m]\u001b[0m\u001b[1;33m.\u001b[0m\u001b[0m_validate_X_predict\u001b[0m\u001b[1;33m(\u001b[0m\u001b[0mX\u001b[0m\u001b[1;33m,\u001b[0m \u001b[0mcheck_input\u001b[0m\u001b[1;33m=\u001b[0m\u001b[1;32mTrue\u001b[0m\u001b[1;33m)\u001b[0m\u001b[1;33m\u001b[0m\u001b[1;33m\u001b[0m\u001b[0m\n\u001b[0;32m   1642\u001b[0m         \u001b[1;32mif\u001b[0m \u001b[0mX\u001b[0m\u001b[1;33m.\u001b[0m\u001b[0mshape\u001b[0m\u001b[1;33m[\u001b[0m\u001b[1;36m1\u001b[0m\u001b[1;33m]\u001b[0m \u001b[1;33m!=\u001b[0m \u001b[0mself\u001b[0m\u001b[1;33m.\u001b[0m\u001b[0mn_features_\u001b[0m\u001b[1;33m:\u001b[0m\u001b[1;33m\u001b[0m\u001b[1;33m\u001b[0m\u001b[0m\n",
      "\u001b[1;32m~\\Anaconda3\\lib\\site-packages\\sklearn\\ensemble\\_gb.py\u001b[0m in \u001b[0;36m_check_initialized\u001b[1;34m(self)\u001b[0m\n\u001b[0;32m   1395\u001b[0m     \u001b[1;32mdef\u001b[0m \u001b[0m_check_initialized\u001b[0m\u001b[1;33m(\u001b[0m\u001b[0mself\u001b[0m\u001b[1;33m)\u001b[0m\u001b[1;33m:\u001b[0m\u001b[1;33m\u001b[0m\u001b[1;33m\u001b[0m\u001b[0m\n\u001b[0;32m   1396\u001b[0m         \u001b[1;34m\"\"\"Check that the estimator is initialized, raising an error if not.\"\"\"\u001b[0m\u001b[1;33m\u001b[0m\u001b[1;33m\u001b[0m\u001b[0m\n\u001b[1;32m-> 1397\u001b[1;33m         \u001b[0mcheck_is_fitted\u001b[0m\u001b[1;33m(\u001b[0m\u001b[0mself\u001b[0m\u001b[1;33m)\u001b[0m\u001b[1;33m\u001b[0m\u001b[1;33m\u001b[0m\u001b[0m\n\u001b[0m\u001b[0;32m   1398\u001b[0m \u001b[1;33m\u001b[0m\u001b[0m\n\u001b[0;32m   1399\u001b[0m     \u001b[1;32mdef\u001b[0m \u001b[0mfit\u001b[0m\u001b[1;33m(\u001b[0m\u001b[0mself\u001b[0m\u001b[1;33m,\u001b[0m \u001b[0mX\u001b[0m\u001b[1;33m,\u001b[0m \u001b[0my\u001b[0m\u001b[1;33m,\u001b[0m \u001b[0msample_weight\u001b[0m\u001b[1;33m=\u001b[0m\u001b[1;32mNone\u001b[0m\u001b[1;33m,\u001b[0m \u001b[0mmonitor\u001b[0m\u001b[1;33m=\u001b[0m\u001b[1;32mNone\u001b[0m\u001b[1;33m)\u001b[0m\u001b[1;33m:\u001b[0m\u001b[1;33m\u001b[0m\u001b[1;33m\u001b[0m\u001b[0m\n",
      "\u001b[1;32m~\\Anaconda3\\lib\\site-packages\\sklearn\\utils\\validation.py\u001b[0m in \u001b[0;36mcheck_is_fitted\u001b[1;34m(estimator, attributes, msg, all_or_any)\u001b[0m\n\u001b[0;32m    965\u001b[0m \u001b[1;33m\u001b[0m\u001b[0m\n\u001b[0;32m    966\u001b[0m     \u001b[1;32mif\u001b[0m \u001b[1;32mnot\u001b[0m \u001b[0mattrs\u001b[0m\u001b[1;33m:\u001b[0m\u001b[1;33m\u001b[0m\u001b[1;33m\u001b[0m\u001b[0m\n\u001b[1;32m--> 967\u001b[1;33m         \u001b[1;32mraise\u001b[0m \u001b[0mNotFittedError\u001b[0m\u001b[1;33m(\u001b[0m\u001b[0mmsg\u001b[0m \u001b[1;33m%\u001b[0m \u001b[1;33m{\u001b[0m\u001b[1;34m'name'\u001b[0m\u001b[1;33m:\u001b[0m \u001b[0mtype\u001b[0m\u001b[1;33m(\u001b[0m\u001b[0mestimator\u001b[0m\u001b[1;33m)\u001b[0m\u001b[1;33m.\u001b[0m\u001b[0m__name__\u001b[0m\u001b[1;33m}\u001b[0m\u001b[1;33m)\u001b[0m\u001b[1;33m\u001b[0m\u001b[1;33m\u001b[0m\u001b[0m\n\u001b[0m\u001b[0;32m    968\u001b[0m \u001b[1;33m\u001b[0m\u001b[0m\n\u001b[0;32m    969\u001b[0m \u001b[1;33m\u001b[0m\u001b[0m\n",
      "\u001b[1;31mNotFittedError\u001b[0m: This GradientBoostingClassifier instance is not fitted yet. Call 'fit' with appropriate arguments before using this estimator."
     ]
    }
   ],
   "source": [
    "plt.figure(figsize=(16,8))\n",
    "plt.subplot(121)\n",
    "plt.title('ROC Gradient w/o PCA')\n",
    "plt.plot(fpr_gr, tpr_gr, 'red', label = 'AUC GradientBoost:{}'.format(round(roc_auc_gr1,4)))\n",
    "plt.plot([0,1], [0,1], 'r--')\n",
    "plt.xlim([0,1])\n",
    "plt.ylim([0,1])\n",
    "plt.xlabel('False Positive Rate')\n",
    "plt.ylabel('True Positive Rate')\n",
    "plt.fill_between(fpr_gr, tpr_gr, 0, facecolor='pink', alpha=1)\n",
    "plt.legend(loc='lower right')\n",
    "\n",
    "plt.subplot(122)\n",
    "plt.title('ROC Gradient PCA')\n",
    "plt.plot(fpr_grp, tpr_grp, 'red', label = 'AUC GradientBoost PCA:{}'.format(round(roc_auc_grp1,4)))\n",
    "plt.plot([0,1], [0,1], 'r--')\n",
    "plt.xlim([0,1])\n",
    "plt.ylim([0,1])\n",
    "plt.xlabel('False Positive Rate')\n",
    "plt.ylabel('True Positive Rate')\n",
    "plt.fill_between(fpr_grp, tpr_grp, 0, facecolor='pink', alpha=1)\n",
    "plt.legend(loc='lower right')\n",
    "plt.show()\n",
    "\n",
    "plot_confusion_matrix(gradient_pca, Xpca_ts, ypca_ts)"
   ]
  },
  {
   "cell_type": "markdown",
   "metadata": {},
   "source": [
    "XGBoost\n",
    "https://www.youtube.com/watch?v=OtD8wVaFm6E&t=15s"
   ]
  },
  {
   "cell_type": "markdown",
   "metadata": {},
   "source": [
    "## Joblib"
   ]
  },
  {
   "cell_type": "code",
   "execution_count": null,
   "metadata": {},
   "outputs": [],
   "source": [
    "import joblib"
   ]
  },
  {
   "cell_type": "code",
   "execution_count": null,
   "metadata": {},
   "outputs": [],
   "source": [
    "joblib.dump(gradient, 'gbc_breast_cancer')"
   ]
  },
  {
   "cell_type": "code",
   "execution_count": null,
   "metadata": {},
   "outputs": [],
   "source": [
    "X_test"
   ]
  },
  {
   "cell_type": "code",
   "execution_count": null,
   "metadata": {},
   "outputs": [],
   "source": [
    "y_test"
   ]
  },
  {
   "cell_type": "code",
   "execution_count": null,
   "metadata": {},
   "outputs": [],
   "source": [
    "gradient.predict_proba(X_test)"
   ]
  },
  {
   "cell_type": "markdown",
   "metadata": {},
   "source": [
    "## Scaler and PCA"
   ]
  },
  {
   "cell_type": "code",
   "execution_count": 90,
   "metadata": {},
   "outputs": [
    {
     "data": {
      "text/html": [
       "<div>\n",
       "<style scoped>\n",
       "    .dataframe tbody tr th:only-of-type {\n",
       "        vertical-align: middle;\n",
       "    }\n",
       "\n",
       "    .dataframe tbody tr th {\n",
       "        vertical-align: top;\n",
       "    }\n",
       "\n",
       "    .dataframe thead th {\n",
       "        text-align: right;\n",
       "    }\n",
       "</style>\n",
       "<table border=\"1\" class=\"dataframe\">\n",
       "  <thead>\n",
       "    <tr style=\"text-align: right;\">\n",
       "      <th></th>\n",
       "      <th>worst concave points</th>\n",
       "      <th>worst perimeter</th>\n",
       "      <th>mean concave points</th>\n",
       "      <th>worst radius</th>\n",
       "      <th>mean perimeter</th>\n",
       "      <th>worst area</th>\n",
       "      <th>mean radius</th>\n",
       "      <th>mean area</th>\n",
       "      <th>mean concavity</th>\n",
       "      <th>worst concavity</th>\n",
       "    </tr>\n",
       "  </thead>\n",
       "  <tbody>\n",
       "    <tr>\n",
       "      <th>58</th>\n",
       "      <td>0.01111</td>\n",
       "      <td>90.24</td>\n",
       "      <td>0.004167</td>\n",
       "      <td>14.23</td>\n",
       "      <td>82.61</td>\n",
       "      <td>624.1</td>\n",
       "      <td>13.05</td>\n",
       "      <td>527.2</td>\n",
       "      <td>0.000692</td>\n",
       "      <td>0.001845</td>\n",
       "    </tr>\n",
       "    <tr>\n",
       "      <th>554</th>\n",
       "      <td>0.06493</td>\n",
       "      <td>88.84</td>\n",
       "      <td>0.023430</td>\n",
       "      <td>13.89</td>\n",
       "      <td>82.50</td>\n",
       "      <td>595.7</td>\n",
       "      <td>12.88</td>\n",
       "      <td>514.3</td>\n",
       "      <td>0.061950</td>\n",
       "      <td>0.243900</td>\n",
       "    </tr>\n",
       "    <tr>\n",
       "      <th>351</th>\n",
       "      <td>0.21350</td>\n",
       "      <td>119.40</td>\n",
       "      <td>0.124200</td>\n",
       "      <td>17.36</td>\n",
       "      <td>107.10</td>\n",
       "      <td>915.3</td>\n",
       "      <td>15.75</td>\n",
       "      <td>758.6</td>\n",
       "      <td>0.291400</td>\n",
       "      <td>0.687200</td>\n",
       "    </tr>\n",
       "    <tr>\n",
       "      <th>136</th>\n",
       "      <td>0.06968</td>\n",
       "      <td>86.16</td>\n",
       "      <td>0.026000</td>\n",
       "      <td>13.33</td>\n",
       "      <td>74.72</td>\n",
       "      <td>546.7</td>\n",
       "      <td>11.71</td>\n",
       "      <td>423.6</td>\n",
       "      <td>0.035920</td>\n",
       "      <td>0.104600</td>\n",
       "    </tr>\n",
       "    <tr>\n",
       "      <th>497</th>\n",
       "      <td>0.10530</td>\n",
       "      <td>92.82</td>\n",
       "      <td>0.023690</td>\n",
       "      <td>14.06</td>\n",
       "      <td>80.45</td>\n",
       "      <td>607.3</td>\n",
       "      <td>12.47</td>\n",
       "      <td>480.1</td>\n",
       "      <td>0.036090</td>\n",
       "      <td>0.202800</td>\n",
       "    </tr>\n",
       "  </tbody>\n",
       "</table>\n",
       "</div>"
      ],
      "text/plain": [
       "     worst concave points  worst perimeter  mean concave points  worst radius  \\\n",
       "58                0.01111            90.24             0.004167         14.23   \n",
       "554               0.06493            88.84             0.023430         13.89   \n",
       "351               0.21350           119.40             0.124200         17.36   \n",
       "136               0.06968            86.16             0.026000         13.33   \n",
       "497               0.10530            92.82             0.023690         14.06   \n",
       "\n",
       "     mean perimeter  worst area  mean radius  mean area  mean concavity  \\\n",
       "58            82.61       624.1        13.05      527.2        0.000692   \n",
       "554           82.50       595.7        12.88      514.3        0.061950   \n",
       "351          107.10       915.3        15.75      758.6        0.291400   \n",
       "136           74.72       546.7        11.71      423.6        0.035920   \n",
       "497           80.45       607.3        12.47      480.1        0.036090   \n",
       "\n",
       "     worst concavity  \n",
       "58          0.001845  \n",
       "554         0.243900  \n",
       "351         0.687200  \n",
       "136         0.104600  \n",
       "497         0.202800  "
      ]
     },
     "execution_count": 90,
     "metadata": {},
     "output_type": "execute_result"
    }
   ],
   "source": [
    "X_train.head()"
   ]
  },
  {
   "cell_type": "code",
   "execution_count": 91,
   "metadata": {},
   "outputs": [
    {
     "data": {
      "text/plain": [
       "58     1\n",
       "554    1\n",
       "351    0\n",
       "136    1\n",
       "497    1\n",
       "Name: benign, dtype: int32"
      ]
     },
     "execution_count": 91,
     "metadata": {},
     "output_type": "execute_result"
    }
   ],
   "source": [
    "y_train.head()"
   ]
  },
  {
   "cell_type": "code",
   "execution_count": 93,
   "metadata": {},
   "outputs": [
    {
     "data": {
      "text/plain": [
       "StandardScaler(copy=True, with_mean=True, with_std=True)"
      ]
     },
     "execution_count": 93,
     "metadata": {},
     "output_type": "execute_result"
    }
   ],
   "source": [
    "scaler = StandardScaler()\n",
    "scaler.fit(X_train)"
   ]
  },
  {
   "cell_type": "code",
   "execution_count": 94,
   "metadata": {},
   "outputs": [
    {
     "data": {
      "text/plain": [
       "array([[-1.59146871, -0.48280798, -1.17310025, ..., -0.33953374,\n",
       "        -1.13882559, -1.30960799],\n",
       "       [-0.74909183, -0.52625724, -0.65575727, ..., -0.37742115,\n",
       "        -0.31888256, -0.09447849],\n",
       "       [ 1.57628782,  0.42217817,  2.0506048 , ...,  0.34009015,\n",
       "         2.7523233 ,  2.13091205],\n",
       "       ...,\n",
       "       [-1.09828224, -0.68857129, -0.97293635, ..., -0.6514441 ,\n",
       "        -1.03691162, -1.1659591 ],\n",
       "       [-0.52480233, -0.43191026, -0.66327718, ..., -0.40091722,\n",
       "        -0.62754243, -0.44989841],\n",
       "       [-0.62872991, -1.17799624, -0.63480894, ..., -1.13076397,\n",
       "        -0.70209731, -0.81706526]])"
      ]
     },
     "execution_count": 94,
     "metadata": {},
     "output_type": "execute_result"
    }
   ],
   "source": [
    "scaled_Xtrain = scaler.transform(X_train)\n",
    "scaled_Xtrain"
   ]
  },
  {
   "cell_type": "code",
   "execution_count": 95,
   "metadata": {},
   "outputs": [
    {
     "data": {
      "text/plain": [
       "PCA(copy=True, iterated_power='auto', n_components=2, random_state=None,\n",
       "    svd_solver='auto', tol=0.0, whiten=False)"
      ]
     },
     "execution_count": 95,
     "metadata": {},
     "output_type": "execute_result"
    }
   ],
   "source": [
    "pca10 = PCA(n_components=2)\n",
    "pca10.fit(scaled_Xtrain)"
   ]
  },
  {
   "cell_type": "code",
   "execution_count": 96,
   "metadata": {},
   "outputs": [
    {
     "data": {
      "text/plain": [
       "array([8.44496475, 1.13455269])"
      ]
     },
     "execution_count": 96,
     "metadata": {},
     "output_type": "execute_result"
    }
   ],
   "source": [
    "pca10.explained_variance_"
   ]
  },
  {
   "cell_type": "code",
   "execution_count": 97,
   "metadata": {},
   "outputs": [
    {
     "data": {
      "text/plain": [
       "array([[-2.28149791e+00, -1.53506048e+00],\n",
       "       [-1.40072868e+00, -1.30322613e-02],\n",
       "       [ 3.24774593e+00,  2.88887316e+00],\n",
       "       [-2.03703909e+00, -2.59997819e-01],\n",
       "       [-1.39654747e+00, -3.86984258e-02],\n",
       "       [-1.86772525e+00,  2.17035186e-01],\n",
       "       [ 5.60547624e+00,  8.80118686e-02],\n",
       "       [-2.45831877e+00, -1.09554272e+00],\n",
       "       [-1.56194508e+00,  1.58069960e-01],\n",
       "       [ 4.46572491e+00, -2.49772048e-01],\n",
       "       [-1.62408916e+00, -7.28584165e-01],\n",
       "       [-2.13172948e+00,  2.09277550e-01],\n",
       "       [-1.33478357e+00, -8.51982700e-01],\n",
       "       [ 1.14487513e+00,  4.62435583e-01],\n",
       "       [-1.60388471e+00, -3.24152468e-02],\n",
       "       [-6.57291160e-01,  3.37227590e+00],\n",
       "       [-3.03591959e+00, -2.08492730e-01],\n",
       "       [-1.75057545e+00, -5.27490168e-01],\n",
       "       [ 3.81856741e+00, -4.37691013e-01],\n",
       "       [-1.96134822e+00,  2.56353440e-01],\n",
       "       [-1.23510730e+00, -8.64088571e-01],\n",
       "       [ 7.23894002e-01, -1.45210435e+00],\n",
       "       [-1.60988759e+00,  2.06800267e-01],\n",
       "       [-7.27410407e-01, -1.20863221e+00],\n",
       "       [-1.53377988e+00,  7.28496884e-01],\n",
       "       [-1.46102727e+00, -2.77002458e-01],\n",
       "       [ 2.10220707e+00,  2.32833954e+00],\n",
       "       [ 3.85405026e+00, -1.17204297e+00],\n",
       "       [-9.44904573e-01, -4.14765779e-01],\n",
       "       [-8.59756728e-01,  7.12260030e-01],\n",
       "       [-5.82792286e-01, -1.27073560e-01],\n",
       "       [-2.67569809e+00,  6.05326819e-01],\n",
       "       [-9.88664662e-01,  1.72330018e+00],\n",
       "       [ 8.97463108e-01,  2.80418600e-01],\n",
       "       [ 4.25116550e+00, -2.10161545e+00],\n",
       "       [-2.33649139e+00,  2.01155693e-01],\n",
       "       [ 5.66729898e-01,  1.09540136e+00],\n",
       "       [ 4.57698932e-01,  6.88729257e-01],\n",
       "       [-7.48879004e-02, -2.61854484e-01],\n",
       "       [ 5.95281178e+00,  1.27198766e+00],\n",
       "       [-4.24419202e-01, -8.52035366e-01],\n",
       "       [ 2.38675994e+00,  1.49769861e+00],\n",
       "       [ 1.59959409e+00,  2.87895339e+00],\n",
       "       [ 5.84163078e+00, -2.35010251e+00],\n",
       "       [-4.38591138e+00, -2.71068487e-01],\n",
       "       [-1.21991715e+00, -3.18877817e-01],\n",
       "       [-2.98485316e+00,  1.54284711e-01],\n",
       "       [-1.07898430e+00, -9.25887199e-01],\n",
       "       [-6.41317483e-01, -5.43095314e-01],\n",
       "       [ 4.65556061e-02,  8.45266346e-02],\n",
       "       [-3.49157102e+00, -2.15032856e-01],\n",
       "       [-1.39192830e+00,  6.68310230e-01],\n",
       "       [ 5.83245403e-02,  2.03429560e-01],\n",
       "       [ 3.88746451e-01,  3.37164862e-01],\n",
       "       [-1.51149564e+00, -7.15299689e-01],\n",
       "       [ 4.78475712e+00,  7.67433565e-02],\n",
       "       [-2.61039791e-01,  1.00337141e+00],\n",
       "       [ 5.88030170e+00, -7.60554682e-01],\n",
       "       [ 1.82706290e+00, -3.13740852e-01],\n",
       "       [-1.07177607e+00, -9.40160401e-01],\n",
       "       [-1.84087729e+00, -8.00569665e-01],\n",
       "       [-1.20914467e+00, -1.16891437e+00],\n",
       "       [-2.10438360e+00, -6.55087065e-01],\n",
       "       [-1.78901147e-01,  1.77876498e+00],\n",
       "       [-2.69333216e+00, -3.07839747e-01],\n",
       "       [-1.40547715e+00, -1.25017912e+00],\n",
       "       [-3.49323391e+00,  4.42222580e-01],\n",
       "       [ 3.55852230e-01, -1.32844974e-02],\n",
       "       [-2.29176000e+00, -2.85117326e-01],\n",
       "       [-1.80295127e+00, -1.25521162e-01],\n",
       "       [-3.47196058e+00, -9.91233371e-03],\n",
       "       [ 2.56837066e+00, -4.03811255e-01],\n",
       "       [-8.28394017e-01, -4.73578155e-01],\n",
       "       [-3.88226331e+00,  3.35008131e-01],\n",
       "       [ 2.67632707e-01,  4.14895828e-01],\n",
       "       [ 3.36080254e-01, -1.38643324e-01],\n",
       "       [-3.16776784e+00, -2.49980962e-01],\n",
       "       [ 4.30580587e+00, -9.08364275e-01],\n",
       "       [-1.64167376e+00, -3.57117987e-01],\n",
       "       [-3.38893479e+00, -7.24670395e-03],\n",
       "       [-2.35942932e+00, -1.49664928e+00],\n",
       "       [ 3.50565527e+00,  1.32046275e+00],\n",
       "       [ 3.09200542e+00,  1.44897519e-01],\n",
       "       [-4.21406161e+00,  2.96394640e-01],\n",
       "       [-2.52666143e+00, -7.28731928e-01],\n",
       "       [-2.92160386e+00,  2.52369402e-02],\n",
       "       [-5.43346703e-01, -1.25466253e+00],\n",
       "       [ 4.45758879e-01, -3.55232629e-01],\n",
       "       [-4.17805938e-01,  1.61703119e-01],\n",
       "       [-3.00202487e+00, -6.92468275e-01],\n",
       "       [ 2.51742336e+00,  5.10789278e-01],\n",
       "       [ 2.93281804e+00,  1.41077281e+00],\n",
       "       [-2.19833281e+00,  2.22693460e-01],\n",
       "       [ 3.15136082e+00, -9.22455665e-01],\n",
       "       [ 4.01898758e+00, -8.28744209e-01],\n",
       "       [ 2.70493542e+00,  2.00649498e+00],\n",
       "       [-6.61351222e-01,  3.81549267e-01],\n",
       "       [ 1.21664884e-01,  3.22752929e-01],\n",
       "       [-2.16643882e+00, -5.44438970e-01],\n",
       "       [ 4.56097386e+00, -1.88319603e-01],\n",
       "       [-2.41688645e+00,  1.07840348e-01],\n",
       "       [ 2.61611358e-02, -3.22048853e-01],\n",
       "       [ 4.90083077e+00,  5.34887934e-01],\n",
       "       [ 8.83702774e-01,  9.81127312e-01],\n",
       "       [ 6.36059272e+00, -4.85573530e-01],\n",
       "       [-3.30020330e+00,  3.44122234e-01],\n",
       "       [-1.70648984e+00, -4.60052966e-02],\n",
       "       [-3.28951677e+00, -1.00987453e+00],\n",
       "       [ 8.84332336e-01,  2.48748349e+00],\n",
       "       [-2.42540828e+00, -9.72131903e-01],\n",
       "       [-1.36658552e+00, -6.09787881e-01],\n",
       "       [-8.42740040e-01,  3.63319653e-01],\n",
       "       [ 1.99928786e-01, -3.47564138e-01],\n",
       "       [-3.31384863e+00, -2.21095427e-01],\n",
       "       [-1.48549129e+00,  3.43137664e-01],\n",
       "       [-1.14388446e+00,  4.31660114e-01],\n",
       "       [-1.87667724e+00, -7.48228999e-01],\n",
       "       [ 1.69480015e+00, -4.18187875e-01],\n",
       "       [ 3.16747734e+00, -1.74827017e-01],\n",
       "       [ 8.31093358e+00, -1.37197456e+00],\n",
       "       [-1.76207752e+00,  4.46093696e-02],\n",
       "       [-2.13552622e+00, -3.45121005e-01],\n",
       "       [ 7.52700824e+00,  2.25864008e+00],\n",
       "       [-5.31909548e-02,  2.11594362e-01],\n",
       "       [-1.95632081e+00, -3.16142736e-01],\n",
       "       [ 2.74286319e-01, -4.97400409e-01],\n",
       "       [-2.16170492e+00,  1.00486952e-01],\n",
       "       [-2.40429366e+00, -9.70914140e-01],\n",
       "       [ 4.78360818e+00,  1.18116888e+00],\n",
       "       [ 5.15929047e-01,  1.18260521e+00],\n",
       "       [ 7.24235571e+00,  7.55465372e-01],\n",
       "       [ 6.37509617e-01,  2.13900839e+00],\n",
       "       [-2.84639087e+00,  3.55133732e-01],\n",
       "       [ 1.58799775e+00,  2.75056744e-01],\n",
       "       [ 8.27189623e+00, -1.67334707e+00],\n",
       "       [-2.79828788e+00, -5.83549189e-01],\n",
       "       [-4.64472237e+00, -8.75206185e-02],\n",
       "       [ 2.92418316e+00, -1.52890192e+00],\n",
       "       [ 7.49064349e-01,  1.82286481e+00],\n",
       "       [ 6.52403315e+00, -3.04429375e+00],\n",
       "       [-2.30060149e+00,  8.87082245e-01],\n",
       "       [ 2.73073261e-01, -5.44166098e-01],\n",
       "       [-2.91747134e+00, -4.78750858e-01],\n",
       "       [ 3.47403140e+00, -7.00995204e-01],\n",
       "       [-2.08598333e+00,  2.11089279e-02],\n",
       "       [ 1.81952841e+00, -8.67706261e-01],\n",
       "       [-1.77007608e+00,  9.90817615e-01],\n",
       "       [-1.72125113e+00,  7.21868795e-01],\n",
       "       [-3.53055966e+00, -4.54853035e-01],\n",
       "       [-3.03274134e+00,  3.42679360e-01],\n",
       "       [-2.13206010e+00, -4.79731405e-01],\n",
       "       [-8.18557170e-01,  4.26486691e-01],\n",
       "       [-1.69426354e+00, -8.76300276e-01],\n",
       "       [-2.30622036e+00, -3.47566494e-01],\n",
       "       [-2.73154530e+00, -1.38195723e+00],\n",
       "       [ 2.14377325e+00,  2.62384342e-01],\n",
       "       [-1.56256810e-02,  7.38733135e-01],\n",
       "       [ 6.75013495e-01, -1.24736255e+00],\n",
       "       [ 3.09411531e+00,  3.67281263e+00],\n",
       "       [ 8.36955549e+00,  1.21482650e+00],\n",
       "       [-1.63455574e+00, -1.50658024e+00],\n",
       "       [-3.53614509e-01, -6.38313707e-01],\n",
       "       [-2.38576132e+00,  1.71453817e+00],\n",
       "       [-2.24005659e+00,  9.40517968e-02],\n",
       "       [ 2.47433246e-01,  2.09426969e-01],\n",
       "       [-3.40291283e+00, -3.94268977e-01],\n",
       "       [-1.17604217e+00, -1.28324884e+00],\n",
       "       [-5.84166305e-01,  7.79296059e-02],\n",
       "       [ 5.51820162e-01, -1.53752790e+00],\n",
       "       [-2.47191649e+00,  2.73866080e-02],\n",
       "       [ 3.99656155e-01,  2.42594815e+00],\n",
       "       [-3.53910445e+00, -4.94338722e-01],\n",
       "       [ 1.20553306e+00,  2.41331228e+00],\n",
       "       [-3.84506900e+00,  4.48560745e-01],\n",
       "       [-3.31106142e+00,  2.12429668e-01],\n",
       "       [-2.73307259e+00,  2.71263699e+00],\n",
       "       [-8.56962891e-01, -1.37409178e-01],\n",
       "       [ 3.07006071e+00,  1.29814605e+00],\n",
       "       [ 3.54041536e+00, -1.17020109e+00],\n",
       "       [ 2.78538728e+00, -1.00533093e+00],\n",
       "       [-3.80562244e-01,  6.94398788e-02],\n",
       "       [-2.06802519e+00,  3.01371794e-01],\n",
       "       [ 1.54151792e+00, -4.80091690e-01],\n",
       "       [-1.46474831e-02, -3.82087054e-01],\n",
       "       [ 2.14052941e+00,  1.95091157e+00],\n",
       "       [ 5.28689446e-01,  4.19231058e-01],\n",
       "       [-1.82860762e+00, -1.02480855e+00],\n",
       "       [-3.04957891e+00, -8.20527286e-01],\n",
       "       [ 4.18809045e+00, -1.83581854e+00],\n",
       "       [ 7.18442634e-01,  1.64885285e+00],\n",
       "       [-2.46237566e+00, -1.15133723e+00],\n",
       "       [-1.99326976e+00, -3.53384314e-01],\n",
       "       [-2.06702793e+00,  7.71860067e-02],\n",
       "       [ 4.66713119e+00, -1.22399401e+00],\n",
       "       [-2.28561410e+00,  5.65639366e-01],\n",
       "       [-2.38589294e+00, -4.01049452e-02],\n",
       "       [-1.10214851e-01, -2.68837669e-01],\n",
       "       [ 6.89101994e-01,  4.33176308e-01],\n",
       "       [ 1.21781514e+00,  5.69597483e-01],\n",
       "       [-1.37635308e+00,  7.52167093e-01],\n",
       "       [-1.18428059e+00,  8.53868538e-02],\n",
       "       [-8.84962835e-01,  3.74699884e-01],\n",
       "       [-2.02735783e+00, -3.96275508e-01],\n",
       "       [-1.78070184e+00,  1.71845174e-01],\n",
       "       [ 6.90678041e-01,  1.72076052e-01],\n",
       "       [-1.22447568e+00, -1.00174036e+00],\n",
       "       [-7.18010276e-01, -1.08700504e+00],\n",
       "       [-2.15427099e+00,  8.11481641e-01],\n",
       "       [-1.37781923e+00, -1.22385666e+00],\n",
       "       [-2.99043505e+00, -9.96127488e-01],\n",
       "       [ 4.95606478e-01,  3.96201172e+00],\n",
       "       [-3.10106952e+00, -5.02939329e-01],\n",
       "       [-1.97873505e+00, -8.33242802e-01],\n",
       "       [ 3.74471320e+00,  1.35890673e+00],\n",
       "       [-2.36578825e+00, -2.37017013e-01],\n",
       "       [-2.10474019e+00,  9.33581710e-01],\n",
       "       [-1.46688589e+00,  4.96353198e-02],\n",
       "       [ 9.60153399e-02,  1.12829644e-01],\n",
       "       [-3.07192608e+00, -4.16253984e-03],\n",
       "       [-1.34742897e+00,  1.29703638e+00],\n",
       "       [-3.42346188e+00, -9.16490307e-01],\n",
       "       [-3.20185540e+00,  9.40645856e-01],\n",
       "       [ 7.51285508e+00, -2.36852122e+00],\n",
       "       [-2.11113875e+00, -2.67344671e-01],\n",
       "       [-2.00089970e+00, -5.89842878e-01],\n",
       "       [-1.90617482e+00, -2.37765807e-01],\n",
       "       [ 2.54698458e+00,  1.18593894e-01],\n",
       "       [ 3.53527016e+00, -8.86503651e-01],\n",
       "       [ 2.66797346e+00, -3.21174095e-01],\n",
       "       [ 6.71164769e+00, -2.09250344e+00],\n",
       "       [-2.26138366e+00, -4.98769882e-01],\n",
       "       [-1.14520082e+00,  1.88523498e-01],\n",
       "       [-2.55221109e+00, -1.36350703e+00],\n",
       "       [-2.53479137e+00, -5.17345936e-01],\n",
       "       [-2.12254654e+00,  1.87005962e-01],\n",
       "       [ 8.65229181e+00, -1.60675819e+00],\n",
       "       [ 6.36089064e+00,  5.86772145e-01],\n",
       "       [-2.57796305e+00, -1.43233804e-01],\n",
       "       [ 2.61277271e+00,  1.48848462e+00],\n",
       "       [-2.20272352e+00, -7.43861947e-01],\n",
       "       [ 1.18371094e+00, -2.09447682e+00],\n",
       "       [ 3.95000058e+00, -1.51873300e+00],\n",
       "       [-1.55518617e+00, -6.75008135e-01],\n",
       "       [-2.46378838e+00, -1.34277048e+00],\n",
       "       [-1.74612699e+00,  2.92297756e+00],\n",
       "       [ 4.20774057e+00,  2.67101524e+00],\n",
       "       [-1.06775334e+00,  5.58103467e-01],\n",
       "       [-2.57972063e+00,  4.20841745e-01],\n",
       "       [-4.60432459e-01,  5.69868594e-01],\n",
       "       [ 1.77154659e+00,  2.88599861e+00],\n",
       "       [-1.98397429e+00, -1.28871884e-01],\n",
       "       [-1.58988628e+00, -3.69598649e-01],\n",
       "       [-2.68596510e+00, -7.50764042e-02],\n",
       "       [ 5.41955924e+00,  9.57622549e-01],\n",
       "       [-5.52017926e-01,  6.38801656e-01],\n",
       "       [ 4.02538115e+00, -1.91948293e-01],\n",
       "       [-1.77059139e+00, -1.08395776e+00],\n",
       "       [ 3.61057448e+00, -6.10506763e-01],\n",
       "       [-8.97782205e-01,  1.29534443e+00],\n",
       "       [-2.37231042e+00,  1.77711223e-01],\n",
       "       [-3.57878687e+00,  1.85082742e+00],\n",
       "       [-3.29204817e+00, -3.78914531e-01],\n",
       "       [-8.41213796e-01, -1.05305118e+00],\n",
       "       [-1.29507056e-01,  1.24789442e+00],\n",
       "       [-1.01939515e+00, -2.03130750e-01],\n",
       "       [-1.10121543e+00, -7.97410011e-01],\n",
       "       [-6.71652519e-01,  2.76120655e+00],\n",
       "       [-2.17030243e+00, -1.10021188e+00],\n",
       "       [ 4.22092774e+00, -3.34852316e-02],\n",
       "       [-2.62074609e+00, -5.23684759e-01],\n",
       "       [-9.64610337e-01, -1.57476447e+00],\n",
       "       [-1.41209131e+00, -1.11628168e+00],\n",
       "       [ 5.15508726e+00, -5.05064133e-01],\n",
       "       [ 1.19578376e+00,  1.82568447e+00],\n",
       "       [-4.99926382e+00,  1.46095043e-01],\n",
       "       [ 2.08445145e+00,  3.28337136e-02],\n",
       "       [-1.58060478e+00, -2.55369050e-02],\n",
       "       [-1.46269995e+00, -7.79589645e-01],\n",
       "       [-1.08079582e+00, -7.01028706e-02],\n",
       "       [ 1.54340732e+00,  1.40404846e+00],\n",
       "       [-2.08356256e+00, -3.61776828e-01],\n",
       "       [ 5.15963481e+00, -1.04323232e+00],\n",
       "       [ 3.41831835e-01,  1.62613147e+00],\n",
       "       [-2.53448161e+00,  8.29372973e-01],\n",
       "       [-1.41197857e+00, -3.76837873e-01],\n",
       "       [ 9.98750445e+00, -1.82215289e-01],\n",
       "       [ 3.08688146e+00,  9.18043395e-02],\n",
       "       [-1.26503758e-01, -4.06640077e-01],\n",
       "       [ 3.88471746e+00,  7.65805509e-01],\n",
       "       [-1.61302576e+00, -2.09004685e-01],\n",
       "       [-1.06325529e+00, -4.24096678e-01],\n",
       "       [ 3.40654420e+00, -4.22337285e-01],\n",
       "       [ 4.67904879e+00, -1.39087141e+00],\n",
       "       [-2.41170576e+00,  1.49132463e+00],\n",
       "       [-2.01528160e+00, -3.37610617e-01],\n",
       "       [-8.85989832e-01, -2.07341732e-01],\n",
       "       [-1.79772915e+00, -3.67599836e-01],\n",
       "       [ 3.80632955e-01,  3.93385889e-01],\n",
       "       [-1.18896512e+00, -8.90374596e-01],\n",
       "       [-3.36911591e+00,  3.93850980e-02],\n",
       "       [-3.62248371e+00,  2.19354524e-01],\n",
       "       [ 4.65896081e+00, -8.25066687e-01],\n",
       "       [-7.66854766e-01,  7.59854427e-01],\n",
       "       [ 4.44655115e+00, -2.49248312e-01],\n",
       "       [ 4.08403282e+00,  3.82881960e-01],\n",
       "       [ 3.84351117e-01,  3.97257832e-01],\n",
       "       [ 5.58645059e-01,  8.96060179e-01],\n",
       "       [-4.50174782e-01, -1.13789297e+00],\n",
       "       [ 1.64138803e+00,  2.91533831e+00],\n",
       "       [ 1.51493187e-01,  1.34470177e-01],\n",
       "       [-4.58010301e+00, -1.27311516e-01],\n",
       "       [ 3.97045975e+00, -2.70934246e-02],\n",
       "       [ 3.77123062e+00, -5.06390211e-01],\n",
       "       [ 1.59129011e+00, -4.17438928e-01],\n",
       "       [ 2.54136064e+00,  6.93653275e-01],\n",
       "       [-2.34658727e+00, -8.77284256e-01],\n",
       "       [ 3.90607028e+00, -1.62756512e-01],\n",
       "       [-2.92330162e+00, -3.05428849e-01],\n",
       "       [-1.19315100e+00, -5.63884968e-02],\n",
       "       [ 1.39792122e+00, -5.94559667e-01],\n",
       "       [-2.95245296e+00, -7.76915308e-01],\n",
       "       [ 1.05469859e-01,  1.84900982e-01],\n",
       "       [-5.07718070e-01,  9.35072519e-01],\n",
       "       [-1.14264848e+00,  4.41902652e-01],\n",
       "       [ 1.37091607e+00,  7.91161797e-01],\n",
       "       [-2.60426488e+00,  3.04838526e-01],\n",
       "       [ 6.72579439e-02,  8.23871785e-01],\n",
       "       [-8.68327246e-01, -6.87989254e-01],\n",
       "       [ 6.74532122e-01, -6.59621165e-01],\n",
       "       [-2.43844616e+00, -7.59356549e-01],\n",
       "       [ 7.36994729e-02,  2.27566610e+00],\n",
       "       [-1.51319744e-01,  7.49521953e-01],\n",
       "       [-2.55231839e-01, -1.20249460e+00],\n",
       "       [-1.32132005e+00, -7.21418337e-02],\n",
       "       [ 2.71295704e+00, -3.79855009e-01],\n",
       "       [ 1.56137736e+00,  7.08052772e-01],\n",
       "       [-3.10311183e+00, -9.71379887e-01],\n",
       "       [ 1.63633783e+00,  1.58997413e-01],\n",
       "       [-9.96181548e-01, -5.77218958e-01],\n",
       "       [-2.32763287e+00,  4.61800656e-02],\n",
       "       [-1.87022688e+00,  5.88786449e-01],\n",
       "       [-1.95139064e+00,  7.12862088e-01],\n",
       "       [ 4.10645012e+00, -1.01778385e-01],\n",
       "       [ 9.87039400e-01, -1.74922719e-01],\n",
       "       [ 2.05551308e-01, -3.77877884e-01],\n",
       "       [-2.09119836e+00, -1.05439970e+00],\n",
       "       [ 5.36016913e-01,  2.30295110e-01],\n",
       "       [-1.49883795e+00,  8.70052329e-02],\n",
       "       [ 5.57672234e+00, -2.44968409e-01],\n",
       "       [-1.17216897e+00, -1.03861340e+00],\n",
       "       [ 3.05757034e+00, -3.56691865e-01],\n",
       "       [-1.12987835e+00, -7.66605269e-01],\n",
       "       [-3.32829502e+00,  2.82602409e-01],\n",
       "       [-1.59504027e+00, -1.12273730e+00],\n",
       "       [-1.29348815e+00,  5.23958610e-01],\n",
       "       [-4.10578531e+00, -2.16437869e-01],\n",
       "       [-3.07631823e+00, -6.28407528e-02],\n",
       "       [-1.79752915e+00, -1.22746998e-01],\n",
       "       [-1.55009120e+00, -1.25155817e+00],\n",
       "       [ 2.63817313e+00, -9.88431220e-01],\n",
       "       [-3.27342939e+00,  9.46303852e-01],\n",
       "       [ 8.92829835e+00,  6.93295488e-01],\n",
       "       [-3.43408272e+00,  5.26515461e-01],\n",
       "       [-8.91721163e-01, -1.47169452e+00],\n",
       "       [ 2.27288244e+00, -9.19296396e-01],\n",
       "       [-1.27133737e+00, -1.31516469e+00],\n",
       "       [-1.61336083e+00, -2.33523682e-01],\n",
       "       [ 2.16430572e+00, -1.45165846e+00],\n",
       "       [ 5.00345673e+00,  4.51341496e-01],\n",
       "       [ 1.80052989e+00,  4.56712904e+00],\n",
       "       [ 2.56113554e+00, -8.96568550e-02],\n",
       "       [-1.46735572e+00, -3.26408237e-01],\n",
       "       [-2.83009522e+00, -6.16478753e-01],\n",
       "       [-1.94068899e+00, -5.82336927e-02],\n",
       "       [-2.12436407e+00, -1.49083928e+00],\n",
       "       [ 3.71439109e+00,  7.69467429e-01],\n",
       "       [ 7.37898341e-01,  1.07666833e+00],\n",
       "       [-1.98053264e+00, -1.38083337e+00],\n",
       "       [-3.37447514e+00, -4.33252037e-01],\n",
       "       [ 2.32025813e+00,  1.98253476e+00],\n",
       "       [-2.17016907e+00,  1.89239295e-01],\n",
       "       [ 6.48457368e+00,  6.09544167e-01],\n",
       "       [ 5.24963976e+00, -6.64725267e-01],\n",
       "       [ 6.35616476e-01, -8.51337629e-01],\n",
       "       [-2.11830633e+00,  9.18410025e-01],\n",
       "       [-2.02282622e+00, -3.98890306e-01],\n",
       "       [-4.45497745e+00, -2.26921948e-01],\n",
       "       [-2.48288098e+00, -2.93789519e-01],\n",
       "       [-9.38486109e-01, -3.34838171e-01],\n",
       "       [ 1.83787777e+00, -1.37577070e+00],\n",
       "       [ 3.88812233e+00, -1.98737210e+00],\n",
       "       [-3.11220127e+00,  1.26914187e+00],\n",
       "       [ 4.39477461e+00, -1.09118815e+00],\n",
       "       [ 3.93119864e-01,  3.06810212e-01],\n",
       "       [-1.60881712e+00, -1.21899278e-01],\n",
       "       [-3.16773516e+00, -4.17205890e-01],\n",
       "       [ 2.20474055e+00,  1.51703431e+00],\n",
       "       [ 8.30494563e-01,  8.37134974e-01],\n",
       "       [-1.17700235e+00, -1.59367314e+00],\n",
       "       [ 8.33844255e-01,  1.19309950e+00],\n",
       "       [ 1.10193114e+01, -1.87465637e+00],\n",
       "       [-1.93407459e+00,  1.78472285e+00],\n",
       "       [-1.03376522e-01, -5.23013524e-01],\n",
       "       [-1.46560649e+00,  6.40375100e-02],\n",
       "       [ 4.46728285e-01,  1.12209228e+00],\n",
       "       [-1.73924707e+00, -1.23255332e-01],\n",
       "       [ 9.38969086e+00, -2.64366119e+00],\n",
       "       [ 1.85243258e+00,  4.23606088e-01],\n",
       "       [-1.71453635e+00, -4.64758136e-01],\n",
       "       [ 2.71696228e+00, -1.12343327e+00],\n",
       "       [-3.47599342e+00, -7.14201911e-01],\n",
       "       [ 6.78423753e-01, -4.16829536e-01],\n",
       "       [ 6.35416251e+00,  1.73448202e+00],\n",
       "       [-1.00347317e+00,  4.54322656e-01],\n",
       "       [ 7.35261908e-02, -5.97000749e-01],\n",
       "       [-1.76140244e+00,  8.20871621e-02],\n",
       "       [-7.10564939e-02,  6.25635379e+00],\n",
       "       [ 4.30350784e+00, -1.22327183e+00],\n",
       "       [ 3.07884939e+00,  9.22251306e-01],\n",
       "       [ 4.92934580e+00,  7.47394930e-01],\n",
       "       [-3.46362678e+00,  8.90240339e-01],\n",
       "       [-3.39507285e+00, -9.60981899e-02],\n",
       "       [-9.16990410e-01, -9.20851453e-01],\n",
       "       [-4.02098015e+00, -5.23018904e-01],\n",
       "       [ 1.80774631e+00, -1.68172073e+00],\n",
       "       [ 2.66205298e+00,  1.72766698e+00],\n",
       "       [-2.94439735e+00,  2.16268373e-02],\n",
       "       [ 7.34616465e+00, -5.30736074e-01],\n",
       "       [-1.20886443e-01,  1.56514996e-01],\n",
       "       [ 2.50443150e+00,  1.15265662e+00],\n",
       "       [ 7.17500365e+00,  7.75477486e-01],\n",
       "       [-3.23765217e+00,  6.77376021e-01],\n",
       "       [-1.49093737e+00, -2.74732527e-01],\n",
       "       [-2.01502120e+00,  4.31026837e-01],\n",
       "       [ 5.15518776e+00,  1.61919849e-01],\n",
       "       [-1.67929141e+00, -4.98571207e-01],\n",
       "       [ 3.16357608e+00, -5.40514378e-01],\n",
       "       [-1.48111044e+00,  2.93882083e-01],\n",
       "       [-6.59015238e-01, -4.06422952e-02],\n",
       "       [-1.24124324e+00, -6.22820092e-02],\n",
       "       [ 4.56369478e+00, -5.77708509e-01],\n",
       "       [ 1.50497105e+00, -6.57758981e-01],\n",
       "       [-2.03216367e+00, -2.49253221e-01],\n",
       "       [-1.42508359e+00,  5.53708391e-01],\n",
       "       [ 3.87455820e-01,  4.12105942e-01],\n",
       "       [-1.12202648e+00, -6.20013075e-01],\n",
       "       [-2.19642515e+00,  3.56923892e-01],\n",
       "       [-2.62549598e+00, -9.94916978e-01],\n",
       "       [-1.01668541e+00,  6.46426400e-01],\n",
       "       [ 4.68302199e+00,  1.28250528e-01],\n",
       "       [-5.31705298e-01,  7.27240918e-02],\n",
       "       [ 3.05045174e+00, -4.83494305e-01],\n",
       "       [-2.54609742e+00, -8.27643144e-01],\n",
       "       [-1.43991983e+00, -3.30585664e-01],\n",
       "       [-3.17283648e+00,  4.68258276e-01]])"
      ]
     },
     "execution_count": 97,
     "metadata": {},
     "output_type": "execute_result"
    }
   ],
   "source": [
    "Xtrain_pca10 = pca10.transform(scaled_Xtrain)\n",
    "Xtrain_pca10"
   ]
  },
  {
   "cell_type": "code",
   "execution_count": 98,
   "metadata": {},
   "outputs": [
    {
     "data": {
      "text/plain": [
       "GradientBoostingClassifier(ccp_alpha=0.0, criterion='friedman_mse', init=None,\n",
       "                           learning_rate=0.1, loss='deviance', max_depth=3,\n",
       "                           max_features=None, max_leaf_nodes=None,\n",
       "                           min_impurity_decrease=0.0, min_impurity_split=None,\n",
       "                           min_samples_leaf=1, min_samples_split=10,\n",
       "                           min_weight_fraction_leaf=0.0, n_estimators=400,\n",
       "                           n_iter_no_change=None, presort='deprecated',\n",
       "                           random_state=None, subsample=1.0, tol=0.0001,\n",
       "                           validation_fraction=0.1, verbose=0,\n",
       "                           warm_start=False)"
      ]
     },
     "execution_count": 98,
     "metadata": {},
     "output_type": "execute_result"
    }
   ],
   "source": [
    "gr10 = GradientBoostingClassifier(n_estimators=400, min_samples_split=10)\n",
    "gr10.fit(Xtrain_pca10, y_train)"
   ]
  },
  {
   "cell_type": "code",
   "execution_count": 99,
   "metadata": {},
   "outputs": [
    {
     "name": "stdout",
     "output_type": "stream",
     "text": [
      "              precision    recall  f1-score   support\n",
      "\n",
      "           0       1.00      1.00      1.00       163\n",
      "           1       1.00      1.00      1.00       292\n",
      "\n",
      "    accuracy                           1.00       455\n",
      "   macro avg       1.00      1.00      1.00       455\n",
      "weighted avg       1.00      1.00      1.00       455\n",
      "\n"
     ]
    }
   ],
   "source": [
    "print(classification_report(y_train, gr10.predict(Xtrain_pca10)))"
   ]
  },
  {
   "cell_type": "markdown",
   "metadata": {},
   "source": [
    "## Scaled X_test"
   ]
  },
  {
   "cell_type": "code",
   "execution_count": 100,
   "metadata": {},
   "outputs": [
    {
     "data": {
      "text/plain": [
       "array([[ 4.97811818,  2.6150606 ],\n",
       "       [-0.11337506, -0.59518861],\n",
       "       [ 3.71380257, -1.71314287],\n",
       "       [-2.848922  , -0.31176695],\n",
       "       [-1.42883311,  0.71438476],\n",
       "       [-1.35588775,  0.96192608],\n",
       "       [ 1.9246153 , -1.2149131 ],\n",
       "       [ 4.65765198, -1.15820549],\n",
       "       [-0.81252337, -0.43820115],\n",
       "       [-1.6070335 ,  0.28826532],\n",
       "       [-4.20208891, -0.38388749],\n",
       "       [ 3.30918943,  0.2669841 ],\n",
       "       [ 6.77721119, -2.88632014],\n",
       "       [ 4.64927422, -0.87671295],\n",
       "       [-1.92691623, -1.61300588],\n",
       "       [ 0.49052613, -0.30412301],\n",
       "       [ 0.58166301, -0.45932919],\n",
       "       [-1.26411332, -0.70447024],\n",
       "       [-2.45423223,  1.13145063],\n",
       "       [-2.3919396 , -0.39077672],\n",
       "       [ 0.61429453, -1.4714483 ],\n",
       "       [-1.9182889 , -0.70894756],\n",
       "       [ 2.59526561,  1.71187951],\n",
       "       [ 4.89459219, -1.87212895],\n",
       "       [ 0.54828391,  2.06230902],\n",
       "       [ 3.14672655,  1.79366256],\n",
       "       [-1.9550642 ,  0.27556205],\n",
       "       [-3.57935635, -0.38349149],\n",
       "       [-1.533064  ,  0.79445967],\n",
       "       [-2.00638141, -0.4067101 ],\n",
       "       [-1.55362641,  0.35556117],\n",
       "       [-1.76095514,  0.50489397],\n",
       "       [-1.62874509, -1.58156681],\n",
       "       [ 3.24190321,  2.01956731],\n",
       "       [ 6.96293795,  2.14100695],\n",
       "       [-2.48768301, -0.49926188],\n",
       "       [-1.47017247, -0.49694759],\n",
       "       [-1.42785436, -0.19934718],\n",
       "       [-2.83820512, -0.11986464],\n",
       "       [ 9.55637717,  2.16740658],\n",
       "       [ 1.35509051,  1.00922455],\n",
       "       [-2.32038922, -0.87288257],\n",
       "       [-2.17248088,  0.64205255],\n",
       "       [ 1.84718116,  1.91942727],\n",
       "       [-1.25115322, -0.88156561],\n",
       "       [ 1.9166587 ,  1.36184275],\n",
       "       [-2.85881303, -0.52629478],\n",
       "       [-3.98798944, -0.53194913],\n",
       "       [-1.66403108,  0.68155962],\n",
       "       [-1.90484595,  1.88141781],\n",
       "       [ 0.19184384, -1.08783913],\n",
       "       [-3.8966378 , -0.59756206],\n",
       "       [-0.81008263, -0.85577631],\n",
       "       [ 1.41864568, -1.32390808],\n",
       "       [-1.39224125,  0.8384361 ],\n",
       "       [ 0.24064545,  1.48951136],\n",
       "       [-1.24735611, -0.83164287],\n",
       "       [ 1.31481583,  3.95448805],\n",
       "       [ 0.3124975 ,  5.4144296 ],\n",
       "       [-2.46012576, -0.49767852],\n",
       "       [ 6.94132531,  1.12485058],\n",
       "       [ 4.3714578 ,  0.94879828],\n",
       "       [-1.48128967,  0.37565255],\n",
       "       [-1.77314111,  0.32224295],\n",
       "       [ 3.86477698,  0.65090955],\n",
       "       [-0.98348767,  0.0666492 ],\n",
       "       [ 3.66543908, -0.55046079],\n",
       "       [11.03286135, -0.88026385],\n",
       "       [-1.41353989, -0.25247456],\n",
       "       [ 4.34528773, -1.21221016],\n",
       "       [ 5.29817239,  0.07722784],\n",
       "       [-0.94693774, -0.41830158],\n",
       "       [ 1.5283795 ,  2.71882412],\n",
       "       [ 6.86736429, -0.9705843 ],\n",
       "       [-1.97408053, -0.10774635],\n",
       "       [-1.00378859, -1.03123091],\n",
       "       [ 0.64007998, -0.81404516],\n",
       "       [ 5.0085316 , -0.56794361],\n",
       "       [ 5.16976873,  0.54823538],\n",
       "       [-1.7850469 , -0.50625592],\n",
       "       [-0.60802026, -1.07977919],\n",
       "       [ 3.52472218,  4.12783649],\n",
       "       [ 2.24961123, -0.83436485],\n",
       "       [ 2.09001077,  0.75242599],\n",
       "       [-3.06996176,  0.31280728],\n",
       "       [ 3.14707018, -0.65462415],\n",
       "       [12.799731  , -2.09765948],\n",
       "       [-2.09197638,  0.08432261],\n",
       "       [ 5.73360419, -0.8760426 ],\n",
       "       [-1.94185833,  0.27949353],\n",
       "       [-1.07371611,  1.87358678],\n",
       "       [-1.9169498 , -0.62705914],\n",
       "       [-0.55521679,  0.07904822],\n",
       "       [ 6.46849607,  0.59150168],\n",
       "       [-2.36472488, -0.22445371],\n",
       "       [ 2.16365217,  1.29389422],\n",
       "       [ 1.38944849,  0.46876724],\n",
       "       [-3.02558466, -0.74587598],\n",
       "       [ 4.80890618, -1.06310439],\n",
       "       [ 0.65746321, -0.22742558],\n",
       "       [ 2.73922495,  2.24044542],\n",
       "       [ 5.50517112, -0.07091251],\n",
       "       [-2.66650489, -1.0880617 ],\n",
       "       [-1.84702252, -0.60962896],\n",
       "       [-0.29482405, -0.79915984],\n",
       "       [-1.40098548, -1.28629871],\n",
       "       [-3.28534472,  0.0619178 ],\n",
       "       [ 0.70617229, -0.62541208],\n",
       "       [-3.48742817, -0.87255536],\n",
       "       [-3.08588254,  0.12752528],\n",
       "       [ 0.88656518, -2.10922858],\n",
       "       [-1.90182962, -0.80706277],\n",
       "       [ 3.48583532, -0.69464131],\n",
       "       [-2.99214712,  0.14459464]])"
      ]
     },
     "execution_count": 100,
     "metadata": {},
     "output_type": "execute_result"
    }
   ],
   "source": [
    "scaled_Xtest = scaler.transform(X_test)\n",
    "Xtest_pca10 = pca10.transform(scaled_Xtest)\n",
    "Xtest_pca10"
   ]
  },
  {
   "cell_type": "code",
   "execution_count": 101,
   "metadata": {},
   "outputs": [
    {
     "name": "stdout",
     "output_type": "stream",
     "text": [
      "              precision    recall  f1-score   support\n",
      "\n",
      "           0       0.94      0.92      0.93        49\n",
      "           1       0.94      0.95      0.95        65\n",
      "\n",
      "    accuracy                           0.94       114\n",
      "   macro avg       0.94      0.94      0.94       114\n",
      "weighted avg       0.94      0.94      0.94       114\n",
      "\n"
     ]
    }
   ],
   "source": [
    "print(classification_report(y_test, gr10.predict(Xtest_pca10)))"
   ]
  },
  {
   "cell_type": "code",
   "execution_count": 103,
   "metadata": {},
   "outputs": [
    {
     "name": "stdout",
     "output_type": "stream",
     "text": [
      "              precision    recall  f1-score   support\n",
      "\n",
      "           0       0.98      0.96      0.97        49\n",
      "           1       0.97      0.98      0.98        65\n",
      "\n",
      "    accuracy                           0.97       114\n",
      "   macro avg       0.97      0.97      0.97       114\n",
      "weighted avg       0.97      0.97      0.97       114\n",
      "\n"
     ]
    }
   ],
   "source": [
    "print(classification_report(y_test, gradient.predict(X_test)))"
   ]
  },
  {
   "cell_type": "code",
   "execution_count": 105,
   "metadata": {},
   "outputs": [
    {
     "data": {
      "text/plain": [
       "['gr10']"
      ]
     },
     "execution_count": 105,
     "metadata": {},
     "output_type": "execute_result"
    }
   ],
   "source": [
    "import joblib\n",
    "joblib.dump(scaler, \"scalerbreast10\")\n",
    "joblib.dump(pca10, \"pcabreast10\")\n",
    "joblib.dump(gr10, \"gr10\")"
   ]
  },
  {
   "cell_type": "code",
   "execution_count": 106,
   "metadata": {},
   "outputs": [
    {
     "data": {
      "text/html": [
       "<div>\n",
       "<style scoped>\n",
       "    .dataframe tbody tr th:only-of-type {\n",
       "        vertical-align: middle;\n",
       "    }\n",
       "\n",
       "    .dataframe tbody tr th {\n",
       "        vertical-align: top;\n",
       "    }\n",
       "\n",
       "    .dataframe thead th {\n",
       "        text-align: right;\n",
       "    }\n",
       "</style>\n",
       "<table border=\"1\" class=\"dataframe\">\n",
       "  <thead>\n",
       "    <tr style=\"text-align: right;\">\n",
       "      <th></th>\n",
       "      <th>worst concave points</th>\n",
       "      <th>worst perimeter</th>\n",
       "      <th>mean concave points</th>\n",
       "      <th>worst radius</th>\n",
       "      <th>mean perimeter</th>\n",
       "      <th>worst area</th>\n",
       "      <th>mean radius</th>\n",
       "      <th>mean area</th>\n",
       "      <th>mean concavity</th>\n",
       "      <th>worst concavity</th>\n",
       "    </tr>\n",
       "  </thead>\n",
       "  <tbody>\n",
       "    <tr>\n",
       "      <th>400</th>\n",
       "      <td>0.19640</td>\n",
       "      <td>149.60</td>\n",
       "      <td>0.11980</td>\n",
       "      <td>20.80</td>\n",
       "      <td>124.40</td>\n",
       "      <td>1304.0</td>\n",
       "      <td>17.910</td>\n",
       "      <td>994.0</td>\n",
       "      <td>0.31890</td>\n",
       "      <td>0.90340</td>\n",
       "    </tr>\n",
       "    <tr>\n",
       "      <th>225</th>\n",
       "      <td>0.10870</td>\n",
       "      <td>110.40</td>\n",
       "      <td>0.04603</td>\n",
       "      <td>16.77</td>\n",
       "      <td>92.51</td>\n",
       "      <td>873.2</td>\n",
       "      <td>14.340</td>\n",
       "      <td>641.2</td>\n",
       "      <td>0.05724</td>\n",
       "      <td>0.16320</td>\n",
       "    </tr>\n",
       "    <tr>\n",
       "      <th>321</th>\n",
       "      <td>0.14250</td>\n",
       "      <td>150.20</td>\n",
       "      <td>0.07726</td>\n",
       "      <td>23.06</td>\n",
       "      <td>131.10</td>\n",
       "      <td>1657.0</td>\n",
       "      <td>20.160</td>\n",
       "      <td>1274.0</td>\n",
       "      <td>0.11550</td>\n",
       "      <td>0.26060</td>\n",
       "    </tr>\n",
       "    <tr>\n",
       "      <th>173</th>\n",
       "      <td>0.04306</td>\n",
       "      <td>72.01</td>\n",
       "      <td>0.02583</td>\n",
       "      <td>11.35</td>\n",
       "      <td>70.21</td>\n",
       "      <td>396.5</td>\n",
       "      <td>11.080</td>\n",
       "      <td>372.7</td>\n",
       "      <td>0.02363</td>\n",
       "      <td>0.03938</td>\n",
       "    </tr>\n",
       "    <tr>\n",
       "      <th>506</th>\n",
       "      <td>0.08088</td>\n",
       "      <td>85.13</td>\n",
       "      <td>0.02166</td>\n",
       "      <td>13.16</td>\n",
       "      <td>79.47</td>\n",
       "      <td>515.3</td>\n",
       "      <td>12.220</td>\n",
       "      <td>453.1</td>\n",
       "      <td>0.08175</td>\n",
       "      <td>0.35350</td>\n",
       "    </tr>\n",
       "    <tr>\n",
       "      <th>...</th>\n",
       "      <td>...</td>\n",
       "      <td>...</td>\n",
       "      <td>...</td>\n",
       "      <td>...</td>\n",
       "      <td>...</td>\n",
       "      <td>...</td>\n",
       "      <td>...</td>\n",
       "      <td>...</td>\n",
       "      <td>...</td>\n",
       "      <td>...</td>\n",
       "    </tr>\n",
       "    <tr>\n",
       "      <th>359</th>\n",
       "      <td>0.05052</td>\n",
       "      <td>75.79</td>\n",
       "      <td>0.01406</td>\n",
       "      <td>12.02</td>\n",
       "      <td>59.82</td>\n",
       "      <td>439.6</td>\n",
       "      <td>9.436</td>\n",
       "      <td>278.6</td>\n",
       "      <td>0.02710</td>\n",
       "      <td>0.11440</td>\n",
       "    </tr>\n",
       "    <tr>\n",
       "      <th>261</th>\n",
       "      <td>0.08235</td>\n",
       "      <td>128.20</td>\n",
       "      <td>0.02837</td>\n",
       "      <td>19.85</td>\n",
       "      <td>111.00</td>\n",
       "      <td>1218.0</td>\n",
       "      <td>17.350</td>\n",
       "      <td>933.1</td>\n",
       "      <td>0.02891</td>\n",
       "      <td>0.12110</td>\n",
       "    </tr>\n",
       "    <tr>\n",
       "      <th>37</th>\n",
       "      <td>0.05013</td>\n",
       "      <td>84.46</td>\n",
       "      <td>0.02923</td>\n",
       "      <td>13.30</td>\n",
       "      <td>82.61</td>\n",
       "      <td>545.9</td>\n",
       "      <td>13.030</td>\n",
       "      <td>523.8</td>\n",
       "      <td>0.02562</td>\n",
       "      <td>0.04833</td>\n",
       "    </tr>\n",
       "    <tr>\n",
       "      <th>6</th>\n",
       "      <td>0.19320</td>\n",
       "      <td>153.20</td>\n",
       "      <td>0.07400</td>\n",
       "      <td>22.88</td>\n",
       "      <td>119.60</td>\n",
       "      <td>1606.0</td>\n",
       "      <td>18.250</td>\n",
       "      <td>1040.0</td>\n",
       "      <td>0.11270</td>\n",
       "      <td>0.37840</td>\n",
       "    </tr>\n",
       "    <tr>\n",
       "      <th>524</th>\n",
       "      <td>0.06528</td>\n",
       "      <td>74.32</td>\n",
       "      <td>0.02416</td>\n",
       "      <td>11.24</td>\n",
       "      <td>63.00</td>\n",
       "      <td>376.5</td>\n",
       "      <td>9.847</td>\n",
       "      <td>293.2</td>\n",
       "      <td>0.02330</td>\n",
       "      <td>0.08434</td>\n",
       "    </tr>\n",
       "  </tbody>\n",
       "</table>\n",
       "<p>114 rows × 10 columns</p>\n",
       "</div>"
      ],
      "text/plain": [
       "     worst concave points  worst perimeter  mean concave points  worst radius  \\\n",
       "400               0.19640           149.60              0.11980         20.80   \n",
       "225               0.10870           110.40              0.04603         16.77   \n",
       "321               0.14250           150.20              0.07726         23.06   \n",
       "173               0.04306            72.01              0.02583         11.35   \n",
       "506               0.08088            85.13              0.02166         13.16   \n",
       "..                    ...              ...                  ...           ...   \n",
       "359               0.05052            75.79              0.01406         12.02   \n",
       "261               0.08235           128.20              0.02837         19.85   \n",
       "37                0.05013            84.46              0.02923         13.30   \n",
       "6                 0.19320           153.20              0.07400         22.88   \n",
       "524               0.06528            74.32              0.02416         11.24   \n",
       "\n",
       "     mean perimeter  worst area  mean radius  mean area  mean concavity  \\\n",
       "400          124.40      1304.0       17.910      994.0         0.31890   \n",
       "225           92.51       873.2       14.340      641.2         0.05724   \n",
       "321          131.10      1657.0       20.160     1274.0         0.11550   \n",
       "173           70.21       396.5       11.080      372.7         0.02363   \n",
       "506           79.47       515.3       12.220      453.1         0.08175   \n",
       "..              ...         ...          ...        ...             ...   \n",
       "359           59.82       439.6        9.436      278.6         0.02710   \n",
       "261          111.00      1218.0       17.350      933.1         0.02891   \n",
       "37            82.61       545.9       13.030      523.8         0.02562   \n",
       "6            119.60      1606.0       18.250     1040.0         0.11270   \n",
       "524           63.00       376.5        9.847      293.2         0.02330   \n",
       "\n",
       "     worst concavity  \n",
       "400          0.90340  \n",
       "225          0.16320  \n",
       "321          0.26060  \n",
       "173          0.03938  \n",
       "506          0.35350  \n",
       "..               ...  \n",
       "359          0.11440  \n",
       "261          0.12110  \n",
       "37           0.04833  \n",
       "6            0.37840  \n",
       "524          0.08434  \n",
       "\n",
       "[114 rows x 10 columns]"
      ]
     },
     "execution_count": 106,
     "metadata": {},
     "output_type": "execute_result"
    }
   ],
   "source": [
    "X_test"
   ]
  },
  {
   "cell_type": "code",
   "execution_count": 107,
   "metadata": {},
   "outputs": [
    {
     "data": {
      "text/plain": [
       "400    0\n",
       "225    1\n",
       "321    0\n",
       "173    1\n",
       "506    1\n",
       "      ..\n",
       "359    1\n",
       "261    0\n",
       "37     1\n",
       "6      0\n",
       "524    1\n",
       "Name: benign, Length: 114, dtype: int32"
      ]
     },
     "execution_count": 107,
     "metadata": {},
     "output_type": "execute_result"
    }
   ],
   "source": [
    "y_test"
   ]
  },
  {
   "cell_type": "code",
   "execution_count": null,
   "metadata": {},
   "outputs": [],
   "source": []
  }
 ],
 "metadata": {
  "kernelspec": {
   "display_name": "Python 3",
   "language": "python",
   "name": "python3"
  },
  "language_info": {
   "codemirror_mode": {
    "name": "ipython",
    "version": 3
   },
   "file_extension": ".py",
   "mimetype": "text/x-python",
   "name": "python",
   "nbconvert_exporter": "python",
   "pygments_lexer": "ipython3",
   "version": "3.7.4"
  }
 },
 "nbformat": 4,
 "nbformat_minor": 4
}
